{
 "cells": [
  {
   "cell_type": "markdown",
   "metadata": {},
   "source": [
    "# A demonstration of how to use the MS2LDA annotation function"
   ]
  },
  {
   "cell_type": "code",
   "execution_count": 1,
   "metadata": {
    "collapsed": false,
    "scrolled": true
   },
   "outputs": [],
   "source": [
    "%load_ext autoreload\n",
    "%autoreload 2\n",
    "%matplotlib inline\n",
    "\n",
    "import sys\n",
    "basedir = '/Users/joewandy/git/ms2ldaviz/ms2ldaviz/'\n",
    "sys.path.append(basedir)\n",
    "\n",
    "import annotation.annotate_methods as annot"
   ]
  },
  {
   "cell_type": "markdown",
   "metadata": {
    "collapsed": true
   },
   "source": [
    "### Batch spectra annotation"
   ]
  },
  {
   "cell_type": "markdown",
   "metadata": {},
   "source": [
    "Prepare some example spectra"
   ]
  },
  {
   "cell_type": "code",
   "execution_count": 2,
   "metadata": {
    "collapsed": false
   },
   "outputs": [],
   "source": [
    "parentmass_1 = 282.1194\n",
    "spectrum_1 = [\n",
    "    (55.0294, 1621769.0), \n",
    "    (57.0450, 1439267.4),\n",
    "    (82.0399, 2838900.0),\n",
    "    (92.0243, 1328631.9),  \n",
    "    (94.0398, 3758106.0),\n",
    "    (106.0400, 1654438.4),  \n",
    "    (108.0431, 1235484.9),  \n",
    "    (108.0552, 1236242.4),\n",
    "    (109.0509, 9854405.0),  \n",
    "    (119.0351, 3175437.8),  \n",
    "    (123.0665, 1405464.4),  \n",
    "    (133.0509, 8247930.5),  \n",
    "    (135.0538, 2464020.5),\n",
    "    (150.0774, 152486528.0),\n",
    "    (282.1199, 1746824.8),\n",
    "]\n",
    "\n",
    "# should see adenine substructure here\n",
    "parentmass_2 = 382.1357\n",
    "spectrum_2 = [\n",
    "    (67.0544, 26619.8), \n",
    "    (94.0400, 29748.1), \n",
    "    (95.0490, 22403.4), \n",
    "    (119.0352, 120205.6), \n",
    "    (136.0618, 1572447.9), \n",
    "    (137.0458, 79233.2), \n",
    "    (188.1280, 44683.2), \n",
    "]\n",
    "\n",
    "spectra = {\n",
    "    parentmass_1: spectrum_1,\n",
    "    parentmass_2: spectrum_2\n",
    "}\n",
    "db_name = 'MASSBANK' # either 'MASSBANK' or 'GNPS'\n",
    "# db_name = 'GNPS' # either 'MASSBANK' or 'GNPS'"
   ]
  },
  {
   "cell_type": "markdown",
   "metadata": {},
   "source": [
    "Call the batch annotation function on these spectra"
   ]
  },
  {
   "cell_type": "code",
   "execution_count": 3,
   "metadata": {
    "collapsed": false
   },
   "outputs": [],
   "source": [
    "results = annot.batch_annotate(spectra, db_name)"
   ]
  },
  {
   "cell_type": "markdown",
   "metadata": {},
   "source": [
    "Annotation results are produced as a JSON object, which can be converted into a dictionary. The keys are:\n",
    "- A status field ('status')\n",
    "- The parent masses for each spectrum"
   ]
  },
  {
   "cell_type": "code",
   "execution_count": 4,
   "metadata": {
    "collapsed": false
   },
   "outputs": [
    {
     "name": "stdout",
     "output_type": "stream",
     "text": [
      "status  -->  OK\n",
      "382.1357  -->  [u'sub_term_probs', u'loss_match', u'taxa_term_probs', u'fragment_match', u'fragment_intensity_match', u'motif_theta_overlap', u'loss_intensity_match']\n",
      "282.1194  -->  [u'sub_term_probs', u'loss_match', u'taxa_term_probs', u'fragment_match', u'fragment_intensity_match', u'motif_theta_overlap', u'loss_intensity_match']\n"
     ]
    }
   ],
   "source": [
    "for key in results:\n",
    "    if key == 'status':\n",
    "        print key, ' --> ', results[key]\n",
    "    else:\n",
    "        print key, ' --> ', results[key].keys()"
   ]
  },
  {
   "cell_type": "markdown",
   "metadata": {},
   "source": [
    "Here we retrieve the annotation result for the first spectra"
   ]
  },
  {
   "cell_type": "code",
   "execution_count": 5,
   "metadata": {
    "collapsed": false
   },
   "outputs": [
    {
     "name": "stdout",
     "output_type": "stream",
     "text": [
      "282.1194\n"
     ]
    }
   ],
   "source": [
    "first = str(results.keys()[2])\n",
    "spectra_annotations = results[first]\n",
    "print first"
   ]
  },
  {
   "cell_type": "markdown",
   "metadata": {},
   "source": [
    "Print how many fragment and loss features can be matched for the annotation of that spectra"
   ]
  },
  {
   "cell_type": "code",
   "execution_count": 6,
   "metadata": {
    "collapsed": false
   },
   "outputs": [
    {
     "name": "stdout",
     "output_type": "stream",
     "text": [
      "13\n",
      "11\n"
     ]
    }
   ],
   "source": [
    "print spectra_annotations['fragment_match']\n",
    "print spectra_annotations['loss_match']"
   ]
  },
  {
   "cell_type": "markdown",
   "metadata": {},
   "source": [
    "Print the taxonomy terms for this spectra with probability > 0.5"
   ]
  },
  {
   "cell_type": "code",
   "execution_count": 7,
   "metadata": {
    "collapsed": false
   },
   "outputs": [
    {
     "name": "stdout",
     "output_type": "stream",
     "text": [
      "Organic compounds 0.942111481445\n",
      "Chemical entities 0.642534684883\n"
     ]
    }
   ],
   "source": [
    "for taxa_term, prob in spectra_annotations['taxa_term_probs']:\n",
    "    if prob > 0.5:\n",
    "        print taxa_term, prob"
   ]
  },
  {
   "cell_type": "markdown",
   "metadata": {},
   "source": [
    "Print the substituent terms for this spectra with probability > 0.5"
   ]
  },
  {
   "cell_type": "code",
   "execution_count": 8,
   "metadata": {
    "collapsed": false
   },
   "outputs": [
    {
     "name": "stdout",
     "output_type": "stream",
     "text": [
      "Hydrocarbon derivative 0.942112752614\n",
      "Organooxygen compound 0.914505774734\n",
      "Organic oxygen compound 0.91396304375\n",
      "Azacycle 0.803701133233\n",
      "Heteroaromatic compound 0.79799235299\n",
      "Organonitrogen compound 0.792012537802\n",
      "Organic nitrogen compound 0.791767736784\n",
      "Organopnictogen compound 0.771861894106\n",
      "Aromatic heteropolycyclic compound 0.66936486296\n",
      "Azole 0.651194199143\n",
      "Pyrimidine 0.649651442994\n",
      "Oxacycle 0.629137459498\n",
      "Imidolactam 0.58782404204\n",
      "Organoheterocyclic compound 0.517486236384\n"
     ]
    }
   ],
   "source": [
    "for taxa_term, prob in spectra_annotations['sub_term_probs']:\n",
    "    if prob > 0.5:\n",
    "        print taxa_term, prob"
   ]
  },
  {
   "cell_type": "markdown",
   "metadata": {},
   "source": [
    "Print the Mass2Motif annotations for this spectra with probability > 0.01"
   ]
  },
  {
   "cell_type": "code",
   "execution_count": 9,
   "metadata": {
    "collapsed": false
   },
   "outputs": [
    {
     "name": "stdout",
     "output_type": "stream",
     "text": [
      "motif_126 None 0.0219303194989 0.0601832876239\n",
      "motif_204 None 0.0256772367995 0.0238084786768\n",
      "motif_209 None 0.0292949560077 0.0148136916315\n",
      "motif_23 [Pentose (C5-sugar)-H2O] related loss –  indicative for conjugated pentose sugar - EF fits 0.406109737823 1.0\n",
      "motif_231 None 0.0109650855138 0.00976855670289\n",
      "motif_39 Fragments indicative adenine (C5H6N5) substructure 0.0659020425061 0.041003574207\n",
      "motif_45 None 0.4061083935 0.00173971685779\n"
     ]
    }
   ],
   "source": [
    "for motif, annotation, theta, overlap in spectra_annotations['motif_theta_overlap']:\n",
    "    if theta > 0.01:\n",
    "        print motif, annotation, theta, overlap"
   ]
  },
  {
   "cell_type": "code",
   "execution_count": null,
   "metadata": {
    "collapsed": true
   },
   "outputs": [],
   "source": []
  }
 ],
 "metadata": {
  "anaconda-cloud": {},
  "kernelspec": {
   "display_name": "Python [default]",
   "language": "python",
   "name": "python2"
  },
  "language_info": {
   "codemirror_mode": {
    "name": "ipython",
    "version": 2
   },
   "file_extension": ".py",
   "mimetype": "text/x-python",
   "name": "python",
   "nbconvert_exporter": "python",
   "pygments_lexer": "ipython2",
   "version": "2.7.12"
  }
 },
 "nbformat": 4,
 "nbformat_minor": 1
}
