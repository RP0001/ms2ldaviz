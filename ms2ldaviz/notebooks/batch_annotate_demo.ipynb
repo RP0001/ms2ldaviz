{
 "cells": [
  {
   "cell_type": "markdown",
   "metadata": {},
   "source": [
    "# A demonstration of how to use the MS2LDA annotation function"
   ]
  },
  {
   "cell_type": "code",
   "execution_count": 1,
   "metadata": {
    "collapsed": false,
    "scrolled": true
   },
   "outputs": [],
   "source": [
    "%load_ext autoreload\n",
    "%autoreload 2\n",
    "%matplotlib inline\n",
    "\n",
    "import sys\n",
    "basedir = '/Users/joewandy/git/ms2ldaviz/ms2ldaviz/'\n",
    "sys.path.append(basedir)\n",
    "\n",
    "import annotation.annotate_methods as annot"
   ]
  },
  {
   "cell_type": "markdown",
   "metadata": {
    "collapsed": true
   },
   "source": [
    "### Batch spectra annotation"
   ]
  },
  {
   "cell_type": "markdown",
   "metadata": {},
   "source": [
    "Prepare some example spectra"
   ]
  },
  {
   "cell_type": "code",
   "execution_count": 2,
   "metadata": {
    "collapsed": true
   },
   "outputs": [],
   "source": [
    "parentmass_1 = 188.0818\n",
    "spectrum_1 = [ # (mz, intensity)\n",
    "    (53.0384, 331117.7), \n",
    "    (57.0447, 798106.4), \n",
    "    (65.0386, 633125.7), \n",
    "    (77.0385, 5916789.799999999), \n",
    "    (81.0334, 27067.0), \n",
    "    (85.0396, 740633.6), \n",
    "    (91.0542, 1251226.7000000002), \n",
    "    (92.0492, 2928042.3), \n",
    "    (95.0493, 728877.1), \n",
    "    (103.0419, 59138.40000000001), \n",
    "]\n",
    "\n",
    "parentmass_2 = 188.0819\n",
    "spectrum_2 = [ # (mz, intensity)\n",
    "    (104.0495, 13185144.700000001), \n",
    "    (105.045, 1643858.5999999999), \n",
    "    (105.0701, 129215.0), \n",
    "    (110.06, 46285.0), \n",
    "    (119.0604, 12584552.9), \n",
    "    (130.04, 33153.3), \n",
    "    (130.0652, 270688.7), \n",
    "    (131.0725, 203663.6), \n",
    "    (131.0734, 45999.7), \n",
    "    (142.0653, 20711.1), \n",
    "    (147.0555, 63444.99999999999), \n",
    "    (160.0871, 61955089.8), \n",
    "    (188.082, 86709805.39999999),\n",
    "]\n",
    "\n",
    "spectra = {\n",
    "    parentmass_1: spectrum_1,\n",
    "    parentmass_2: spectrum_2\n",
    "}\n",
    "db_name = 'MASSBANK' # either 'MASSBANK' or 'GNPS'"
   ]
  },
  {
   "cell_type": "markdown",
   "metadata": {},
   "source": [
    "Call the batch annotation function on these spectra"
   ]
  },
  {
   "cell_type": "code",
   "execution_count": 3,
   "metadata": {
    "collapsed": false
   },
   "outputs": [],
   "source": [
    "results = annot.batch_annotate(spectra, db_name)"
   ]
  },
  {
   "cell_type": "markdown",
   "metadata": {},
   "source": [
    "Annotation results are produced as a JSON object, which can be converted into a dictionary. The keys are:\n",
    "- A status field ('status')\n",
    "- The parent masses for each spectrum"
   ]
  },
  {
   "cell_type": "code",
   "execution_count": 18,
   "metadata": {
    "collapsed": false
   },
   "outputs": [
    {
     "name": "stdout",
     "output_type": "stream",
     "text": [
      "status  -->  OK\n",
      "188.0818  -->  [u'sub_term_probs', u'loss_match', u'taxa_term_probs', u'fragment_match', u'fragment_intensity_match', u'motif_theta_overlap', u'loss_intensity_match']\n",
      "188.0819  -->  [u'sub_term_probs', u'loss_match', u'taxa_term_probs', u'fragment_match', u'fragment_intensity_match', u'motif_theta_overlap', u'loss_intensity_match']\n"
     ]
    }
   ],
   "source": [
    "for key in results:\n",
    "    if key == 'status':\n",
    "        print key, ' --> ', results[key]\n",
    "    else:\n",
    "        print key, ' --> ', results[key].keys()"
   ]
  },
  {
   "cell_type": "markdown",
   "metadata": {},
   "source": [
    "Here we retrieve the annotation result for the first spectra"
   ]
  },
  {
   "cell_type": "code",
   "execution_count": 24,
   "metadata": {
    "collapsed": false
   },
   "outputs": [
    {
     "name": "stdout",
     "output_type": "stream",
     "text": [
      "188.0818\n"
     ]
    }
   ],
   "source": [
    "first = str(results.keys()[1])\n",
    "spectra_annotations = results[first]\n",
    "print first"
   ]
  },
  {
   "cell_type": "markdown",
   "metadata": {},
   "source": [
    "Print how many fragment and loss features can be matched for the annotation of that spectra"
   ]
  },
  {
   "cell_type": "code",
   "execution_count": 25,
   "metadata": {
    "collapsed": false
   },
   "outputs": [
    {
     "name": "stdout",
     "output_type": "stream",
     "text": [
      "10\n",
      "9\n"
     ]
    }
   ],
   "source": [
    "print spectra_annotations['fragment_match']\n",
    "print spectra_annotations['loss_match']"
   ]
  },
  {
   "cell_type": "markdown",
   "metadata": {},
   "source": [
    "Print the taxonomy terms for this spectra with probability > 0.5"
   ]
  },
  {
   "cell_type": "code",
   "execution_count": 26,
   "metadata": {
    "collapsed": false
   },
   "outputs": [
    {
     "name": "stdout",
     "output_type": "stream",
     "text": [
      "Organic compounds 0.933499434497\n",
      "Chemical entities 0.910921259107\n",
      "Benzene and substituted derivatives 0.566497071138\n",
      "Benzenoids 0.562529969786\n"
     ]
    }
   ],
   "source": [
    "for taxa_term, prob in spectra_annotations['taxa_term_probs']:\n",
    "    if prob > 0.5:\n",
    "        print taxa_term, prob"
   ]
  },
  {
   "cell_type": "markdown",
   "metadata": {},
   "source": [
    "Print the substituent terms for this spectra with probability > 0.5"
   ]
  },
  {
   "cell_type": "code",
   "execution_count": 27,
   "metadata": {
    "collapsed": false
   },
   "outputs": [
    {
     "name": "stdout",
     "output_type": "stream",
     "text": [
      "Hydrocarbon derivative 0.933512461786\n",
      "Organic oxygen compound 0.917048996931\n",
      "Organooxygen compound 0.898785933371\n",
      "Organic nitrogen compound 0.813150955338\n",
      "Organonitrogen compound 0.809181461392\n",
      "Organopnictogen compound 0.793502131819\n",
      "Heteroaromatic compound 0.748388579402\n",
      "Azacycle 0.7337791077\n",
      "Organic oxide 0.61644026113\n",
      "Organoheterocyclic compound 0.572521216292\n",
      "Aromatic heteromonocyclic compound 0.543394632553\n"
     ]
    }
   ],
   "source": [
    "for taxa_term, prob in spectra_annotations['sub_term_probs']:\n",
    "    if prob > 0.5:\n",
    "        print taxa_term, prob"
   ]
  },
  {
   "cell_type": "markdown",
   "metadata": {},
   "source": [
    "Print the Mass2Motif annotations for this spectra with probability > 0.01"
   ]
  },
  {
   "cell_type": "code",
   "execution_count": 28,
   "metadata": {
    "collapsed": false
   },
   "outputs": [
    {
     "name": "stdout",
     "output_type": "stream",
     "text": [
      "motif_114 None 0.244657340325 0.261738998436\n",
      "motif_174 None 0.0125941543502 0.00264190826521\n",
      "motif_204 None 0.0265024721067 0.0217700890222\n",
      "motif_235 None 0.0842219795498 0.0172562882952\n",
      "motif_270 None 0.0563800605949 0.059114076161\n",
      "motif_30 Fragment indicative for aromatic compounds related to methylbenzene substructure (C7H7 fragment) 0.0477704729811 1.0\n",
      "motif_310 None 0.29198850052 0.0121630592267\n",
      "motif_324 None 0.118916459985 0.0553050824779\n",
      "motif_351 None 0.0724566972491 0.031848461005\n",
      "motif_38 Fragments indicative for dihydroxylated benzene ring substructure (MzCloud) – C6H5O2 fragment corresponds to positively charged fragment with two hydroxyl groups. 0.0114838335088 0.960575383632\n",
      "motif_446 None 0.0299553074954 0.010711849673\n"
     ]
    }
   ],
   "source": [
    "for motif, annotation, theta, overlap in spectra_annotations['motif_theta_overlap']:\n",
    "    if theta > 0.01:\n",
    "        print motif, annotation, theta, overlap"
   ]
  },
  {
   "cell_type": "code",
   "execution_count": null,
   "metadata": {
    "collapsed": true
   },
   "outputs": [],
   "source": []
  }
 ],
 "metadata": {
  "anaconda-cloud": {},
  "kernelspec": {
   "display_name": "Python [default]",
   "language": "python",
   "name": "python2"
  },
  "language_info": {
   "codemirror_mode": {
    "name": "ipython",
    "version": 2
   },
   "file_extension": ".py",
   "mimetype": "text/x-python",
   "name": "python",
   "nbconvert_exporter": "python",
   "pygments_lexer": "ipython2",
   "version": "2.7.12"
  }
 },
 "nbformat": 4,
 "nbformat_minor": 1
}
