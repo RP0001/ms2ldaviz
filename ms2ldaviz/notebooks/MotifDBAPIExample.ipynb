{
 "cells": [
  {
   "cell_type": "code",
   "execution_count": 54,
   "metadata": {},
   "outputs": [],
   "source": [
    "import requests\n",
    "server_url = \"http://127.0.0.1:8000\"\n",
    "server_url = \"http://ms2lda.org\"\n"
   ]
  },
  {
   "cell_type": "markdown",
   "metadata": {},
   "source": [
    "Get the list of motifsets that are available"
   ]
  },
  {
   "cell_type": "code",
   "execution_count": 55,
   "metadata": {},
   "outputs": [],
   "source": [
    "output = requests.get(server_url + '/motifdb/list_motifsets')\n",
    "motifset_list = output.json()"
   ]
  },
  {
   "cell_type": "code",
   "execution_count": 56,
   "metadata": {},
   "outputs": [
    {
     "name": "stdout",
     "output_type": "stream",
     "text": [
      "{u'gnps_binned_005': 2, u'massbank_binned_005': 4, u'urine_converted_to_005': 1, u'euphorbia': 3}\n"
     ]
    }
   ],
   "source": [
    "print motifset_list"
   ]
  },
  {
   "cell_type": "markdown",
   "metadata": {},
   "source": [
    "We have two urls for getting a motifset:\n",
    "\n",
    "/motifdb/get_motifset/<ID>\n",
    "\n",
    "for just getting the motifs for one\n",
    "\n",
    "/motifdb/get_metadata/<ID>\n",
    "    \n",
    "for just getting the metadata for one\n",
    "\n",
    "/motifdb/get_motifset\n",
    "\n",
    "for POST requests where you can get multiple and do the filtering (see below). For this one, you also need to obtain a valid csrf token from the server"
   ]
  },
  {
   "cell_type": "code",
   "execution_count": 60,
   "metadata": {},
   "outputs": [
    {
     "name": "stdout",
     "output_type": "stream",
     "text": [
      "77 77\n"
     ]
    }
   ],
   "source": [
    "\n",
    "url = server_url + '/motifdb/initialise_api'\n",
    "client = requests.session()\n",
    "token = client.get(url).json()['token']\n",
    "\n",
    "url = server_url + '/motifdb/get_motifset/'\n",
    "data = {'csrfmiddlewaretoken': token}\n",
    "data['motifset_id_list'] = [motifset_list['massbank_binned_005'],motifset_list['gnps_binned_005']]\n",
    "data['filter'] = \"True\"\n",
    "# data['filter_threshold'] = 0.95 # Default value - not required\n",
    "output = client.post(url,data = data).json()\n",
    "print len(output['motifs']),len(output['metadata'])"
   ]
  },
  {
   "cell_type": "code",
   "execution_count": null,
   "metadata": {},
   "outputs": [],
   "source": []
  }
 ],
 "metadata": {
  "kernelspec": {
   "display_name": "Python 2",
   "language": "python",
   "name": "python2"
  },
  "language_info": {
   "codemirror_mode": {
    "name": "ipython",
    "version": 2
   },
   "file_extension": ".py",
   "mimetype": "text/x-python",
   "name": "python",
   "nbconvert_exporter": "python",
   "pygments_lexer": "ipython2",
   "version": "2.7.15"
  }
 },
 "nbformat": 4,
 "nbformat_minor": 2
}
