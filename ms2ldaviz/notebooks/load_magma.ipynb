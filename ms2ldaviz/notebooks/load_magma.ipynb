{
 "cells": [
  {
   "cell_type": "markdown",
   "metadata": {},
   "source": [
    "### Test loading Magma results"
   ]
  },
  {
   "cell_type": "code",
   "execution_count": null,
   "metadata": {},
   "outputs": [],
   "source": [
    "%load_ext autoreload\n",
    "%autoreload 2\n",
    "%matplotlib inline\n",
    "\n",
    "import sys\n",
    "basedir = '/home/joewandy/git/ms2ldaviz/ms2ldaviz/'\n",
    "sys.path.append(basedir)"
   ]
  },
  {
   "cell_type": "code",
   "execution_count": null,
   "metadata": {},
   "outputs": [],
   "source": [
    "import django\n",
    "django.setup()\n",
    "from django.db import transaction\n",
    "\n",
    "from basicviz.models import Experiment, Mass2Motif, Document, FeatureInstance, MagmaSub, FeatureInstance2Sub"
   ]
  },
  {
   "cell_type": "code",
   "execution_count": null,
   "metadata": {},
   "outputs": [],
   "source": [
    "experiment = 'massbank_binned_005'\n",
    "e = Experiment.objects.get(name = experiment)"
   ]
  },
  {
   "cell_type": "code",
   "execution_count": null,
   "metadata": {},
   "outputs": [],
   "source": [
    "documents = Document.objects.filter(experiment=e)"
   ]
  },
  {
   "cell_type": "code",
   "execution_count": null,
   "metadata": {},
   "outputs": [],
   "source": [
    "len(documents)"
   ]
  },
  {
   "cell_type": "code",
   "execution_count": null,
   "metadata": {},
   "outputs": [],
   "source": [
    "import json"
   ]
  },
  {
   "cell_type": "code",
   "execution_count": null,
   "metadata": {},
   "outputs": [],
   "source": [
    "fname = '/home/joewandy/Documents/massbank_doc_annotation.json'\n",
    "with open(fname) as f:\n",
    "    data = json.load(f)"
   ]
  },
  {
   "cell_type": "code",
   "execution_count": null,
   "metadata": {},
   "outputs": [],
   "source": [
    "with transaction.atomic():\n",
    "    i = 0\n",
    "    feature_map = {}\n",
    "    for d in data:\n",
    "        # update mol string in a document\n",
    "        name = d['name']\n",
    "        print '%d/%d %s' % (i, len(data), name)\n",
    "        document = Document.objects.get(experiment=e, name=name)\n",
    "        document.mol_string = d['mol']\n",
    "        document.save()\n",
    "        \n",
    "        # lookup for existing feature instances in this document\n",
    "        feature_instances = FeatureInstance.objects.filter(document=document)\n",
    "        for f in feature_instances:\n",
    "            feature_map[f.feature.name] = f\n",
    "            \n",
    "        # create a new substructure object\n",
    "        for magma_annot in d['features']:\n",
    "            name = magma_annot['name']\n",
    "            feature = feature_map[name]\n",
    "            for m in magma_annot['matches']:\n",
    "                smiles = m['smiles']\n",
    "                mol = m['mol'] if 'mol' in m else None\n",
    "                fragatoms = m['fragatoms']\n",
    "                mz = m['mz']\n",
    "                sub_type = m['type'] if 'type' in m else None\n",
    "                sub, _ = MagmaSub.objects.get_or_create(smiles=smiles, mol_string=mol)\n",
    "                f2sub = FeatureInstance2Sub.objects.get_or_create(\n",
    "                    feature=feature, sub=sub, fragatoms=fragatoms,\n",
    "                    mz=mz, sub_type=sub_type\n",
    "                )\n",
    "        \n",
    "        i+=1\n",
    "        if i > 10:\n",
    "            break"
   ]
  }
 ],
 "metadata": {
  "kernelspec": {
   "display_name": "Django Shell-Plus",
   "language": "python",
   "name": "django_extensions"
  },
  "language_info": {
   "codemirror_mode": {
    "name": "ipython",
    "version": 2
   },
   "file_extension": ".py",
   "mimetype": "text/x-python",
   "name": "python",
   "nbconvert_exporter": "python",
   "pygments_lexer": "ipython2",
   "version": "2.7.15"
  }
 },
 "nbformat": 4,
 "nbformat_minor": 2
}
