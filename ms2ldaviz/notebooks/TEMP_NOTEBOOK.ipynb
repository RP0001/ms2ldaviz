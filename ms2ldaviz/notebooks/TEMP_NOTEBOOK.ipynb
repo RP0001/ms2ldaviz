{
 "cells": [
  {
   "cell_type": "code",
   "execution_count": 1,
   "metadata": {},
   "outputs": [
    {
     "name": "stdout",
     "output_type": "stream",
     "text": [
      "MEDIA_ROOT is C:\\Users\\rpetr\\OneDrive\\Desktop\\DISS_CODE\\ms2ldaviz\\ms2ldaviz\\media\n"
     ]
    }
   ],
   "source": [
    "# perform relevant imports\n",
    "# All relevant imports for this file are done here. \n",
    "# Run the following in terminal if errors are obtained: set DJANGO_SETTINGS_MODULE=ms2ldaviz.settings\n",
    "%load_ext autoreload\n",
    "%autoreload 2\n",
    "%matplotlib inline\n",
    "import sys\n",
    "basedir = 'C:\\\\Users\\\\rpetr\\\\OneDrive\\\\Desktop\\\\DISS_CODE\\\\ms2ldaviz\\\\ms2ldaviz'\n",
    "sys.path.append(basedir)\n",
    "import django\n",
    "import json\n",
    "django.setup()\n",
    "from basicviz.models import Experiment, Alpha, Mass2MotifInstance, FeatureInstance, Feature, Document, Mass2Motif, DocumentMass2Motif, FeatureMass2MotifInstance\n",
    "import numpy as np\n",
    "import pylab as plt\n",
    "import csv\n",
    "from scipy.special import polygamma as pg\n",
    "from scipy.special import psi as psi\n",
    "import pickle \n",
    "import copy"
   ]
  },
  {
   "cell_type": "code",
   "execution_count": 3,
   "metadata": {},
   "outputs": [],
   "source": [
    "chosen_document = 270414\n",
    "chosen_experiment = 190\n",
    "features = FeatureInstance.objects.filter(document=chosen_document)\n",
    "context_dict = {}\n",
    "context_dict['features'] = features"
   ]
  },
  {
   "cell_type": "code",
   "execution_count": 4,
   "metadata": {},
   "outputs": [
    {
     "data": {
      "text/plain": [
       "<QuerySet [<FeatureInstance: 0.0>, <FeatureInstance: 44.0>, <FeatureInstance: 3.0>, <FeatureInstance: 0.0>, <FeatureInstance: 1.0>, <FeatureInstance: 4.0>, <FeatureInstance: 7.0>, <FeatureInstance: 1.0>, <FeatureInstance: 0.0>, <FeatureInstance: 1.0>, <FeatureInstance: 1.0>, <FeatureInstance: 4.0>, <FeatureInstance: 0.0>, <FeatureInstance: 0.0>, <FeatureInstance: 0.0>, <FeatureInstance: 1.0>, <FeatureInstance: 3.0>, <FeatureInstance: 0.0>, <FeatureInstance: 3.0>, <FeatureInstance: 0.0>, '...(remaining elements truncated)...']>"
      ]
     },
     "execution_count": 4,
     "metadata": {},
     "output_type": "execute_result"
    }
   ],
   "source": [
    "context_dict['features']"
   ]
  },
  {
   "cell_type": "code",
   "execution_count": null,
   "metadata": {},
   "outputs": [],
   "source": [
    "experiment = .experiment\n",
    "\n",
    "    doc_m2m_prob_threshold, doc_m2m_overlap_threshold = get_prob_overlap_thresholds(experiment)\n",
    "    #instead of being retrieved from the database gamma is calculated here\n",
    "    dm2m = DocumentMass2Motif.objects.filter(document=document, probability__gte=doc_m2m_prob_threshold,\n",
    "                                             overlap_score__gte=doc_m2m_overlap_threshold).order_by('-probability')\n"
   ]
  }
 ],
 "metadata": {
  "kernelspec": {
   "display_name": "Python 2",
   "language": "python",
   "name": "python2"
  },
  "language_info": {
   "codemirror_mode": {
    "name": "ipython",
    "version": 2
   },
   "file_extension": ".py",
   "mimetype": "text/x-python",
   "name": "python",
   "nbconvert_exporter": "python",
   "pygments_lexer": "ipython2",
   "version": "2.7.16"
  }
 },
 "nbformat": 4,
 "nbformat_minor": 2
}
