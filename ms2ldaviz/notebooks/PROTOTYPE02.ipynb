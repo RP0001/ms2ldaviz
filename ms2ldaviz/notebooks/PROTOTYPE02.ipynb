{
 "cells": [
  {
   "cell_type": "markdown",
   "metadata": {},
   "source": [
    "# I. IMPORTS"
   ]
  },
  {
   "cell_type": "code",
   "execution_count": 1,
   "metadata": {},
   "outputs": [
    {
     "name": "stdout",
     "output_type": "stream",
     "text": [
      "MEDIA_ROOT is C:\\Users\\rpetr\\OneDrive\\Desktop\\DISS_CODE\\ms2ldaviz\\ms2ldaviz\\media\n"
     ]
    }
   ],
   "source": [
    "# All relevant imports for this file are done here. \n",
    "# Run the following in terminal if errors are obtained: set DJANGO_SETTINGS_MODULE=ms2ldaviz.settings\n",
    "%load_ext autoreload\n",
    "%autoreload 2\n",
    "%matplotlib inline\n",
    "import sys\n",
    "basedir = 'C:\\\\Users\\\\rpetr\\\\OneDrive\\\\Desktop\\\\DISS_CODE\\\\ms2ldaviz\\\\ms2ldaviz'\n",
    "sys.path.append(basedir)\n",
    "import django\n",
    "import json\n",
    "django.setup()\n",
    "from basicviz.models import Experiment, Alpha, Mass2MotifInstance, FeatureInstance, Feature, Document, Mass2Motif, DocumentMass2Motif, FeatureMass2MotifInstance\n",
    "import numpy as np\n",
    "import pylab as plt\n",
    "import csv\n",
    "from scipy.special import polygamma as pg\n",
    "from scipy.special import psi as psi\n",
    "import pickle \n",
    "import copy"
   ]
  },
  {
   "cell_type": "markdown",
   "metadata": {},
   "source": [
    "# II. COMMON VARIABLES"
   ]
  },
  {
   "cell_type": "code",
   "execution_count": 2,
   "metadata": {},
   "outputs": [],
   "source": [
    "# Small number used throughout the prototype for normalisation and e-step.\n",
    "SMALL_NUMBER = 1e-100"
   ]
  },
  {
   "cell_type": "markdown",
   "metadata": {},
   "source": [
    "# III. IMPORT LDA DICT FILES"
   ]
  },
  {
   "cell_type": "code",
   "execution_count": 3,
   "metadata": {},
   "outputs": [],
   "source": [
    "# Run this line if you wish to run the experiment with low thresholding. \n",
    "file = open('mb_lower_thresh.dict','r')\n",
    "lda_dict_low_thresh = pickle.load(file)"
   ]
  },
  {
   "cell_type": "code",
   "execution_count": 4,
   "metadata": {},
   "outputs": [],
   "source": [
    "# Run this line if you wish to run the experiment with high thresholding. \n",
    "file = open('mb_normal_thresh.dict','r')\n",
    "lda_dict_high_thresh = pickle.load(file)"
   ]
  },
  {
   "cell_type": "code",
   "execution_count": 5,
   "metadata": {},
   "outputs": [],
   "source": [
    "# Create a copy of the experiment dictionary for this prototype.\n",
    "lda_dict=copy.deepcopy(lda_dict_low_thresh)"
   ]
  },
  {
   "cell_type": "markdown",
   "metadata": {},
   "source": [
    "# IV. MAP DOCUMENTS/WORDS/TOPICS TO INDICES"
   ]
  },
  {
   "cell_type": "markdown",
   "metadata": {},
   "source": [
    "## MAP DOCUMENTS TO INDICES"
   ]
  },
  {
   "cell_type": "code",
   "execution_count": 6,
   "metadata": {},
   "outputs": [],
   "source": [
    "# Get all the documents in the corpus of the file. \n",
    "doc_list=lda_dict['corpus'].keys()"
   ]
  },
  {
   "cell_type": "code",
   "execution_count": 7,
   "metadata": {},
   "outputs": [],
   "source": [
    "# Only for reference purposes (from SQL SELECT) when choosing a document.\n",
    "# 269485\teawag_0503.ms\n",
    "# 270314\twashington_0978.ms\n",
    "# 270414\teawag_0758.ms\n",
    "# 271247\teawag_0759.ms\n",
    "# 269323 \teawag_0730.ms"
   ]
  },
  {
   "cell_type": "code",
   "execution_count": 8,
   "metadata": {},
   "outputs": [],
   "source": [
    "# Manually choose a document by name. \n",
    "chosen_document=['eawag_0730.ms']"
   ]
  },
  {
   "cell_type": "code",
   "execution_count": 9,
   "metadata": {},
   "outputs": [],
   "source": [
    "# Map documents to indices.\n",
    "unique_docs=copy.deepcopy(lda_dict['doc_index'])"
   ]
  },
  {
   "cell_type": "code",
   "execution_count": 10,
   "metadata": {},
   "outputs": [],
   "source": [
    "# Get document index of chosen document. \n",
    "chosen_document_index = unique_docs[chosen_document[0]]"
   ]
  },
  {
   "cell_type": "markdown",
   "metadata": {},
   "source": [
    "## MAP WORDS TO INDICES"
   ]
  },
  {
   "cell_type": "code",
   "execution_count": 11,
   "metadata": {},
   "outputs": [],
   "source": [
    "# Map words to indices. \n",
    "unique_words=copy.deepcopy(lda_dict['word_index'])"
   ]
  },
  {
   "cell_type": "markdown",
   "metadata": {},
   "source": [
    "## MAP TOPICS TO INDICES"
   ]
  },
  {
   "cell_type": "code",
   "execution_count": 12,
   "metadata": {},
   "outputs": [],
   "source": [
    "# Map topics to indices. \n",
    "unique_topics = copy.deepcopy(lda_dict['topic_index'])"
   ]
  },
  {
   "cell_type": "markdown",
   "metadata": {},
   "source": [
    "# V. GET HYPERPARAMETERS"
   ]
  },
  {
   "cell_type": "markdown",
   "metadata": {},
   "source": [
    "## GET ALPHA"
   ]
  },
  {
   "cell_type": "code",
   "execution_count": 13,
   "metadata": {},
   "outputs": [],
   "source": [
    "# Get the Alpha vector from the experiment dictionary. \n",
    "alpha_vector = copy.deepcopy(lda_dict['alpha'])\n",
    "alpha_vector = np.array(alpha_vector)"
   ]
  },
  {
   "cell_type": "markdown",
   "metadata": {},
   "source": [
    "## GET BETA"
   ]
  },
  {
   "cell_type": "code",
   "execution_count": 14,
   "metadata": {},
   "outputs": [],
   "source": [
    "# Get all the Beta values from the experiment input dictionary. \n",
    "beta_prep_list = []\n",
    "for topic in lda_dict['beta']: \n",
    "    for word in lda_dict['beta'][topic]:\n",
    "        beta_prep_list.append([unique_topics[topic],unique_words[word],lda_dict['beta'][topic][word]])"
   ]
  },
  {
   "cell_type": "code",
   "execution_count": 15,
   "metadata": {},
   "outputs": [],
   "source": [
    "# Create a Beta matrix and populate it. \n",
    "K = len(unique_topics)\n",
    "W = len(unique_words)\n",
    "pivot_table = np.zeros((K, W)).astype('float')\n",
    "i = 0\n",
    "max = len(beta_prep_list)\n",
    "while i<max:\n",
    "    pivot_table[int(beta_prep_list[i][0]),int(beta_prep_list[i][1])]=beta_prep_list[i][2]\n",
    "    i+=1"
   ]
  },
  {
   "cell_type": "code",
   "execution_count": 16,
   "metadata": {},
   "outputs": [],
   "source": [
    "# Normalise the Beta matrix. \n",
    "pivot_table_normalised = np.array(pivot_table)\n",
    "i = 0\n",
    "while i<K: \n",
    "    row = pivot_table_normalised[i, :]\n",
    "    adjusted_row = row + SMALL_NUMBER\n",
    "    normalised_row = adjusted_row / np.sum(adjusted_row)\n",
    "    np.sum(normalised_row)\n",
    "    pivot_table_normalised[i, :] = normalised_row\n",
    "    i+=1"
   ]
  },
  {
   "cell_type": "markdown",
   "metadata": {},
   "source": [
    "# VI. GET VARIATIONAL INFERENCE PARAMETERS"
   ]
  },
  {
   "cell_type": "markdown",
   "metadata": {},
   "source": [
    "## GET ORIGINAL GAMMA (IN NORMALISED/THETA FORM)"
   ]
  },
  {
   "cell_type": "code",
   "execution_count": 17,
   "metadata": {
    "scrolled": true
   },
   "outputs": [],
   "source": [
    "# Get original normalised Gamma values from experiment dictionary input. \n",
    "original_theta = copy.deepcopy(lda_dict['theta'][chosen_document[0]])"
   ]
  },
  {
   "cell_type": "markdown",
   "metadata": {},
   "source": [
    "## GET ORIGINAL PHI"
   ]
  },
  {
   "cell_type": "code",
   "execution_count": 18,
   "metadata": {
    "scrolled": false
   },
   "outputs": [],
   "source": [
    "# Get original Phi values from experiment dictionary input. \n",
    "phi_matrix_original = copy.deepcopy(lda_dict['phi'])"
   ]
  },
  {
   "cell_type": "markdown",
   "metadata": {},
   "source": [
    "# VII. E-STEP"
   ]
  },
  {
   "cell_type": "markdown",
   "metadata": {},
   "source": [
    "## INITIALISE CORPUS BEFORE E-STEP (1 document only)"
   ]
  },
  {
   "cell_type": "code",
   "execution_count": 19,
   "metadata": {},
   "outputs": [],
   "source": [
    "# Get corpus as a list first. \n",
    "corpus_dict_list = []\n",
    "temp_dict = copy.deepcopy(lda_dict['corpus'][chosen_document[0]])\n",
    "for word in temp_dict:\n",
    "    corpus_dict_list.append([chosen_document_index, int(unique_words[word]),int(temp_dict[word])])"
   ]
  },
  {
   "cell_type": "code",
   "execution_count": 20,
   "metadata": {},
   "outputs": [],
   "source": [
    "# Create corpus_dict for e-step in the format => doc_id:{word_id:intensity}\n",
    "corpus_dict={}\n",
    "temp_dict={}\n",
    "for line in corpus_dict_list:\n",
    "    temp_dict.update({line[1]:line[2]})\n",
    "corpus_dict.update({corpus_dict_list[0][0]:temp_dict})"
   ]
  },
  {
   "cell_type": "markdown",
   "metadata": {},
   "source": [
    "## Step 0 - E-step variables"
   ]
  },
  {
   "cell_type": "code",
   "execution_count": 21,
   "metadata": {},
   "outputs": [],
   "source": [
    "# Define any missing variables for the e-step.\n",
    "corpus = corpus_dict\n",
    "beta_matrix = pivot_table_normalised"
   ]
  },
  {
   "cell_type": "markdown",
   "metadata": {},
   "source": [
    "## Step 1 - Initialise phi matrix"
   ]
  },
  {
   "cell_type": "code",
   "execution_count": 22,
   "metadata": {},
   "outputs": [],
   "source": [
    "# Initialise Phi in the format -> {doc:{word:[topic_array]}}\n",
    "phi_matrix={}\n",
    "for doc in corpus: \n",
    "    d = int(doc)\n",
    "    phi_matrix[d] = {}\n",
    "    for word in corpus[doc]:\n",
    "        w = int(word)\n",
    "        phi_matrix[d][w]=np.zeros(K)"
   ]
  },
  {
   "cell_type": "markdown",
   "metadata": {},
   "source": [
    "## Step 2 - Initialise gamma matrix"
   ]
  },
  {
   "cell_type": "code",
   "execution_count": 23,
   "metadata": {},
   "outputs": [],
   "source": [
    "# Initialise Gamma matrix. \n",
    "# As the prototype has only 1 document - we get a gamma vector of size K.\n",
    "# doc_total = words/document\n",
    "gamma_matrix=np.zeros((int(len(corpus)),int(K))) #3x500 shape\n",
    "for doc in corpus:\n",
    "    doc_total=0.0\n",
    "    for word in corpus[doc]:\n",
    "        doc_total += corpus[doc][word]\n",
    "    gamma_matrix[0,:] = alpha_vector + 1.0*(doc_total/K)"
   ]
  },
  {
   "cell_type": "markdown",
   "metadata": {},
   "source": [
    "## Step 3 - repeat until convergence loop"
   ]
  },
  {
   "cell_type": "code",
   "execution_count": 24,
   "metadata": {},
   "outputs": [],
   "source": [
    "# The code below has been refactored from lda.py at https://github.com/sdrogers/ms2ldaviz/blob/master/lda/code/lda.py\n",
    "# This is an implementation of Blei's loop as described on http://www.jmlr.org/papers/volume3/blei03a/blei03a.pdf, page 1005.\n",
    "test_list = []\n",
    "iterations = 1000\n",
    "n_words = int(len(unique_words))\n",
    "temp_beta = np.zeros((K, n_words))\n",
    "current_gamma = np.copy(gamma_matrix)\n",
    "for i in range(iterations):   \n",
    "    prev_gamma = np.copy(current_gamma)\n",
    "    for doc in corpus:\n",
    "        d = int(doc)\n",
    "        doc_dict = corpus[doc]\n",
    "        temp_gamma = np.zeros(K) + alpha_vector\n",
    "        for word in doc_dict:  \n",
    "            w = int(word)\n",
    "            log_phi_matrix = np.log(beta_matrix[:,w]) + psi(gamma_matrix[0,:]).T #changed here for 1 doc prototype\n",
    "            log_phi_matrix = np.exp(log_phi_matrix - log_phi_matrix.max())\n",
    "            phi_matrix[d][w] = log_phi_matrix/log_phi_matrix.sum()\n",
    "            temp_gamma += phi_matrix[d][w]*corpus[doc][word]\n",
    "            temp_beta[:,w] += phi_matrix[d][w] * corpus[doc][word]\n",
    "        gamma_matrix[0,:] = temp_gamma #changed here for 1 doc prototype\n",
    "        pos = np.where(gamma_matrix[0,:]<SMALL_NUMBER)[0] #changed here for 1 doc prototype\n",
    "        gamma_matrix[0,pos] = SMALL_NUMBER #changed here for 1 doc prototype\n",
    "    current_gamma = np.copy(gamma_matrix)\n",
    "    gamma_diff = ((current_gamma - prev_gamma)**2).sum()\n",
    "    test_list.append([i, gamma_diff])"
   ]
  },
  {
   "cell_type": "markdown",
   "metadata": {},
   "source": [
    "# VIII. COMPARISON OF GAMMA & PHI (original vs calculated in prototype) "
   ]
  },
  {
   "cell_type": "markdown",
   "metadata": {},
   "source": [
    "## Gamma comparison / Theta comparison "
   ]
  },
  {
   "cell_type": "code",
   "execution_count": 25,
   "metadata": {},
   "outputs": [],
   "source": [
    "# Transform original gamma into a K-length vector. \n",
    "gamma_vector_original = np.zeros(K) \n",
    "for k,v in original_theta.items():\n",
    "    pos = int(unique_topics[k])\n",
    "    prob = v\n",
    "    gamma_vector_original[pos] = prob"
   ]
  },
  {
   "cell_type": "code",
   "execution_count": 26,
   "metadata": {},
   "outputs": [],
   "source": [
    "# Normalise original gamma vector. \n",
    "gamma_vector_original += SMALL_NUMBER\n",
    "gamma_vector_original /= np.sum(gamma_vector_original)"
   ]
  },
  {
   "cell_type": "code",
   "execution_count": 27,
   "metadata": {},
   "outputs": [],
   "source": [
    "# Create and normalise vector for calculated gamma. \n",
    "gamma_vector_calculated = np.zeros(K) \n",
    "gamma_vector_calculated = np.copy(gamma_matrix[0])\n",
    "gamma_vector_calculated /= np.sum(gamma_vector_calculated)"
   ]
  },
  {
   "cell_type": "code",
   "execution_count": 28,
   "metadata": {},
   "outputs": [
    {
     "name": "stdout",
     "output_type": "stream",
     "text": [
      "Max difference between gammas: 0.020504000335506922\n"
     ]
    }
   ],
   "source": [
    "# Test how the gamma values compare. Format-> [original_gamma, calculated_gamma, difference]\n",
    "gamma_compare = np.zeros([K,3])\n",
    "for i in range(K):\n",
    "    gamma_compare[i,0] = gamma_vector_original[i]\n",
    "    gamma_compare[i,1] = gamma_vector_calculated[i]\n",
    "    gamma_compare[i,2] = abs(gamma_compare[i,0] - gamma_compare[i,1]) \n",
    "print('Max difference between gammas: ' + str(gamma_compare[:,2].max()))"
   ]
  },
  {
   "cell_type": "code",
   "execution_count": 29,
   "metadata": {},
   "outputs": [],
   "source": [
    "# CSV export of gamma value comparison. \n",
    "np.savetxt(\"compare_gamma_\"+str(chosen_document[0])+\".csv\", gamma_compare, delimiter=\",\", fmt=\"%s\")"
   ]
  },
  {
   "cell_type": "markdown",
   "metadata": {},
   "source": [
    "## Phi comparison"
   ]
  },
  {
   "cell_type": "code",
   "execution_count": 30,
   "metadata": {},
   "outputs": [],
   "source": [
    "# Get number of lines for comparison. \n",
    "# Create a numpy matrix with columns: word, topic, original_phi, calculated_phi, phi_diff, intensity.\n",
    "count = 0 \n",
    "doc_level = phi_matrix_original[chosen_document[0]]\n",
    "for word in doc_level.keys():\n",
    "    count += len(doc_level[word].keys()) \n",
    "phi_compare = np.zeros([count, 6])"
   ]
  },
  {
   "cell_type": "code",
   "execution_count": 31,
   "metadata": {},
   "outputs": [],
   "source": [
    "# Populate the phi comparison matrix. \n",
    "i = 0\n",
    "for word in doc_level.keys():\n",
    "    for topic, phi in doc_level[word].items():\n",
    "        phi_compare[i,0] = unique_words[word]\n",
    "        phi_compare[i,1] = unique_topics[topic]\n",
    "        phi_compare[i,2] = doc_level[word][topic] \n",
    "        phi_compare[i,3] = phi_matrix[chosen_document_index][unique_words[word]][unique_topics[topic]]\n",
    "        phi_compare[i,4] = abs(phi_compare[i,2]-phi_compare[i,3])\n",
    "        phi_compare[i,5] = corpus_dict[chosen_document_index][unique_words[word]]\n",
    "        i+=1"
   ]
  },
  {
   "cell_type": "code",
   "execution_count": 32,
   "metadata": {},
   "outputs": [
    {
     "name": "stdout",
     "output_type": "stream",
     "text": [
      "Max difference between phi's: 0.9975509809202099\n"
     ]
    }
   ],
   "source": [
    "# Check the maximal phi difference. \n",
    "print('Max difference between phi\\'s: ' + str(phi_compare[:,4].max()))"
   ]
  },
  {
   "cell_type": "markdown",
   "metadata": {},
   "source": [
    "## Phi comparison (with materiality)"
   ]
  },
  {
   "cell_type": "code",
   "execution_count": 33,
   "metadata": {},
   "outputs": [],
   "source": [
    "# Get the corpus words with the highest count/intensity/materiality. Create a list.\n",
    "materiality_value = 10 # Manually change materiality here.\n",
    "material_words = []\n",
    "for doc in corpus_dict: \n",
    "    for word in corpus_dict[doc]:\n",
    "        w = corpus_dict[doc][word]\n",
    "        if int(w) > materiality_value:\n",
    "            material_words.append([int(word), w]) "
   ]
  },
  {
   "cell_type": "code",
   "execution_count": 34,
   "metadata": {},
   "outputs": [],
   "source": [
    "# Create material words dictionary too if needed. \n",
    "material_words_dict = {}\n",
    "for line in material_words:\n",
    "    material_words_dict.update({line[0] : line[1]})"
   ]
  },
  {
   "cell_type": "code",
   "execution_count": 35,
   "metadata": {},
   "outputs": [],
   "source": [
    "# Make array of material words list.\n",
    "material_words_array = np.array(material_words)"
   ]
  },
  {
   "cell_type": "code",
   "execution_count": 36,
   "metadata": {},
   "outputs": [],
   "source": [
    "# Choose material words for comparison loop.\n",
    "material_words_list = list(material_words_array[:,0])"
   ]
  },
  {
   "cell_type": "code",
   "execution_count": 37,
   "metadata": {},
   "outputs": [
    {
     "name": "stdout",
     "output_type": "stream",
     "text": [
      "Max difference between phi's: 0.45457304251944264\n"
     ]
    }
   ],
   "source": [
    "# Create phi comparison matrix filtered by the material words. \n",
    "phi_compare2 = []\n",
    "for line in phi_compare: \n",
    "    line_word = line[0]\n",
    "    if line_word in material_words_list:\n",
    "        phi_compare2.append(line)\n",
    "phi_compare2 = np.array(phi_compare2)\n",
    "print('Max difference between phi\\'s: ' + str(phi_compare2[:,4].max()))"
   ]
  },
  {
   "cell_type": "code",
   "execution_count": 38,
   "metadata": {
    "scrolled": true
   },
   "outputs": [
    {
     "data": {
      "image/png": "[encoded data removed]",
      "text/plain": [
       "<Figure size 1440x720 with 1 Axes>"
      ]
     },
     "metadata": {
      "needs_background": "light"
     },
     "output_type": "display_data"
    }
   ],
   "source": [
    "# Plot word intensity on x axis and phi difference on y axis of a scatterplot. \n",
    "x = phi_compare2[:,5]\n",
    "y = phi_compare2[:,4]\n",
    "fig = plt.figure()\n",
    "scatterplot = fig.add_subplot(1,1,1)\n",
    "plt.scatter(x,y)\n",
    "fig.set_size_inches(20,10)\n",
    "plt.title(\"INTENSITY PHI_DIFF\")\n",
    "plt.xlabel(\"intensity\")\n",
    "plt.ylabel(\"phi_diff\")\n",
    "plt.show()\n",
    "fig.savefig(str(chosen_document[0])+\".png\")"
   ]
  },
  {
   "cell_type": "code",
   "execution_count": 39,
   "metadata": {},
   "outputs": [],
   "source": [
    "# CSV export of phi comparison. \n",
    "np.savetxt(\"compare_phi_\"+str(chosen_document[0])+\".csv\", phi_compare2, delimiter=\",\", fmt=\"%s\")"
   ]
  },
  {
   "cell_type": "code",
   "execution_count": 40,
   "metadata": {},
   "outputs": [
    {
     "data": {
      "text/plain": [
       "1040"
      ]
     },
     "execution_count": 40,
     "metadata": {},
     "output_type": "execute_result"
    }
   ],
   "source": [
    "sys.getsizeof(lda_dict)"
   ]
  },
  {
   "cell_type": "code",
   "execution_count": 41,
   "metadata": {},
   "outputs": [
    {
     "name": "stdout",
     "output_type": "stream",
     "text": [
      "('phi', 196880, 196880)\n",
      "('features', 3146000, 3342880)\n",
      "('doc_metadata', 196880, 3539760)\n",
      "('K', 24, 3539784)\n",
      "('word_index', 3146000, 6685784)\n",
      "('topic_index', 49424, 6735208)\n",
      "('doc_index', 196880, 6932088)\n",
      "('beta', 49424, 6981512)\n",
      "('topic_metadata', 49424, 7030936)\n",
      "('alpha', 4272, 7035208)\n",
      "('corpus', 196880, 7232088)\n",
      "('overlap_scores', 196880, 7428968)\n",
      "('theta', 196880, 7625848)\n",
      "('gamma', 4096, 7629944)\n"
     ]
    }
   ],
   "source": [
    "total = 0\n",
    "for k in lda_dict.keys(): \n",
    "    total += sys.getsizeof(lda_dict[k])\n",
    "    print (k,sys.getsizeof(lda_dict[k]),total)"
   ]
  }
 ],
 "metadata": {
  "kernelspec": {
   "display_name": "Python 2",
   "language": "python",
   "name": "python2"
  },
  "language_info": {
   "codemirror_mode": {
    "name": "ipython",
    "version": 2
   },
   "file_extension": ".py",
   "mimetype": "text/x-python",
   "name": "python",
   "nbconvert_exporter": "python",
   "pygments_lexer": "ipython2",
   "version": "2.7.16"
  }
 },
 "nbformat": 4,
 "nbformat_minor": 2
}
