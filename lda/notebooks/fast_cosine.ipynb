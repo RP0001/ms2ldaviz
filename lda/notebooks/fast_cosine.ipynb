{
 "cells": [
  {
   "cell_type": "markdown",
   "metadata": {},
   "source": [
    "Test the fast cosine"
   ]
  },
  {
   "cell_type": "code",
   "execution_count": 78,
   "metadata": {},
   "outputs": [],
   "source": [
    "import sys\n",
    "import math\n",
    "sys.path.append('/home/simon/git/lda/code/')\n",
    "import glob\n",
    "input_files = glob.glob('/home/simon/Dropbox/BioResearch/Meta_clustering/MS2LDA/fingerid-104-traindata/spectra_massbank/*.ms')"
   ]
  },
  {
   "cell_type": "code",
   "execution_count": 131,
   "metadata": {},
   "outputs": [
    {
     "name": "stdout",
     "output_type": "stream",
     "text": [
      "Processed 100 spectra\n",
      "Processed 200 spectra\n",
      "Processed 300 spectra\n",
      "Processed 400 spectra\n",
      "Processed 500 spectra\n",
      "Processed 600 spectra\n",
      "Processed 700 spectra\n",
      "Processed 800 spectra\n",
      "Processed 900 spectra\n",
      "Processed 1000 spectra\n",
      "Processed 1100 spectra\n",
      "Processed 1200 spectra\n",
      "Processed 1300 spectra\n",
      "Processed 1400 spectra\n",
      "Processed 1500 spectra\n",
      "Processed 1600 spectra\n",
      "Processed 1700 spectra\n",
      "Processed 1800 spectra\n",
      "Processed 1900 spectra\n",
      "Processed 2000 spectra\n"
     ]
    }
   ],
   "source": [
    "from ms2lda_feature_extraction import LoadGNPS\n",
    "l = LoadGNPS()\n",
    "ms1,ms2,metadata = l.load_spectra(input_files[:2000])"
   ]
  },
  {
   "cell_type": "code",
   "execution_count": 132,
   "metadata": {},
   "outputs": [],
   "source": [
    "spec_dict = {}\n",
    "for m in ms2:\n",
    "    tempms1 = m[3]\n",
    "    if not tempms1 in spec_dict:\n",
    "        spec_dict[tempms1] = []\n",
    "    spec_dict[tempms1].append((m[0],m[2]))\n"
   ]
  },
  {
   "cell_type": "code",
   "execution_count": 133,
   "metadata": {},
   "outputs": [],
   "source": [
    "for tempms1,spec in spec_dict.items():\n",
    "    spec = sorted(spec,key = lambda x: x[0])\n",
    "    spec_dict[tempms1] = spec"
   ]
  },
  {
   "cell_type": "code",
   "execution_count": 134,
   "metadata": {},
   "outputs": [],
   "source": [
    "def sqrt_normalise(spec):\n",
    "    # this is weird\n",
    "    intermediate_spec = []\n",
    "    total = 0.0\n",
    "    for mz,intensity in spec:\n",
    "        total += intensity\n",
    "        intermediate_spec.append((mz,math.sqrt(intensity)))\n",
    "    output_spec = []\n",
    "    norm_fac = math.sqrt(total)\n",
    "    for mz,intensity in intermediate_spec:\n",
    "        output_spec.append((mz,intensity/norm_fac))\n",
    "    return output_spec\n",
    "\n",
    "def fast_cosine(spec1,spec2,tol = 0.5):\n",
    "    # spec 1 and spec 2 have to be sorted by mz\n",
    "    if len(spec1) == 0 or len(spec2) == 0:\n",
    "        return 0.0\n",
    "    # find all the matching pairs\n",
    "    \n",
    "    spec1 = sqrt_normalise(spec1)\n",
    "    spec2 = sqrt_normalise(spec2)\n",
    "    \n",
    "    matching_pairs = []\n",
    "    spec2lowpos = 0\n",
    "    spec2length = len(spec2)\n",
    "    \n",
    "#     for mz,i in spec1:\n",
    "#         print mz\n",
    "#     print\n",
    "#     print\n",
    "#     for mz,i in spec2:\n",
    "#         print mz\n",
    "    \n",
    "    for idx,(mz,intensity) in enumerate(spec1):\n",
    "        # do we need to increase the lower idx?\n",
    "        while spec2lowpos < spec2length and spec2[spec2lowpos][0]<mz-tol:\n",
    "            spec2lowpos += 1\n",
    "        if spec2lowpos == spec2length:\n",
    "            break\n",
    "#         print \"mz = {}, current low = {}\".format(mz,spec2[spec2lowpos][0])\n",
    "        spec2pos = spec2lowpos\n",
    "        while(spec2pos < spec2length and spec2[spec2pos][0] < mz + tol):\n",
    "            matching_pairs.append((idx,spec2pos,intensity*spec2[spec2pos][1]))\n",
    "#             print \"added {} and {}\".format(mz,spec2[spec2pos][0])\n",
    "            spec2pos += 1\n",
    "        \n",
    "        \n",
    "    matching_pairs = sorted(matching_pairs,key = lambda x:x[2],reverse = True)\n",
    "    used1 = set()\n",
    "    used2 = set()\n",
    "    score = 0.0\n",
    "    used_matches = []\n",
    "    for m in matching_pairs:\n",
    "        if not m[0] in used1 and not m[1] in used2:\n",
    "            score += m[2]\n",
    "            used1.add(m[0])\n",
    "            used2.add(m[1])\n",
    "            used_matches.append(m)\n",
    "    return score,used_matches"
   ]
  },
  {
   "cell_type": "code",
   "execution_count": 137,
   "metadata": {},
   "outputs": [
    {
     "name": "stdout",
     "output_type": "stream",
     "text": [
      "0\n",
      "100\n",
      "200\n",
      "300\n",
      "400\n",
      "500\n",
      "600\n",
      "700\n",
      "800\n",
      "900\n",
      "1000\n",
      "1100\n",
      "1200\n",
      "1300\n",
      "1400\n",
      "1500\n",
      "1600\n",
      "1700\n",
      "1800\n",
      "1900\n"
     ]
    }
   ],
   "source": [
    "score_list = []\n",
    "for i in range(len(spec_dict)-1):\n",
    "    if i%100 == 0:\n",
    "        print i\n",
    "    for k in range(i+1,len(spec_dict)):\n",
    "        spec1 = spec_dict.keys()[i]\n",
    "        spec2 = spec_dict.keys()[k]\n",
    "\n",
    "        score,match = fast_cosine(spec_dict[spec1],spec_dict[spec2])\n",
    "        score_list.append((spec1,spec2,score,match))"
   ]
  },
  {
   "cell_type": "code",
   "execution_count": 138,
   "metadata": {},
   "outputs": [
    {
     "name": "stdout",
     "output_type": "stream",
     "text": [
      "0.998742677557\n",
      "0.998566366824\n",
      "0.998360302483\n",
      "0.997830760216\n",
      "0.997730310821\n",
      "0.997698848171\n",
      "0.997466375006\n",
      "0.997457402543\n",
      "0.997002342294\n",
      "0.9962959127\n"
     ]
    }
   ],
   "source": [
    "import numpy as np\n",
    "score_list = sorted(score_list,key = lambda x: x[2],reverse = True)\n",
    "for s in score_list[:10]:\n",
    "    print s[2]"
   ]
  },
  {
   "cell_type": "code",
   "execution_count": 153,
   "metadata": {},
   "outputs": [],
   "source": [
    "s1 = spec_dict[score_list[2][0]]"
   ]
  },
  {
   "cell_type": "code",
   "execution_count": 154,
   "metadata": {},
   "outputs": [],
   "source": [
    "s2 = spec_dict[score_list[2][1]]"
   ]
  },
  {
   "cell_type": "code",
   "execution_count": 155,
   "metadata": {},
   "outputs": [
    {
     "name": "stdout",
     "output_type": "stream",
     "text": [
      "0 67.0542 2888.7\n",
      "1 75.0229 102349.8\n",
      "2 76.0307 5352.6\n",
      "3 77.0385 6545281.8\n",
      "4 81.0335 83150.0\n",
      "5 89.0385 10566.8\n",
      "6 91.0542 10377.5\n",
      "7 94.0413 49069.1\n",
      "8 95.049 3629064.3\n",
      "9 101.0387 19379.6\n",
      "10 102.0464 812258.5\n",
      "11 103.0541 19458714.9\n",
      "12 104.0494 16721.8\n",
      "13 105.0446 2642234.2\n",
      "14 106.0416 5325.6\n",
      "15 119.0491 23268.8\n",
      "16 128.0495 667393.7\n",
      "17 129.0448 227387.6\n",
      "18 129.0573 49215.1\n",
      "19 130.0649 150136344.5\n",
      "{'smiles': 'N1=CC=C2C=CC=CC2=C1', 'InChIKey': 'AWJUIBRHMBBTKR-UHFFFAOYSA-N', 'ionization': '[M + H]+', 'collision': '180', 'compound': 'ufz_0066', 'InChI': 'InChI=1S/C9H7N/c1-2-4-9-7-10-6-5-8(9)3-1/h1-7H', 'formula': 'C9H7N', 'parentmass': '130.0651', 'annotation': 'ufz_0066'}\n"
     ]
    }
   ],
   "source": [
    "for i,(mz,inte) in enumerate(s1):\n",
    "    print i,mz,inte\n",
    "print metadata[score_list[2][1].name]"
   ]
  },
  {
   "cell_type": "code",
   "execution_count": 156,
   "metadata": {},
   "outputs": [
    {
     "name": "stdout",
     "output_type": "stream",
     "text": [
      "0 77.0383 277874.4\n",
      "1 95.0488 199224.2\n",
      "2 102.0459 31261.3\n",
      "3 103.0539 1038691.0\n",
      "4 105.0443 148718.5\n",
      "5 115.0539 3104.5\n",
      "6 128.0489 26143.6\n",
      "7 129.0442 10391.1\n",
      "8 130.0645 6980513.1\n",
      "{'smiles': 'N1=CC=C2C=CC=CC2=C1', 'InChIKey': 'AWJUIBRHMBBTKR-UHFFFAOYSA-N', 'ionization': '[M + H]+', 'collision': '180', 'compound': 'ufz_0006', 'InChI': 'InChI=1S/C9H7N/c1-2-4-9-7-10-6-5-8(9)3-1/h1-7H', 'formula': 'C9H7N', 'parentmass': '130.0651', 'annotation': 'ufz_0006'}\n"
     ]
    }
   ],
   "source": [
    "for i,(mz,inte) in enumerate(s2):\n",
    "    print i,mz,inte\n",
    "print metadata[score_list[2][0].name]"
   ]
  },
  {
   "cell_type": "code",
   "execution_count": 149,
   "metadata": {},
   "outputs": [
    {
     "name": "stdout",
     "output_type": "stream",
     "text": [
      "['__class__', '__delattr__', '__dict__', '__doc__', '__format__', '__getattribute__', '__hash__', '__init__', '__module__', '__new__', '__reduce__', '__reduce_ex__', '__repr__', '__setattr__', '__sizeof__', '__str__', '__subclasshook__', '__weakref__', 'file_name', 'id', 'intensity', 'mz', 'name', 'rt', 'scan_number']\n",
      "gnps\n"
     ]
    }
   ],
   "source": [
    "print dir(ms1[0])\n",
    "print ms1[0].file_name"
   ]
  },
  {
   "cell_type": "code",
   "execution_count": null,
   "metadata": {},
   "outputs": [],
   "source": []
  }
 ],
 "metadata": {
  "kernelspec": {
   "display_name": "Python 2",
   "language": "python",
   "name": "python2"
  },
  "language_info": {
   "codemirror_mode": {
    "name": "ipython",
    "version": 2
   },
   "file_extension": ".py",
   "mimetype": "text/x-python",
   "name": "python",
   "nbconvert_exporter": "python",
   "pygments_lexer": "ipython2",
   "version": "2.7.14"
  }
 },
 "nbformat": 4,
 "nbformat_minor": 2
}
