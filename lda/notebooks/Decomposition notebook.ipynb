{
 "cells": [
  {
   "cell_type": "markdown",
   "metadata": {},
   "source": [
    "# Decomposition Example"
   ]
  },
  {
   "cell_type": "markdown",
   "metadata": {},
   "source": [
    "First step, set the paths to where to find the motif dictionary and associated code. Note that these are available at http://github.com/sdrogers/motifdb"
   ]
  },
  {
   "cell_type": "code",
   "execution_count": 1,
   "metadata": {
    "collapsed": true
   },
   "outputs": [],
   "source": [
    "motifdbcodepath = '/Users/simon/git/motifdb/code/utilities/'\n",
    "motifdbpath = '/Users/simon/git/motifdb/motifs/'"
   ]
  },
  {
   "cell_type": "markdown",
   "metadata": {},
   "source": [
    "Load some motifs from the motif database, I'm just loading the massbank ones"
   ]
  },
  {
   "cell_type": "code",
   "execution_count": 2,
   "metadata": {},
   "outputs": [
    {
     "name": "stdout",
     "output_type": "stream",
     "text": [
      "Looking in /Users/simon/git/motifdb/motifs/gnps_binned_005/*.m2m\n",
      "\t Found 92\n",
      "Found total of 92 motif files\n"
     ]
    }
   ],
   "source": [
    "import sys\n",
    "sys.path.append(motifdbcodepath)\n",
    "from motifdb_loader import load_db\n",
    "db_list = ['gnps_binned_005']\n",
    "spectra,motif_metadata = load_db(db_list,motifdbpath)"
   ]
  },
  {
   "cell_type": "markdown",
   "metadata": {},
   "source": [
    "spectra is a dictionary with key the filename of the motif and values another dictionary with feature / probability pairs"
   ]
  },
  {
   "cell_type": "code",
   "execution_count": 3,
   "metadata": {
    "collapsed": true
   },
   "outputs": [],
   "source": [
    "import numpy as np"
   ]
  },
  {
   "cell_type": "markdown",
   "metadata": {},
   "source": [
    "make an index of the unique features -- we can only decompose onto features that are loaded from the database"
   ]
  },
  {
   "cell_type": "code",
   "execution_count": 4,
   "metadata": {
    "collapsed": true
   },
   "outputs": [],
   "source": [
    "word_index = {}\n",
    "word_pos = 0\n",
    "for motif,word_probs in spectra.items():\n",
    "    for word,probability in word_probs.items():\n",
    "        if not word in word_index:\n",
    "            word_index[word] = word_pos\n",
    "            word_pos += 1"
   ]
  },
  {
   "cell_type": "markdown",
   "metadata": {},
   "source": [
    "Put the words and motifs into a matrix ($\\beta$)"
   ]
  },
  {
   "cell_type": "code",
   "execution_count": 5,
   "metadata": {
    "collapsed": true
   },
   "outputs": [],
   "source": [
    "# Create a beta matrix\n",
    "motif_index = {}\n",
    "motif_pos = 0\n",
    "n_motifs = len(spectra)\n",
    "n_words = len(word_index)\n",
    "beta = np.zeros((n_motifs,n_words),np.double)\n",
    "for motif,word_probs in spectra.items():\n",
    "    motif_index[motif] = motif_pos\n",
    "    for word,probability in word_probs.items():\n",
    "        beta[motif_pos,word_index[word]] = probability\n",
    "    motif_pos += 1"
   ]
  },
  {
   "cell_type": "code",
   "execution_count": 6,
   "metadata": {},
   "outputs": [
    {
     "data": {
      "text/plain": [
       "<matplotlib.image.AxesImage at 0x107ded8d0>"
      ]
     },
     "execution_count": 6,
     "metadata": {},
     "output_type": "execute_result"
    },
    {
     "data": {
      "image/png": "[encoded data removed]",
      "text/plain": [
       "<matplotlib.figure.Figure at 0x107cc75d0>"
      ]
     },
     "metadata": {},
     "output_type": "display_data"
    }
   ],
   "source": [
    "import pylab as plt\n",
    "%matplotlib inline\n",
    "plt.imshow(beta,aspect='auto')\n"
   ]
  },
  {
   "cell_type": "markdown",
   "metadata": {},
   "source": [
    "Renomalise beta as when we save motifs we threshold on the probabilities and they end up not summing to 1\n",
    "\n",
    "*Addition*: made sure there were no zeros"
   ]
  },
  {
   "cell_type": "code",
   "execution_count": 7,
   "metadata": {
    "collapsed": true
   },
   "outputs": [],
   "source": [
    "    # find the minimum value of beta that isn't zero\n",
    "    pos = np.where(beta > 0)\n",
    "    min_val = beta[pos].min()\n",
    "    zpos = np.where(beta == 0)\n",
    "    beta[zpos] = min_val/100"
   ]
  },
  {
   "cell_type": "code",
   "execution_count": 8,
   "metadata": {
    "collapsed": true
   },
   "outputs": [],
   "source": [
    "beta /= beta.sum(axis=1)[:,None]"
   ]
  },
  {
   "cell_type": "markdown",
   "metadata": {},
   "source": [
    "Load some data..I'm loading massbank data, but other datasets are available. Also assuming the motifs were made using binned features"
   ]
  },
  {
   "cell_type": "code",
   "execution_count": 28,
   "metadata": {},
   "outputs": [
    {
     "name": "stdout",
     "output_type": "stream",
     "text": [
      "Processed 100 spectra\n",
      "100 documents\n",
      "After removing empty words, 3695 words left\n"
     ]
    }
   ],
   "source": [
    "ldacodepath = '/Users/simon/git/lda/code/'\n",
    "sys.path.append(ldacodepath)\n",
    "from ms2lda_feature_extraction import LoadGNPS,MakeBinnedFeatures\n",
    "\n",
    "import glob\n",
    "massbank_data = glob.glob('/Users/simon/Dropbox/BioResearch/Meta_clustering/MS2LDA/fingerid-104-traindata/spectra_massbank/*.ms')\n",
    "sub_data = massbank_data[:100]\n",
    "l = LoadGNPS()\n",
    "ms1,ms2,spectral_metadata = l.load_spectra(sub_data)\n",
    "m = MakeBinnedFeatures()\n",
    "corpus,word_mz_range = m.make_features(ms2)\n",
    "corpus = corpus[corpus.keys()[0]]"
   ]
  },
  {
   "cell_type": "markdown",
   "metadata": {},
   "source": [
    "New code to load from the MGF"
   ]
  },
  {
   "cell_type": "code",
   "execution_count": 9,
   "metadata": {},
   "outputs": [
    {
     "name": "stdout",
     "output_type": "stream",
     "text": [
      "2331 documents\n",
      "After removing empty words, 75773 words left\n"
     ]
    }
   ],
   "source": [
    "ldacodepath = '/Users/simon/git/lda/code/'\n",
    "sys.path.append(ldacodepath)\n",
    "from ms2lda_feature_extraction import LoadMGF,MakeBinnedFeatures\n",
    "\n",
    "mgf_file = '/Users/simon/git/lda/notebooks/clusters.mgf'\n",
    "l = LoadMGF()\n",
    "ms1,ms2,spectral_metadata = l.load_spectra([mgf_file])\n",
    "m = MakeBinnedFeatures()\n",
    "corpus,word_mz_range = m.make_features(ms2)\n",
    "corpus = corpus[corpus.keys()[0]]"
   ]
  },
  {
   "cell_type": "markdown",
   "metadata": {},
   "source": [
    "Do the decomposition\n",
    "\n",
    "Some points to note here:\n",
    " - Features in the spectra that are not in the motifs don't add anything to they get skipped. I compute (`proportion_in`) the percentage of intensity that is usable.\n",
    " - This should be taken into account when interpreting the spectra-motif probabilities (`theta`). These values can be interpreted as the proportion of the usable part of the spectra, and not the total.\n",
    " - I also compute overlap score, as it's useful to see how much of the motif is in the spectrum"
   ]
  },
  {
   "cell_type": "markdown",
   "metadata": {},
   "source": [
    "This is a handy function to compute the overlap score"
   ]
  },
  {
   "cell_type": "code",
   "execution_count": 10,
   "metadata": {
    "collapsed": true
   },
   "outputs": [],
   "source": [
    "def compute_overlap(phi_matrix,motif_pos,beta_row,word_index):\n",
    "    overlap_score = 0.0\n",
    "    for word in phi_matrix:\n",
    "        word_pos = word_index[word]\n",
    "        overlap_score += phi_matrix[word][motif_pos]*beta_row[word_pos]\n",
    "    return overlap_score"
   ]
  },
  {
   "cell_type": "markdown",
   "metadata": {},
   "source": [
    " - This is the actual decomposition. \n",
    " - The main loop goes over 100 times, this is probably overkill but it jumps out if the total absolute change in `gamma` is less than `1e-6`.\n",
    " - This code doesn't compute alpha, but I can add that if necessary\n",
    " - I get a warning about a `log(0)`. This is due to some entries in beta being 0, and it doesn't cause any problem, but could be removed by setting all the zero values to somethign very small and then re-normalising the beta matrix.\n",
    " - I do some plotting at the end to show how stuff can be exposed\n",
    " - If you wanted to see the decomposition at the individual feature level then you would need to keep hold of `phi_matrix` which gives (for each word), the probabilities over each motif."
   ]
  },
  {
   "cell_type": "code",
   "execution_count": 11,
   "metadata": {
    "collapsed": true
   },
   "outputs": [],
   "source": [
    "from scipy.special import psi as psi\n",
    "theta = {}\n",
    "K = n_motifs\n",
    "alpha = 1 # will have some effect, but there's no way to set it. Making it low means we'll get sparse solutions\n",
    "overlap_scores = {}\n",
    "\n",
    "doc_scans = []\n",
    "for doc in corpus:\n",
    "    doc_scans.append((doc,int(spectral_metadata[doc]['scans'])))\n",
    "    \n",
    "doc_scans = sorted(doc_scans,key = lambda x: x[1])\n",
    "# doc_scans = filter(lambda x: x[1]<=130,doc_scans)\n",
    "doc_list,scan_list = zip(*doc_scans)"
   ]
  },
  {
   "cell_type": "code",
   "execution_count": 12,
   "metadata": {},
   "outputs": [
    {
     "name": "stdout",
     "output_type": "stream",
     "text": [
      "document_3 7 gnps_motif_53.m2m 0.436664774485 0.818121811933 Imidazole group linked to a carboxylgrou\n",
      "document_20 92 gnps_motif_57.m2m 0.12675067679 0.869783767108 Fragment ions indicative for alkylamine \n",
      "document_24 102 gnps_motif_47.m2m 0.334935213696 0.712569909984 Fragments indicative for histidine (C6H1\n",
      "document_25 103 gnps_motif_43.m2m 0.320453782177 0.952907846142 Water loss - indicative of a free hydrox\n",
      "document_28 106 gnps_motif_47.m2m 0.6422365857 0.712587106532 Fragments indicative for histidine (C6H1\n",
      "document_31 113 gnps_motif_43.m2m 0.115703990472 0.943182378272 Water loss - indicative of a free hydrox\n",
      "document_36 138 gnps_motif_48.m2m 0.0150461070257 0.954570773263 Fragment ion indicative for conjugation \n",
      "document_39 160 gnps_motif_47.m2m 0.603629645667 0.712596735254 Fragments indicative for histidine (C6H1\n",
      "document_60 193 gnps_motif_47.m2m 0.641822585482 0.712585492377 Fragments indicative for histidine (C6H1\n",
      "document_60 193 gnps_motif_53.m2m 0.0949325321323 0.818038773454 Imidazole group linked to a carboxylgrou\n",
      "document_62 197 gnps_motif_47.m2m 0.720442395254 0.712587280818 Fragments indicative for histidine (C6H1\n",
      "document_64 200 gnps_motif_48.m2m 0.257427371088 0.955202742159 Fragment ion indicative for conjugation \n",
      "document_70 208 gnps_motif_47.m2m 0.742067762632 0.712590079846 Fragments indicative for histidine (C6H1\n",
      "document_81 230 gnps_motif_47.m2m 0.395593777503 0.712580083543 Fragments indicative for histidine (C6H1\n",
      "document_86 241 gnps_motif_48.m2m 0.457499475679 0.955223000474 Fragment ion indicative for conjugation \n",
      "document_91 254 gnps_motif_47.m2m 0.34746855391 0.712576286517 Fragments indicative for histidine (C6H1\n",
      "document_98 294 gnps_motif_47.m2m 0.275760494321 0.712575493693 Fragments indicative for histidine (C6H1\n",
      "document_102 308 gnps_motif_47.m2m 0.18737212142 0.712555029088 Fragments indicative for histidine (C6H1\n",
      "document_107 391 gnps_motif_37.m2m 0.159095359634 0.502995332257 Fragments indicative for cinnamic/hydrox\n",
      "document_108 392 gnps_motif_37.m2m 0.105477307452 0.33309929407 Fragments indicative for cinnamic/hydrox\n",
      "document_117 422 gnps_motif_59.m2m 0.754942294813 0.91716312657 Fragments indicative for [phenylalanine-\n",
      "document_119 427 gnps_motif_13.m2m 0.422550665218 0.95522270844 Amine loss - Indicative for free NH2 gro\n",
      "document_127 451 gnps_motif_55.m2m 0.640928718051 0.735768672082 Fragments indicative for dihydroxylated \n",
      "document_127 451 gnps_motif_57.m2m 0.189021234163 0.869787077406 Fragment ions indicative for alkylamine \n",
      "document_128 455 gnps_motif_57.m2m 0.188227903207 0.869791337415 Fragment ions indicative for alkylamine \n",
      "document_130 465 gnps_motif_53.m2m 0.024399380552 0.817747330805 Imidazole group linked to a carboxylgrou\n",
      "document_133 479 gnps_motif_5.m2m 0.338190471488 0.477614163933 Combined loss of H2O and CO – indicati\n",
      "document_133 479 gnps_motif_38.m2m 0.338190471488 0.477614163933 Loss of CH2O2 - indicative for underivat\n",
      "document_134 482 gnps_motif_3.m2m 0.449350015884 0.900336613814 nitrogen containing substructure [C5H12N\n",
      "document_134 482 gnps_motif_5.m2m 0.224680451929 0.47760977005 Combined loss of H2O and CO – indicati\n",
      "document_134 482 gnps_motif_38.m2m 0.224680451929 0.47760977005 Loss of CH2O2 - indicative for underivat\n",
      "document_137 485 gnps_motif_3.m2m 0.456284738769 0.900343174325 nitrogen containing substructure [C5H12N\n",
      "document_137 485 gnps_motif_5.m2m 0.228230771147 0.477575366739 Combined loss of H2O and CO – indicati\n",
      "document_137 485 gnps_motif_38.m2m 0.228230771147 0.477575366739 Loss of CH2O2 - indicative for underivat\n",
      "document_138 486 gnps_motif_3.m2m 0.448795950558 0.900340643946 nitrogen containing substructure [C5H12N\n",
      "document_138 486 gnps_motif_5.m2m 0.224402877324 0.477611792562 Combined loss of H2O and CO – indicati\n",
      "document_138 486 gnps_motif_38.m2m 0.224402877324 0.477611792562 Loss of CH2O2 - indicative for underivat\n",
      "document_139 487 gnps_motif_3.m2m 0.451364505211 0.900336782336 nitrogen containing substructure [C5H12N\n",
      "document_139 487 gnps_motif_5.m2m 0.225700737557 0.47760966359 Combined loss of H2O and CO – indicati\n",
      "document_139 487 gnps_motif_38.m2m 0.225700737557 0.47760966359 Loss of CH2O2 - indicative for underivat\n",
      "document_141 489 gnps_motif_3.m2m 0.325843191598 0.900328380676 nitrogen containing substructure [C5H12N\n",
      "document_141 489 gnps_motif_5.m2m 0.162957488277 0.477605004878 Combined loss of H2O and CO – indicati\n",
      "document_141 489 gnps_motif_38.m2m 0.162957488277 0.477605004878 Loss of CH2O2 - indicative for underivat\n",
      "document_142 490 gnps_motif_3.m2m 0.370406384684 0.90033454782 nitrogen containing substructure [C5H12N\n",
      "document_142 490 gnps_motif_5.m2m 0.185252801178 0.477607928996 Combined loss of H2O and CO – indicati\n",
      "document_142 490 gnps_motif_38.m2m 0.185252801178 0.477607928996 Loss of CH2O2 - indicative for underivat\n",
      "document_143 491 gnps_motif_3.m2m 0.47600634971 0.900340583445 nitrogen containing substructure [C5H12N\n",
      "document_143 491 gnps_motif_5.m2m 0.238042513816 0.477591199809 Combined loss of H2O and CO – indicati\n",
      "document_143 491 gnps_motif_38.m2m 0.238042513816 0.477591199809 Loss of CH2O2 - indicative for underivat\n",
      "document_144 492 gnps_motif_3.m2m 0.464725157393 0.900338905982 nitrogen containing substructure [C5H12N\n",
      "document_144 492 gnps_motif_5.m2m 0.232667390799 0.477606652838 Combined loss of H2O and CO – indicati\n",
      "document_144 492 gnps_motif_38.m2m 0.232667390799 0.477606652838 Loss of CH2O2 - indicative for underivat\n",
      "document_145 493 gnps_motif_3.m2m 0.146325006881 0.900295450335 nitrogen containing substructure [C5H12N\n",
      "document_146 494 gnps_motif_3.m2m 0.703833945413 0.955256473794 nitrogen containing substructure [C5H12N\n",
      "document_146 494 gnps_motif_5.m2m 0.126080920213 0.477600699279 Combined loss of H2O and CO – indicati\n",
      "document_146 494 gnps_motif_38.m2m 0.126080920213 0.477600699279 Loss of CH2O2 - indicative for underivat\n",
      "document_148 496 gnps_motif_3.m2m 0.737872398054 0.955243670503 nitrogen containing substructure [C5H12N\n",
      "document_148 496 gnps_motif_5.m2m 0.110903990694 0.477597593379 Combined loss of H2O and CO – indicati\n",
      "document_148 496 gnps_motif_38.m2m 0.110903990694 0.477597593379 Loss of CH2O2 - indicative for underivat\n",
      "document_149 497 gnps_motif_3.m2m 0.57513902868 0.955227905556 nitrogen containing substructure [C5H12N\n",
      "document_149 497 gnps_motif_5.m2m 0.128628922897 0.477599378332 Combined loss of H2O and CO – indicati\n",
      "document_149 497 gnps_motif_38.m2m 0.128628922897 0.477599378332 Loss of CH2O2 - indicative for underivat\n",
      "document_150 500 gnps_motif_3.m2m 0.430527714753 0.900335789353 nitrogen containing substructure [C5H12N\n",
      "document_151 501 gnps_motif_3.m2m 0.254025144361 0.900318897113 nitrogen containing substructure [C5H12N\n",
      "document_151 501 gnps_motif_5.m2m 0.127668434277 0.477583918318 Combined loss of H2O and CO – indicati\n",
      "document_153 504 gnps_motif_3.m2m 0.677157225062 0.95523153052 nitrogen containing substructure [C5H12N\n",
      "document_153 504 gnps_motif_5.m2m 0.119518377123 0.477564211327 Combined loss of H2O and CO – indicati\n",
      "document_153 504 gnps_motif_38.m2m 0.119518377123 0.477564211327 Loss of CH2O2 - indicative for underivat\n",
      "document_154 505 gnps_motif_3.m2m 0.485594478144 0.900343409196 nitrogen containing substructure [C5H12N\n",
      "document_154 505 gnps_motif_5.m2m 0.242884013281 0.477612063667 Combined loss of H2O and CO – indicati\n",
      "document_154 505 gnps_motif_38.m2m 0.242884013281 0.477612063667 Loss of CH2O2 - indicative for underivat\n",
      "document_156 509 gnps_motif_3.m2m 0.440520971012 0.900340431649 nitrogen containing substructure [C5H12N\n",
      "document_156 509 gnps_motif_5.m2m 0.220429282862 0.477608310442 Combined loss of H2O and CO – indicati\n",
      "document_156 509 gnps_motif_38.m2m 0.220429282862 0.477608310442 Loss of CH2O2 - indicative for underivat\n",
      "document_157 511 gnps_motif_3.m2m 0.426939159356 0.900344758968 nitrogen containing substructure [C5H12N\n",
      "document_157 511 gnps_motif_5.m2m 0.213580842032 0.477600451216 Combined loss of H2O and CO – indicati\n",
      "document_157 511 gnps_motif_38.m2m 0.213580842032 0.477600451216 Loss of CH2O2 - indicative for underivat\n",
      "document_158 513 gnps_motif_3.m2m 0.483693887541 0.95521741916 nitrogen containing substructure [C5H12N\n",
      "document_159 515 gnps_motif_3.m2m 0.677007576093 0.955233126649 nitrogen containing substructure [C5H12N\n",
      "document_159 515 gnps_motif_5.m2m 0.0941850188359 0.47746364717 Combined loss of H2O and CO – indicati\n",
      "document_159 515 gnps_motif_38.m2m 0.0941850188359 0.47746364717 Loss of CH2O2 - indicative for underivat\n",
      "document_160 516 gnps_motif_3.m2m 0.669237587801 0.955244604859 nitrogen containing substructure [C5H12N\n",
      "document_160 516 gnps_motif_5.m2m 0.113903513091 0.477495025686 Combined loss of H2O and CO – indicati\n",
      "document_160 516 gnps_motif_38.m2m 0.113903513091 0.477495025686 Loss of CH2O2 - indicative for underivat\n",
      "document_161 517 gnps_motif_3.m2m 0.425428050827 0.900336491594 nitrogen containing substructure [C5H12N\n",
      "document_161 517 gnps_motif_5.m2m 0.213337889982 0.477600099844 Combined loss of H2O and CO – indicati\n",
      "document_161 517 gnps_motif_38.m2m 0.213337889982 0.477600099844 Loss of CH2O2 - indicative for underivat\n",
      "document_162 521 gnps_motif_3.m2m 0.477182665795 0.900338165434 nitrogen containing substructure [C5H12N\n",
      "document_162 521 gnps_motif_5.m2m 0.238787045467 0.477607915581 Combined loss of H2O and CO – indicati\n",
      "document_162 521 gnps_motif_38.m2m 0.238787045467 0.477607915581 Loss of CH2O2 - indicative for underivat\n",
      "document_163 522 gnps_motif_3.m2m 0.377800590214 0.900332661116 nitrogen containing substructure [C5H12N\n",
      "document_163 522 gnps_motif_5.m2m 0.18912788701 0.477603888085 Combined loss of H2O and CO – indicati\n",
      "document_163 522 gnps_motif_38.m2m 0.18912788701 0.477603888085 Loss of CH2O2 - indicative for underivat\n",
      "document_164 523 gnps_motif_3.m2m 0.616162806218 0.955226550154 nitrogen containing substructure [C5H12N\n",
      "document_164 523 gnps_motif_5.m2m 0.0980825054095 0.477580577432 Combined loss of H2O and CO – indicati\n",
      "document_164 523 gnps_motif_38.m2m 0.0980825054095 0.477580577432 Loss of CH2O2 - indicative for underivat\n",
      "document_165 524 gnps_motif_3.m2m 0.335138175044 0.900330640737 nitrogen containing substructure [C5H12N\n",
      "document_165 524 gnps_motif_5.m2m 0.168053908873 0.477596469495 Combined loss of H2O and CO – indicati\n",
      "document_165 524 gnps_motif_38.m2m 0.168053908873 0.477596469495 Loss of CH2O2 - indicative for underivat\n",
      "document_166 525 gnps_motif_3.m2m 0.732315046822 0.95523246986 nitrogen containing substructure [C5H12N\n",
      "document_166 525 gnps_motif_5.m2m 0.0885994704259 0.477586681476 Combined loss of H2O and CO – indicati\n",
      "document_166 525 gnps_motif_38.m2m 0.0885994704259 0.477586681476 Loss of CH2O2 - indicative for underivat\n",
      "document_167 526 gnps_motif_3.m2m 0.451793866059 0.900337550054 nitrogen containing substructure [C5H12N\n",
      "document_167 526 gnps_motif_5.m2m 0.226429173846 0.477602534763 Combined loss of H2O and CO – indicati\n",
      "document_167 526 gnps_motif_38.m2m 0.226429173846 0.477602534763 Loss of CH2O2 - indicative for underivat\n",
      "document_168 527 gnps_motif_3.m2m 0.410581855648 0.90033640107 nitrogen containing substructure [C5H12N\n",
      "document_168 527 gnps_motif_5.m2m 0.205784054734 0.4776017821 Combined loss of H2O and CO – indicati\n",
      "document_168 527 gnps_motif_38.m2m 0.205784054734 0.4776017821 Loss of CH2O2 - indicative for underivat\n",
      "document_170 530 gnps_motif_3.m2m 0.346556970818 0.900329644937 nitrogen containing substructure [C5H12N\n",
      "document_170 530 gnps_motif_5.m2m 0.173659428514 0.47759909055 Combined loss of H2O and CO – indicati\n"
     ]
    },
    {
     "name": "stdout",
     "output_type": "stream",
     "text": [
      "document_171 532 gnps_motif_3.m2m 0.436280585131 0.900336411754 nitrogen containing substructure [C5H12N\n",
      "document_171 532 gnps_motif_5.m2m 0.218400232397 0.477605811648 Combined loss of H2O and CO – indicati\n",
      "document_171 532 gnps_motif_38.m2m 0.218400232397 0.477605811648 Loss of CH2O2 - indicative for underivat\n",
      "document_172 536 gnps_motif_3.m2m 0.455455021622 0.900337133018 nitrogen containing substructure [C5H12N\n",
      "document_172 536 gnps_motif_5.m2m 0.227860692678 0.477608176359 Combined loss of H2O and CO – indicati\n",
      "document_172 536 gnps_motif_38.m2m 0.227860692678 0.477608176359 Loss of CH2O2 - indicative for underivat\n",
      "document_173 537 gnps_motif_3.m2m 0.772431021023 0.955238129712 nitrogen containing substructure [C5H12N\n",
      "document_173 537 gnps_motif_5.m2m 0.096979751323 0.477590786285 Combined loss of H2O and CO – indicati\n",
      "document_173 537 gnps_motif_38.m2m 0.096979751323 0.477590786285 Loss of CH2O2 - indicative for underivat\n",
      "document_174 538 gnps_motif_33.m2m 0.57427885572 0.377190209678 tetrahydroisoquinoline substructure\n",
      "document_175 539 gnps_motif_3.m2m 0.424849443751 0.900336174691 nitrogen containing substructure [C5H12N\n",
      "document_175 539 gnps_motif_5.m2m 0.212832110703 0.477603274057 Combined loss of H2O and CO – indicati\n",
      "document_175 539 gnps_motif_38.m2m 0.212832110703 0.477603274057 Loss of CH2O2 - indicative for underivat\n",
      "document_177 543 gnps_motif_3.m2m 0.433164384068 0.900337054022 nitrogen containing substructure [C5H12N\n",
      "document_177 543 gnps_motif_5.m2m 0.217149879184 0.477601402821 Combined loss of H2O and CO – indicati\n",
      "document_177 543 gnps_motif_38.m2m 0.217149879184 0.477601402821 Loss of CH2O2 - indicative for underivat\n",
      "document_180 556 gnps_motif_3.m2m 0.462029565249 0.900337820781 nitrogen containing substructure [C5H12N\n",
      "document_180 556 gnps_motif_5.m2m 0.231434074134 0.477604457473 Combined loss of H2O and CO – indicati\n",
      "document_180 556 gnps_motif_38.m2m 0.231434074134 0.477604457473 Loss of CH2O2 - indicative for underivat\n",
      "document_181 558 gnps_motif_3.m2m 0.372822658819 0.900333616342 nitrogen containing substructure [C5H12N\n",
      "document_181 558 gnps_motif_5.m2m 0.186937836021 0.477550953112 Combined loss of H2O and CO – indicati\n",
      "document_181 558 gnps_motif_38.m2m 0.186937836021 0.477550953112 Loss of CH2O2 - indicative for underivat\n",
      "document_182 559 gnps_motif_3.m2m 0.735748375147 0.955231639953 nitrogen containing substructure [C5H12N\n",
      "document_183 562 gnps_motif_3.m2m 0.380194894829 0.900337081166 nitrogen containing substructure [C5H12N\n",
      "document_183 562 gnps_motif_5.m2m 0.19070773769 0.477599395991 Combined loss of H2O and CO – indicati\n",
      "document_183 562 gnps_motif_38.m2m 0.19070773769 0.477599395991 Loss of CH2O2 - indicative for underivat\n",
      "document_184 566 gnps_motif_3.m2m 0.385715190827 0.900334514783 nitrogen containing substructure [C5H12N\n",
      "document_184 566 gnps_motif_5.m2m 0.193501956371 0.477597761068 Combined loss of H2O and CO – indicati\n",
      "document_184 566 gnps_motif_38.m2m 0.193501956371 0.477597761068 Loss of CH2O2 - indicative for underivat\n",
      "document_186 575 gnps_motif_3.m2m 0.400550519123 0.900334772374 nitrogen containing substructure [C5H12N\n",
      "document_186 575 gnps_motif_5.m2m 0.200682756557 0.477517168447 Combined loss of H2O and CO – indicati\n",
      "document_186 575 gnps_motif_38.m2m 0.200682756557 0.477517168447 Loss of CH2O2 - indicative for underivat\n",
      "document_187 577 gnps_motif_3.m2m 0.456883600017 0.900337686209 nitrogen containing substructure [C5H12N\n",
      "document_187 577 gnps_motif_5.m2m 0.228917876301 0.477603501604 Combined loss of H2O and CO – indicati\n",
      "document_187 577 gnps_motif_38.m2m 0.228917876301 0.477603501604 Loss of CH2O2 - indicative for underivat\n",
      "document_188 578 gnps_motif_3.m2m 0.440451400839 0.90033723517 nitrogen containing substructure [C5H12N\n",
      "document_188 578 gnps_motif_5.m2m 0.220883104704 0.477600299789 Combined loss of H2O and CO – indicati\n",
      "document_188 578 gnps_motif_38.m2m 0.220883104704 0.477600299789 Loss of CH2O2 - indicative for underivat\n",
      "document_190 588 gnps_motif_3.m2m 0.390152585359 0.900333987765 nitrogen containing substructure [C5H12N\n",
      "document_190 588 gnps_motif_5.m2m 0.195411627004 0.477602858638 Combined loss of H2O and CO – indicati\n",
      "document_190 588 gnps_motif_38.m2m 0.195411627004 0.477602858638 Loss of CH2O2 - indicative for underivat\n",
      "document_191 590 gnps_motif_3.m2m 0.691589573746 0.955230150025 nitrogen containing substructure [C5H12N\n",
      "document_191 590 gnps_motif_5.m2m 0.125703964236 0.477593492507 Combined loss of H2O and CO – indicati\n",
      "document_191 590 gnps_motif_38.m2m 0.125703964236 0.477593492507 Loss of CH2O2 - indicative for underivat\n",
      "document_192 595 gnps_motif_3.m2m 0.657210306833 0.955229299113 nitrogen containing substructure [C5H12N\n",
      "document_192 595 gnps_motif_5.m2m 0.138736069768 0.477506552848 Combined loss of H2O and CO – indicati\n",
      "document_192 595 gnps_motif_38.m2m 0.138736069768 0.477506552848 Loss of CH2O2 - indicative for underivat\n",
      "document_193 596 gnps_motif_3.m2m 0.353538572329 0.900331162045 nitrogen containing substructure [C5H12N\n",
      "document_193 596 gnps_motif_5.m2m 0.177259926787 0.477467811668 Combined loss of H2O and CO – indicati\n",
      "document_193 596 gnps_motif_38.m2m 0.177259926787 0.477467811668 Loss of CH2O2 - indicative for underivat\n",
      "document_194 601 gnps_motif_3.m2m 0.686886054748 0.95522987387 nitrogen containing substructure [C5H12N\n",
      "document_194 601 gnps_motif_5.m2m 0.112554133525 0.477477987908 Combined loss of H2O and CO – indicati\n",
      "document_194 601 gnps_motif_38.m2m 0.112554133525 0.477477987908 Loss of CH2O2 - indicative for underivat\n",
      "document_195 603 gnps_motif_3.m2m 0.657786496387 0.955230848614 nitrogen containing substructure [C5H12N\n",
      "document_195 603 gnps_motif_5.m2m 0.112800371153 0.477587714745 Combined loss of H2O and CO – indicati\n",
      "document_195 603 gnps_motif_38.m2m 0.112800371153 0.477587714745 Loss of CH2O2 - indicative for underivat\n",
      "document_196 604 gnps_motif_3.m2m 0.360858067078 0.900337272953 nitrogen containing substructure [C5H12N\n",
      "document_196 604 gnps_motif_5.m2m 0.180586372704 0.477607287554 Combined loss of H2O and CO – indicati\n",
      "document_197 612 gnps_motif_3.m2m 0.561371559238 0.955223126918 nitrogen containing substructure [C5H12N\n",
      "document_197 612 gnps_motif_5.m2m 0.131659001497 0.477593783723 Combined loss of H2O and CO – indicati\n",
      "document_197 612 gnps_motif_38.m2m 0.131659001497 0.477593783723 Loss of CH2O2 - indicative for underivat\n",
      "document_198 621 gnps_motif_3.m2m 0.406075780158 0.900337274773 nitrogen containing substructure [C5H12N\n",
      "document_198 621 gnps_motif_5.m2m 0.203557347201 0.477601702968 Combined loss of H2O and CO – indicati\n",
      "document_198 621 gnps_motif_38.m2m 0.203557347201 0.477601702968 Loss of CH2O2 - indicative for underivat\n",
      "document_199 629 gnps_motif_3.m2m 0.586093834943 0.955225909959 nitrogen containing substructure [C5H12N\n",
      "document_199 629 gnps_motif_5.m2m 0.174754604337 0.477603076951 Combined loss of H2O and CO – indicati\n",
      "document_199 629 gnps_motif_38.m2m 0.174754604337 0.477603076951 Loss of CH2O2 - indicative for underivat\n",
      "document_200 635 gnps_motif_3.m2m 0.650504412448 0.955229031756 nitrogen containing substructure [C5H12N\n",
      "document_200 635 gnps_motif_5.m2m 0.156959239513 0.47760126817 Combined loss of H2O and CO – indicati\n",
      "document_200 635 gnps_motif_38.m2m 0.156959239513 0.47760126817 Loss of CH2O2 - indicative for underivat\n",
      "document_201 654 gnps_motif_3.m2m 0.433571795082 0.900337910165 nitrogen containing substructure [C5H12N\n",
      "document_201 654 gnps_motif_5.m2m 0.217252786595 0.477590294226 Combined loss of H2O and CO – indicati\n",
      "document_201 654 gnps_motif_38.m2m 0.217252786595 0.477590294226 Loss of CH2O2 - indicative for underivat\n",
      "document_203 669 gnps_motif_3.m2m 0.676811041054 0.955243298649 nitrogen containing substructure [C5H12N\n",
      "document_203 669 gnps_motif_5.m2m 0.116238591408 0.477600403399 Combined loss of H2O and CO – indicati\n",
      "document_203 669 gnps_motif_38.m2m 0.116238591408 0.477600403399 Loss of CH2O2 - indicative for underivat\n",
      "document_204 676 gnps_motif_3.m2m 0.39953622531 0.900336031661 nitrogen containing substructure [C5H12N\n",
      "document_204 676 gnps_motif_5.m2m 0.200666882389 0.477594666662 Combined loss of H2O and CO – indicati\n",
      "document_204 676 gnps_motif_38.m2m 0.200666882389 0.477594666662 Loss of CH2O2 - indicative for underivat\n",
      "document_205 694 gnps_motif_3.m2m 0.222140295792 0.900311939423 nitrogen containing substructure [C5H12N\n",
      "document_205 694 gnps_motif_5.m2m 0.111441013273 0.477586457653 Combined loss of H2O and CO – indicati\n",
      "document_206 719 gnps_motif_3.m2m 0.420587468337 0.900336642258 nitrogen containing substructure [C5H12N\n",
      "document_206 719 gnps_motif_5.m2m 0.211170339104 0.47759609533 Combined loss of H2O and CO – indicati\n",
      "document_206 719 gnps_motif_38.m2m 0.211170339104 0.47759609533 Loss of CH2O2 - indicative for underivat\n",
      "document_207 721 gnps_motif_3.m2m 0.234869224179 0.900317609063 nitrogen containing substructure [C5H12N\n",
      "document_207 721 gnps_motif_5.m2m 0.117590728852 0.477595950684 Combined loss of H2O and CO – indicati\n",
      "document_208 725 gnps_motif_3.m2m 0.376057945899 0.900334105548 nitrogen containing substructure [C5H12N\n",
      "document_208 725 gnps_motif_5.m2m 0.188807614409 0.477594889803 Combined loss of H2O and CO – indicati\n",
      "document_208 725 gnps_motif_38.m2m 0.188807614409 0.477594889803 Loss of CH2O2 - indicative for underivat\n",
      "document_209 738 gnps_motif_3.m2m 0.696759511568 0.955231073261 nitrogen containing substructure [C5H12N\n",
      "document_209 738 gnps_motif_5.m2m 0.106336372036 0.477256163276 Combined loss of H2O and CO – indicati\n",
      "document_209 738 gnps_motif_38.m2m 0.106336372036 0.477256163276 Loss of CH2O2 - indicative for underivat\n",
      "document_210 751 gnps_motif_3.m2m 0.456082939914 0.900337569948 nitrogen containing substructure [C5H12N\n",
      "document_210 751 gnps_motif_5.m2m 0.22842636032 0.477604751805 Combined loss of H2O and CO – indicati\n",
      "document_210 751 gnps_motif_38.m2m 0.22842636032 0.477604751805 Loss of CH2O2 - indicative for underivat\n"
     ]
    },
    {
     "name": "stdout",
     "output_type": "stream",
     "text": [
      "document_212 773 gnps_motif_3.m2m 0.687038857242 0.955230658361 nitrogen containing substructure [C5H12N\n",
      "document_212 773 gnps_motif_5.m2m 0.0823123700694 0.477456179627 Combined loss of H2O and CO – indicati\n",
      "document_212 773 gnps_motif_38.m2m 0.0823123700694 0.477456179627 Loss of CH2O2 - indicative for underivat\n",
      "document_213 792 gnps_motif_3.m2m 0.203181809211 0.90030792985 nitrogen containing substructure [C5H12N\n",
      "document_213 792 gnps_motif_5.m2m 0.102189883158 0.477571200514 Combined loss of H2O and CO – indicati\n",
      "document_214 830 gnps_motif_3.m2m 0.261671726665 0.900322034993 nitrogen containing substructure [C5H12N\n",
      "document_214 830 gnps_motif_5.m2m 0.131096950104 0.477595955344 Combined loss of H2O and CO – indicati\n",
      "document_215 835 gnps_motif_3.m2m 0.382767076721 0.900334211604 nitrogen containing substructure [C5H12N\n",
      "document_215 835 gnps_motif_5.m2m 0.191615525356 0.477518713234 Combined loss of H2O and CO – indicati\n",
      "document_215 835 gnps_motif_38.m2m 0.191615525356 0.477518713234 Loss of CH2O2 - indicative for underivat\n",
      "document_216 839 gnps_motif_3.m2m 0.394074607552 0.90033492237 nitrogen containing substructure [C5H12N\n",
      "document_216 839 gnps_motif_5.m2m 0.197741618827 0.477597196077 Combined loss of H2O and CO – indicati\n",
      "document_216 839 gnps_motif_38.m2m 0.197741618827 0.477597196077 Loss of CH2O2 - indicative for underivat\n",
      "document_217 866 gnps_motif_33.m2m 0.536342577069 0.377185128542 tetrahydroisoquinoline substructure\n",
      "document_217 866 gnps_motif_3.m2m 0.201583962429 0.900311605077 nitrogen containing substructure [C5H12N\n",
      "document_217 866 gnps_motif_5.m2m 0.10112963635 0.477586306828 Combined loss of H2O and CO – indicati\n",
      "document_218 947 gnps_motif_3.m2m 0.361085161356 0.900332834324 nitrogen containing substructure [C5H12N\n",
      "document_218 947 gnps_motif_5.m2m 0.180988691087 0.477599792131 Combined loss of H2O and CO – indicati\n",
      "document_219 951 gnps_motif_3.m2m 0.280691788614 0.900324425757 nitrogen containing substructure [C5H12N\n",
      "document_219 951 gnps_motif_5.m2m 0.140586990107 0.477598059114 Combined loss of H2O and CO – indicati\n",
      "document_220 964 gnps_motif_3.m2m 0.453995165148 0.90033760932 nitrogen containing substructure [C5H12N\n",
      "document_220 964 gnps_motif_5.m2m 0.227505532323 0.47760295558 Combined loss of H2O and CO – indicati\n",
      "document_220 964 gnps_motif_38.m2m 0.227505532323 0.47760295558 Loss of CH2O2 - indicative for underivat\n",
      "document_221 1022 gnps_motif_5.m2m 0.292131733112 0.477606112573 Combined loss of H2O and CO – indicati\n",
      "document_221 1022 gnps_motif_38.m2m 0.292131733112 0.477606112573 Loss of CH2O2 - indicative for underivat\n",
      "document_222 1029 gnps_motif_3.m2m 0.793782260534 0.955233127373 nitrogen containing substructure [C5H12N\n",
      "document_222 1029 gnps_motif_5.m2m 0.0370834183841 0.477222840469 Combined loss of H2O and CO – indicati\n",
      "document_222 1029 gnps_motif_38.m2m 0.0370834183841 0.477222840469 Loss of CH2O2 - indicative for underivat\n",
      "document_223 1038 gnps_motif_3.m2m 0.21633439336 0.900314819454 nitrogen containing substructure [C5H12N\n",
      "document_223 1038 gnps_motif_5.m2m 0.108471866604 0.477589541983 Combined loss of H2O and CO – indicati\n",
      "document_224 1180 gnps_motif_43.m2m 0.677553782678 0.955196733973 Water loss - indicative of a free hydrox\n",
      "document_225 1181 gnps_motif_43.m2m 0.868010420816 0.95522416919 Water loss - indicative of a free hydrox\n",
      "document_226 1183 gnps_motif_42.m2m 0.142174508538 0.903478092131 Fragments indicative adenine (C5H6N5) su\n",
      "document_227 1184 gnps_motif_17.m2m 0.176222535528 0.356370834613 C4H8 loss indicative for saturated C4-al\n",
      "document_249 1264 gnps_motif_35.m2m 0.0919925803324 0.853341324297 Fragment ions indicative for pyroglutami\n",
      "document_250 1266 gnps_motif_56.m2m 0.491451241827 0.952309633272 Double water loss i.e. 2*H20 – Generic\n",
      "document_253 1273 gnps_motif_58.m2m 0.0244328662226 0.345783842179 Fragments indicative for asparagine subs\n",
      "document_254 1277 gnps_motif_56.m2m 0.237571328619 0.953108446229 Double water loss i.e. 2*H20 – Generic\n",
      "document_255 1278 gnps_motif_56.m2m 0.261251841227 0.951721822792 Double water loss i.e. 2*H20 – Generic\n",
      "document_258 1281 gnps_motif_56.m2m 0.166153888826 0.938466189303 Double water loss i.e. 2*H20 – Generic\n",
      "document_259 1283 gnps_motif_56.m2m 0.15949342061 0.925980752644 Double water loss i.e. 2*H20 – Generic\n",
      "document_265 1315 gnps_motif_52.m2m 0.0425372704067 0.954639554109 Fragment indicative for aromatic compoun\n",
      "document_267 1319 gnps_motif_43.m2m 0.431398043522 0.954860150983 Water loss - indicative of a free hydrox\n",
      "document_270 1328 gnps_motif_24.m2m 0.324808317912 0.300141725061 Fragments indicative for tyrosine relate\n",
      "document_270 1328 gnps_motif_3.m2m 0.305821561668 0.900329480912 nitrogen containing substructure [C5H12N\n",
      "document_277 1367 gnps_motif_17.m2m 0.375403874785 0.356404226509 C4H8 loss indicative for saturated C4-al\n",
      "document_280 1374 gnps_motif_13.m2m 0.226547155975 0.955102055143 Amine loss - Indicative for free NH2 gro\n",
      "document_280 1374 gnps_motif_43.m2m 0.0741363864228 0.955083441283 Water loss - indicative of a free hydrox\n",
      "document_297 1415 gnps_motif_15.m2m 0.0843694740272 0.946773688179 Fragments indicative for y-aminobutyric \n",
      "document_298 1418 gnps_motif_12.m2m 0.351742741635 0.56324292678 Fragment ions indicative for C6H12NO sub\n",
      "document_309 1505 gnps_motif_17.m2m 0.0551660143119 0.356262025349 C4H8 loss indicative for saturated C4-al\n",
      "document_310 1511 gnps_motif_43.m2m 0.413524588134 0.955166069109 Water loss - indicative of a free hydrox\n",
      "document_311 1512 gnps_motif_33.m2m 0.181068658057 0.377106289859 tetrahydroisoquinoline substructure\n",
      "document_317 1585 gnps_motif_40.m2m 0.191626222184 0.894679132791 CO loss - indicative for presence of ket\n",
      "document_319 1592 gnps_motif_40.m2m 0.148289794433 0.894634284132 CO loss - indicative for presence of ket\n",
      "document_328 1653 gnps_motif_17.m2m 0.345600674908 0.356426752417 C4H8 loss indicative for saturated C4-al\n",
      "document_329 1659 gnps_motif_17.m2m 0.492324086492 0.356406946899 C4H8 loss indicative for saturated C4-al\n",
      "document_331 1667 gnps_motif_49.m2m 0.141736688105 0.955147246194 Loss possibly indicative of carboxylic a\n",
      "document_337 1682 gnps_motif_5.m2m 0.213188269246 0.477298651186 Combined loss of H2O and CO – indicati\n",
      "document_337 1682 gnps_motif_38.m2m 0.213188269246 0.477298651186 Loss of CH2O2 - indicative for underivat\n",
      "document_339 1696 gnps_motif_59.m2m 0.413393061721 0.917152679694 Fragments indicative for [phenylalanine-\n",
      "document_343 1714 gnps_motif_19.m2m 0.193650464778 0.422452809813 (5-Hydroxy-2 2-dimethyl-4-oxo-3 4-dihydr\n",
      "document_346 1721 gnps_motif_47.m2m 0.126694475178 0.712520623311 Fragments indicative for histidine (C6H1\n",
      "document_352 1746 gnps_motif_49.m2m 0.322305459996 0.955194881203 Loss possibly indicative of carboxylic a\n",
      "document_355 1762 gnps_motif_52.m2m 0.166301668724 0.953379315109 Fragment indicative for aromatic compoun\n",
      "document_356 1763 gnps_motif_5.m2m 0.0858381765919 0.477375686168 Combined loss of H2O and CO – indicati\n",
      "document_372 1881 gnps_motif_45.m2m 0.0310615926903 0.692505920838 Fragments indicative of a glycosylation \n",
      "document_373 1882 gnps_motif_5.m2m 0.108317187753 0.477595038611 Combined loss of H2O and CO – indicati\n",
      "document_388 1932 gnps_motif_52.m2m 0.126946232493 0.949984111972 Fragment indicative for aromatic compoun\n",
      "document_389 1933 gnps_motif_43.m2m 0.177906547732 0.95387117927 Water loss - indicative of a free hydrox\n",
      "document_390 1934 gnps_motif_52.m2m 0.124812420975 0.95432919998 Fragment indicative for aromatic compoun\n",
      "document_393 1939 gnps_motif_43.m2m 0.527781776339 0.951586229808 Water loss - indicative of a free hydrox\n",
      "document_397 1950 gnps_motif_43.m2m 0.44875074045 0.955190695061 Water loss - indicative of a free hydrox\n",
      "document_399 1952 gnps_motif_43.m2m 0.0768888358546 0.846075924641 Water loss - indicative of a free hydrox\n",
      "document_403 1970 gnps_motif_43.m2m 0.305248980825 0.938713429883 Water loss - indicative of a free hydrox\n",
      "document_404 1974 gnps_motif_43.m2m 0.510638281638 0.955201745967 Water loss - indicative of a free hydrox\n",
      "document_406 1978 gnps_motif_43.m2m 0.701749607509 0.955208221544 Water loss - indicative of a free hydrox\n",
      "document_408 1983 gnps_motif_43.m2m 0.339034121416 0.955174594039 Water loss - indicative of a free hydrox\n",
      "document_419 2020 gnps_motif_43.m2m 0.627220919442 0.955193129363 Water loss - indicative of a free hydrox\n",
      "document_420 2024 gnps_motif_52.m2m 0.141045751399 0.954066828405 Fragment indicative for aromatic compoun\n",
      "document_422 2030 gnps_motif_43.m2m 0.849084560676 0.955197144275 Water loss - indicative of a free hydrox\n",
      "document_424 2040 gnps_motif_43.m2m 0.644383643421 0.955167872032 Water loss - indicative of a free hydrox\n",
      "document_425 2047 gnps_motif_43.m2m 0.764241143698 0.955236444706 Water loss - indicative of a free hydrox\n",
      "document_428 2058 gnps_motif_43.m2m 0.180776919323 0.931976253821 Water loss - indicative of a free hydrox\n",
      "document_429 2078 gnps_motif_52.m2m 0.283678632811 0.954675426602 Fragment indicative for aromatic compoun\n",
      "document_430 2079 gnps_motif_43.m2m 0.593946336515 0.95511774605 Water loss - indicative of a free hydrox\n",
      "document_430 2079 gnps_motif_13.m2m 0.0371213624649 0.954962397387 Amine loss - Indicative for free NH2 gro\n",
      "document_433 2093 gnps_motif_33.m2m 0.0825908092102 0.376690593954 tetrahydroisoquinoline substructure\n",
      "document_434 2096 gnps_motif_43.m2m 0.55869832564 0.952525185694 Water loss - indicative of a free hydrox\n",
      "document_435 2097 gnps_motif_43.m2m 0.394405589511 0.953879398793 Water loss - indicative of a free hydrox\n",
      "document_438 2114 gnps_motif_43.m2m 0.742724788534 0.955210437373 Water loss - indicative of a free hydrox\n",
      "document_438 2114 gnps_motif_52.m2m 0.00783293623258 0.933511355304 Fragment indicative for aromatic compoun\n",
      "document_439 2117 gnps_motif_43.m2m 0.648844468796 0.955177464236 Water loss - indicative of a free hydrox\n",
      "document_440 2118 gnps_motif_43.m2m 0.641264898822 0.9551234477 Water loss - indicative of a free hydrox\n"
     ]
    },
    {
     "name": "stdout",
     "output_type": "stream",
     "text": [
      "document_444 2163 gnps_motif_43.m2m 0.505481651652 0.954740858548 Water loss - indicative of a free hydrox\n",
      "document_445 2173 gnps_motif_43.m2m 0.399615819584 0.946720778914 Water loss - indicative of a free hydrox\n",
      "document_446 2185 gnps_motif_59.m2m 0.48982982008 0.917157181273 Fragments indicative for [phenylalanine-\n",
      "document_447 2187 gnps_motif_43.m2m 0.249412293886 0.949067021627 Water loss - indicative of a free hydrox\n",
      "document_448 2207 gnps_motif_43.m2m 0.298883276236 0.955117745484 Water loss - indicative of a free hydrox\n",
      "document_449 2210 gnps_motif_43.m2m 0.287879147664 0.946949337375 Water loss - indicative of a free hydrox\n",
      "document_450 2229 gnps_motif_43.m2m 0.416863322141 0.954573196014 Water loss - indicative of a free hydrox\n",
      "document_451 2232 gnps_motif_43.m2m 0.350949792136 0.95513557863 Water loss - indicative of a free hydrox\n",
      "document_453 2237 gnps_motif_43.m2m 0.778736866724 0.955200645781 Water loss - indicative of a free hydrox\n",
      "document_454 2242 gnps_motif_43.m2m 0.409514372803 0.954250488638 Water loss - indicative of a free hydrox\n",
      "document_461 2367 gnps_motif_21.m2m 0.175491787402 0.589745891445 Fragments indicative for ethylphenol sub\n",
      "document_467 2394 gnps_motif_43.m2m 0.428031321709 0.955202940707 Water loss - indicative of a free hydrox\n",
      "document_482 2460 gnps_motif_3.m2m 0.15204469251 0.900298498743 nitrogen containing substructure [C5H12N\n",
      "document_483 2461 gnps_motif_37.m2m 0.179136448021 0.333144270922 Fragments indicative for cinnamic/hydrox\n",
      "document_569 3005 gnps_motif_5.m2m 0.0736472788713 0.477560619377 Combined loss of H2O and CO – indicati\n",
      "document_586 3190 gnps_motif_56.m2m 0.196167957201 0.95123441489 Double water loss i.e. 2*H20 – Generic\n",
      "document_591 3195 gnps_motif_56.m2m 0.208203017808 0.955063668538 Double water loss i.e. 2*H20 – Generic\n",
      "document_593 3197 gnps_motif_56.m2m 0.194567914181 0.955002115679 Double water loss i.e. 2*H20 – Generic\n",
      "document_603 3218 gnps_motif_56.m2m 0.144824436705 0.949349376156 Double water loss i.e. 2*H20 – Generic\n",
      "document_607 3233 gnps_motif_56.m2m 0.340625147913 0.940255022365 Double water loss i.e. 2*H20 – Generic\n",
      "document_609 3236 gnps_motif_56.m2m 0.226485423029 0.954874868353 Double water loss i.e. 2*H20 – Generic\n",
      "document_624 3282 gnps_motif_25.m2m 0.0665029944736 0.334435482274 Indole substructure\n",
      "document_627 3344 gnps_motif_56.m2m 0.493876984302 0.955104842105 Double water loss i.e. 2*H20 – Generic\n",
      "document_628 3348 gnps_motif_56.m2m 0.230104778848 0.954663702004 Double water loss i.e. 2*H20 – Generic\n",
      "document_636 3510 gnps_motif_170.m2m 0.156526103086 0.578977810471 methoxy-methylaminophenyl substructure\n",
      "document_640 3547 gnps_motif_56.m2m 0.107850231092 0.953414273745 Double water loss i.e. 2*H20 – Generic\n",
      "document_641 3564 gnps_motif_45.m2m 0.431771346914 0.692851718543 Fragments indicative of a glycosylation \n",
      "document_649 3686 gnps_motif_56.m2m 0.257020306203 0.954984699401 Double water loss i.e. 2*H20 – Generic\n",
      "document_654 3831 gnps_motif_56.m2m 0.10759347121 0.954214014915 Double water loss i.e. 2*H20 – Generic\n",
      "document_688 5140 gnps_motif_34.m2m 0.177917701281 0.307243342591 [1 3-dihydro-2-benzofuran-1-yl]pyrrolidi\n",
      "document_689 5149 gnps_motif_25.m2m 0.224699706678 0.328643867392 Indole substructure\n",
      "document_695 5174 gnps_motif_37.m2m 0.126427234744 0.503185174237 Fragments indicative for cinnamic/hydrox\n",
      "document_696 5175 gnps_motif_72.m2m 0.163768484178 0.420657098211 Diethylamino /dimethylaminoethyl substru\n",
      "document_701 5215 gnps_motif_52.m2m 0.197670130796 0.950334364997 Fragment indicative for aromatic compoun\n",
      "document_711 5278 gnps_motif_17.m2m 0.0503244781717 0.356230096174 C4H8 loss indicative for saturated C4-al\n",
      "document_720 5357 gnps_motif_21.m2m 0.107516103034 0.522926934723 Fragments indicative for ethylphenol sub\n",
      "document_729 5432 gnps_motif_18.m2m 0.535001479768 0.365553314313 Acetyl loss\n",
      "document_730 5434 gnps_motif_49.m2m 0.151483263948 0.951396753298 Loss possibly indicative of carboxylic a\n",
      "document_738 5478 gnps_motif_18.m2m 0.088527253396 0.365455619899 Acetyl loss\n",
      "document_739 5479 gnps_motif_43.m2m 0.154345003311 0.955046011649 Water loss - indicative of a free hydrox\n",
      "document_758 5601 gnps_motif_43.m2m 0.0743116476044 0.942819008064 Water loss - indicative of a free hydrox\n",
      "document_763 5609 gnps_motif_25.m2m 0.556071681314 0.494102171453 Indole substructure\n",
      "document_767 5662 gnps_motif_43.m2m 0.159951367518 0.955130335364 Water loss - indicative of a free hydrox\n",
      "document_771 5672 gnps_motif_49.m2m 0.178060525451 0.94677751272 Loss possibly indicative of carboxylic a\n",
      "document_791 5748 gnps_motif_3.m2m 0.117989556737 0.900282446785 nitrogen containing substructure [C5H12N\n",
      "document_794 5762 gnps_motif_6.m2m 0.105063786845 0.445337619811 Diphenyl substructure [ClassyFire; Relev\n",
      "document_805 5880 gnps_motif_43.m2m 0.672283753867 0.954774261169 Water loss - indicative of a free hydrox\n",
      "document_851 6191 gnps_motif_43.m2m 0.104084710903 0.955014374291 Water loss - indicative of a free hydrox\n",
      "document_852 6195 gnps_motif_5.m2m 0.19009690167 0.477341631711 Combined loss of H2O and CO – indicati\n",
      "document_852 6195 gnps_motif_38.m2m 0.19009690167 0.477341631711 Loss of CH2O2 - indicative for underivat\n",
      "document_853 6196 gnps_motif_43.m2m 0.305493678212 0.9549267723 Water loss - indicative of a free hydrox\n",
      "document_853 6196 gnps_motif_56.m2m 0.146501345731 0.95259766205 Double water loss i.e. 2*H20 – Generic\n",
      "document_859 6248 gnps_motif_64.m2m 0.453242316579 0.307299377392 phthalate substructure\n",
      "document_863 6259 gnps_motif_64.m2m 0.697756422421 0.310489397809 phthalate substructure\n",
      "document_865 6262 gnps_motif_64.m2m 0.335908200262 0.311569740888 phthalate substructure\n",
      "document_884 6494 gnps_motif_5.m2m 0.111315854021 0.474491806005 Combined loss of H2O and CO – indicati\n",
      "document_917 6725 gnps_motif_33.m2m 0.0904570898373 0.452608837766 tetrahydroisoquinoline substructure\n",
      "document_924 6766 gnps_motif_45.m2m 0.20550284645 0.692830870998 Fragments indicative of a glycosylation \n",
      "document_928 6808 gnps_motif_12.m2m 0.420835656363 0.563247356453 Fragment ions indicative for C6H12NO sub\n",
      "document_946 6993 gnps_motif_13.m2m 0.322319535297 0.955211342068 Amine loss - Indicative for free NH2 gro\n",
      "document_962 7146 gnps_motif_24.m2m 0.107713655507 0.300072632215 Fragments indicative for tyrosine relate\n",
      "document_963 7152 gnps_motif_40.m2m 0.253624529507 0.89465231121 CO loss - indicative for presence of ket\n",
      "document_974 7292 gnps_motif_49.m2m 0.410313492316 0.955188336334 Loss possibly indicative of carboxylic a\n",
      "document_985 7469 gnps_motif_49.m2m 0.374821420413 0.955137023231 Loss possibly indicative of carboxylic a\n",
      "document_996 7711 gnps_motif_5.m2m 0.101261497292 0.477607345752 Combined loss of H2O and CO – indicati\n",
      "document_996 7711 gnps_motif_38.m2m 0.101261497292 0.477607345752 Loss of CH2O2 - indicative for underivat\n",
      "document_997 7718 gnps_motif_57.m2m 0.106236089135 0.869747263026 Fragment ions indicative for alkylamine \n",
      "document_999 7763 gnps_motif_37.m2m 0.214536423671 0.389215510635 Fragments indicative for cinnamic/hydrox\n",
      "document_1001 7772 gnps_motif_5.m2m 0.2109566673 0.477603646276 Combined loss of H2O and CO – indicati\n",
      "document_1001 7772 gnps_motif_38.m2m 0.2109566673 0.477603646276 Loss of CH2O2 - indicative for underivat\n",
      "document_1002 7773 gnps_motif_5.m2m 0.184522779515 0.47702645878 Combined loss of H2O and CO – indicati\n",
      "document_1002 7773 gnps_motif_38.m2m 0.184522779515 0.47702645878 Loss of CH2O2 - indicative for underivat\n",
      "document_1006 7782 gnps_motif_43.m2m 0.147024062337 0.954806039582 Water loss - indicative of a free hydrox\n",
      "document_1007 7783 gnps_motif_43.m2m 0.11842287596 0.955090248775 Water loss - indicative of a free hydrox\n",
      "document_1021 7932 gnps_motif_43.m2m 0.0967037216387 0.954578459669 Water loss - indicative of a free hydrox\n",
      "document_1030 8034 gnps_motif_43.m2m 0.706903389266 0.955222930563 Water loss - indicative of a free hydrox\n",
      "document_1037 8117 gnps_motif_3.m2m 0.46855763133 0.900340321327 nitrogen containing substructure [C5H12N\n",
      "document_1038 8118 gnps_motif_3.m2m 0.364662795357 0.900333051864 nitrogen containing substructure [C5H12N\n",
      "document_1043 8159 gnps_motif_45.m2m 0.228679201304 0.692829792921 Fragments indicative of a glycosylation \n",
      "document_1044 8170 gnps_motif_45.m2m 0.164751971896 0.692818962239 Fragments indicative of a glycosylation \n",
      "document_1046 8176 gnps_motif_45.m2m 0.149928523913 0.692812691349 Fragments indicative of a glycosylation \n",
      "document_1047 8179 gnps_motif_45.m2m 0.148498011481 0.692805542881 Fragments indicative of a glycosylation \n"
     ]
    },
    {
     "name": "stdout",
     "output_type": "stream",
     "text": [
      "document_1048 8211 gnps_motif_43.m2m 0.267305069212 0.95483945649 Water loss - indicative of a free hydrox\n",
      "document_1050 8218 gnps_motif_43.m2m 0.254397098526 0.954291766565 Water loss - indicative of a free hydrox\n",
      "document_1066 8390 gnps_motif_5.m2m 0.0621958595186 0.477547110371 Combined loss of H2O and CO – indicati\n",
      "document_1073 8469 gnps_motif_24.m2m 0.195951159282 0.304617137247 Fragments indicative for tyrosine relate\n",
      "document_1076 8480 gnps_motif_24.m2m 0.206943670779 0.300124285422 Fragments indicative for tyrosine relate\n",
      "document_1098 8763 gnps_motif_49.m2m 0.429812913497 0.955195006773 Loss possibly indicative of carboxylic a\n",
      "document_1101 8796 gnps_motif_43.m2m 0.168271910395 0.954579431064 Water loss - indicative of a free hydrox\n",
      "document_1104 8816 gnps_motif_56.m2m 0.259912152872 0.929877005626 Double water loss i.e. 2*H20 – Generic\n",
      "document_1104 8816 gnps_motif_43.m2m 0.194711089999 0.953983526604 Water loss - indicative of a free hydrox\n",
      "document_1109 8910 gnps_motif_13.m2m 0.618203371364 0.955226710615 Amine loss - Indicative for free NH2 gro\n",
      "document_1178 11714 gnps_motif_45.m2m 0.173947725759 0.692816801407 Fragments indicative of a glycosylation \n",
      "document_1179 11720 gnps_motif_4.m2m 0.122794782963 0.786625864644 Fragment and loss of [proline-H2O] - ind\n",
      "document_1182 11732 gnps_motif_13.m2m 0.128370119701 0.955161243351 Amine loss - Indicative for free NH2 gro\n",
      "document_1188 11759 gnps_motif_17.m2m 0.0241784200981 0.3559608055 C4H8 loss indicative for saturated C4-al\n",
      "document_1192 11790 gnps_motif_3.m2m 0.496593440146 0.955195162431 nitrogen containing substructure [C5H12N\n",
      "document_1211 12085 gnps_motif_43.m2m 0.284571358446 0.95515949902 Water loss - indicative of a free hydrox\n",
      "document_1212 12087 gnps_motif_43.m2m 0.329427060989 0.954418113989 Water loss - indicative of a free hydrox\n",
      "document_1215 12104 gnps_motif_13.m2m 0.38887609999 0.955226253061 Amine loss - Indicative for free NH2 gro\n",
      "document_1226 12227 gnps_motif_59.m2m 0.289264648206 0.917145015981 Fragments indicative for [phenylalanine-\n",
      "document_1234 12383 gnps_motif_43.m2m 0.211992069672 0.954215242411 Water loss - indicative of a free hydrox\n",
      "document_1239 12442 gnps_motif_17.m2m 0.0737328806793 0.356303467836 C4H8 loss indicative for saturated C4-al\n",
      "document_1240 12443 gnps_motif_56.m2m 0.148358217447 0.900316626533 Double water loss i.e. 2*H20 – Generic\n",
      "document_1247 12550 gnps_motif_13.m2m 0.107904572371 0.954310425107 Amine loss - Indicative for free NH2 gro\n",
      "document_1248 12551 gnps_motif_13.m2m 0.0762331556157 0.954909655349 Amine loss - Indicative for free NH2 gro\n",
      "document_1266 12691 gnps_motif_5.m2m 0.0972863960662 0.476953931674 Combined loss of H2O and CO – indicati\n",
      "document_1281 12842 gnps_motif_43.m2m 0.7474107042 0.955227289904 Water loss - indicative of a free hydrox\n",
      "document_1283 12845 gnps_motif_43.m2m 0.787971449827 0.955219219842 Water loss - indicative of a free hydrox\n",
      "document_1286 12933 gnps_motif_59.m2m 0.185381035309 0.952146019791 Fragments indicative for [phenylalanine-\n",
      "document_1287 12935 gnps_motif_59.m2m 0.172961045918 0.917117778926 Fragments indicative for [phenylalanine-\n",
      "document_1288 12941 gnps_motif_17.m2m 0.234440684294 0.38855522056 C4H8 loss indicative for saturated C4-al\n",
      "document_1296 13005 gnps_motif_59.m2m 0.301657902186 0.917142784921 Fragments indicative for [phenylalanine-\n",
      "document_1296 13005 gnps_motif_21.m2m 0.0810007026621 0.511233809162 Fragments indicative for ethylphenol sub\n",
      "document_1297 13007 gnps_motif_64.m2m 0.150619443194 0.305918031469 phthalate substructure\n",
      "document_1298 13024 gnps_motif_64.m2m 0.691073477002 0.311549033432 phthalate substructure\n",
      "document_1299 13030 gnps_motif_64.m2m 0.456036332602 0.310477836395 phthalate substructure\n",
      "document_1300 13036 gnps_motif_64.m2m 0.78388596509 0.310503325503 phthalate substructure\n",
      "document_1301 13037 gnps_motif_64.m2m 0.29966122424 0.30594920852 phthalate substructure\n",
      "document_1302 13047 gnps_motif_64.m2m 0.58482950919 0.307307327281 phthalate substructure\n",
      "document_1303 13077 gnps_motif_59.m2m 0.415087129936 0.917157334385 Fragments indicative for [phenylalanine-\n",
      "document_1324 13603 gnps_motif_12.m2m 0.0699623390487 0.563154240974 Fragment ions indicative for C6H12NO sub\n",
      "document_1329 13637 gnps_motif_170.m2m 0.508819042136 0.579021256973 methoxy-methylaminophenyl substructure\n",
      "document_1360 15596 gnps_motif_43.m2m 0.101076930906 0.953905439922 Water loss - indicative of a free hydrox\n",
      "document_1364 15730 gnps_motif_17.m2m 0.745611832927 0.356416053618 C4H8 loss indicative for saturated C4-al\n",
      "document_1368 15828 gnps_motif_5.m2m 0.11628011753 0.477589932729 Combined loss of H2O and CO – indicati\n",
      "document_1377 15974 gnps_motif_18.m2m 0.621978493123 0.365558722719 Acetyl loss\n",
      "document_1387 16094 gnps_motif_11.m2m 0.249247342238 0.79945758897 Alkyl aromatic substructure – indicati\n",
      "document_1417 16709 gnps_motif_5.m2m 0.111118045181 0.477398146329 Combined loss of H2O and CO – indicati\n",
      "document_1421 16768 gnps_motif_35.m2m 0.118034456406 0.853362726436 Fragment ions indicative for pyroglutami\n",
      "document_1423 16819 gnps_motif_13.m2m 0.381520659727 0.95522151339 Amine loss - Indicative for free NH2 gro\n",
      "document_1433 17201 gnps_motif_43.m2m 0.480823408105 0.955086379623 Water loss - indicative of a free hydrox\n",
      "document_1439 17357 gnps_motif_43.m2m 0.551548056736 0.955185155531 Water loss - indicative of a free hydrox\n",
      "document_1446 17509 gnps_motif_43.m2m 0.09015824712 0.954106814479 Water loss - indicative of a free hydrox\n",
      "document_1476 18296 gnps_motif_59.m2m 0.112688725922 0.917092217055 Fragments indicative for [phenylalanine-\n",
      "document_1486 18480 gnps_motif_3.m2m 0.176858285266 0.900305799183 nitrogen containing substructure [C5H12N\n",
      "document_1500 18695 gnps_motif_21.m2m 0.141901313351 0.589582817713 Fragments indicative for ethylphenol sub\n",
      "document_1502 18712 gnps_motif_64.m2m 0.14659440273 0.305912908848 phthalate substructure\n",
      "document_1521 19166 gnps_motif_43.m2m 0.224671441552 0.954386606992 Water loss - indicative of a free hydrox\n",
      "document_1531 19374 gnps_motif_43.m2m 0.252235786528 0.955083830614 Water loss - indicative of a free hydrox\n",
      "document_1533 19457 gnps_motif_43.m2m 0.386617132512 0.955117215062 Water loss - indicative of a free hydrox\n",
      "document_1545 19779 gnps_motif_4.m2m 0.131517649501 0.786631153773 Fragment and loss of [proline-H2O] - ind\n",
      "document_1545 19779 gnps_motif_43.m2m 0.131123207232 0.943977479038 Water loss - indicative of a free hydrox\n",
      "document_1555 20020 gnps_motif_13.m2m 0.0907539375866 0.955120356567 Amine loss - Indicative for free NH2 gro\n",
      "document_1559 20096 gnps_motif_13.m2m 0.119180342164 0.955156876708 Amine loss - Indicative for free NH2 gro\n",
      "document_1560 20104 gnps_motif_13.m2m 0.084421514025 0.955110860669 Amine loss - Indicative for free NH2 gro\n",
      "document_1588 20607 gnps_motif_5.m2m 0.272563250131 0.47760179089 Combined loss of H2O and CO – indicati\n",
      "document_1588 20607 gnps_motif_38.m2m 0.272563250131 0.47760179089 Loss of CH2O2 - indicative for underivat\n",
      "document_1596 20819 gnps_motif_170.m2m 0.417463457469 0.594796380304 methoxy-methylaminophenyl substructure\n",
      "document_1637 22105 gnps_motif_170.m2m 0.108329291014 0.648360803999 methoxy-methylaminophenyl substructure\n",
      "document_1638 22115 gnps_motif_64.m2m 0.501622653701 0.310497529182 phthalate substructure\n",
      "document_1656 22528 gnps_motif_52.m2m 0.169686614036 0.952505078318 Fragment indicative for aromatic compoun\n",
      "document_1661 22902 gnps_motif_51.m2m 0.115422105804 0.794548629173 Oxygen-rich losses and fragments also oc\n",
      "document_1663 22948 gnps_motif_4.m2m 0.583432969195 0.786740028491 Fragment and loss of [proline-H2O] - ind\n",
      "document_1663 22948 gnps_motif_59.m2m 0.112586697453 0.91709588663 Fragments indicative for [phenylalanine-\n",
      "document_1668 23155 gnps_motif_43.m2m 0.171148553486 0.952276842692 Water loss - indicative of a free hydrox\n",
      "document_1677 23277 gnps_motif_43.m2m 0.421863859251 0.955110603202 Water loss - indicative of a free hydrox\n",
      "document_1684 23376 gnps_motif_24.m2m 0.289980495693 0.300138457506 Fragments indicative for tyrosine relate\n",
      "document_1684 23376 gnps_motif_170.m2m 0.0970806415962 0.578940015364 methoxy-methylaminophenyl substructure\n",
      "document_1685 23378 gnps_motif_15.m2m 0.148214537 0.946829040571 Fragments indicative for y-aminobutyric \n",
      "document_1690 23628 gnps_motif_170.m2m 0.390091921799 0.581616672697 methoxy-methylaminophenyl substructure\n",
      "document_1691 23630 gnps_motif_11.m2m 0.671297940686 0.800203918804 Alkyl aromatic substructure – indicati\n",
      "document_1691 23630 gnps_motif_170.m2m 0.212604918289 0.580708062307 methoxy-methylaminophenyl substructure\n",
      "document_1692 23644 gnps_motif_21.m2m 0.152994676449 0.589652687783 Fragments indicative for ethylphenol sub\n"
     ]
    },
    {
     "name": "stdout",
     "output_type": "stream",
     "text": [
      "document_1699 23707 gnps_motif_64.m2m 0.178044342183 0.305927395789 phthalate substructure\n",
      "document_1705 23794 gnps_motif_64.m2m 0.673456428944 0.311694311264 phthalate substructure\n",
      "document_1709 23828 gnps_motif_64.m2m 0.448612725793 0.307297918626 phthalate substructure\n",
      "document_1710 23880 gnps_motif_21.m2m 0.0497185651739 0.585652835996 Fragments indicative for ethylphenol sub\n",
      "document_1718 24156 gnps_motif_56.m2m 0.189734919222 0.939689884279 Double water loss i.e. 2*H20 – Generic\n",
      "document_1719 24189 gnps_motif_47.m2m 0.0983129386337 0.712498022609 Fragments indicative for histidine (C6H1\n",
      "document_1721 24195 gnps_motif_170.m2m 0.35960305067 0.584694104217 methoxy-methylaminophenyl substructure\n",
      "document_1737 24438 gnps_motif_52.m2m 0.0713585068894 0.951775375639 Fragment indicative for aromatic compoun\n",
      "document_1739 24483 gnps_motif_42.m2m 0.174144921525 0.903498290853 Fragments indicative adenine (C5H6N5) su\n",
      "document_1740 24496 gnps_motif_5.m2m 0.0387874708783 0.477352253258 Combined loss of H2O and CO – indicati\n",
      "document_1753 24832 gnps_motif_64.m2m 0.693457432505 0.310505090045 phthalate substructure\n",
      "document_1784 25286 gnps_motif_13.m2m 0.267099481114 0.955214250204 Amine loss - Indicative for free NH2 gro\n",
      "document_1792 25546 gnps_motif_13.m2m 0.154587421726 0.955178407503 Amine loss - Indicative for free NH2 gro\n",
      "document_1809 25753 gnps_motif_64.m2m 0.894558794344 0.316349423844 phthalate substructure\n",
      "document_1811 25796 gnps_motif_3.m2m 0.384442025452 0.900336554531 nitrogen containing substructure [C5H12N\n",
      "document_1829 26159 gnps_motif_3.m2m 0.0916659344595 0.900260509808 nitrogen containing substructure [C5H12N\n",
      "document_1842 26360 gnps_motif_3.m2m 0.69237502871 0.955228867289 nitrogen containing substructure [C5H12N\n",
      "document_1845 26411 gnps_motif_43.m2m 0.0963810958614 0.955069473996 Water loss - indicative of a free hydrox\n",
      "document_1887 27372 gnps_motif_13.m2m 0.561617191811 0.95530261851 Amine loss - Indicative for free NH2 gro\n",
      "document_1898 27697 gnps_motif_59.m2m 0.224782285613 0.945273286853 Fragments indicative for [phenylalanine-\n",
      "document_1899 27714 gnps_motif_43.m2m 0.24795588377 0.952889981297 Water loss - indicative of a free hydrox\n",
      "document_1901 27720 gnps_motif_43.m2m 0.114013755101 0.950166510465 Water loss - indicative of a free hydrox\n",
      "document_1919 28226 gnps_motif_3.m2m 0.0835560839905 0.900250752533 nitrogen containing substructure [C5H12N\n",
      "document_1927 28302 gnps_motif_3.m2m 0.0697214560013 0.900210169195 nitrogen containing substructure [C5H12N\n",
      "document_1929 28317 gnps_motif_3.m2m 0.0681211026811 0.900218431761 nitrogen containing substructure [C5H12N\n",
      "document_1940 29031 gnps_motif_53.m2m 0.231598084574 0.818104897188 Imidazole group linked to a carboxylgrou\n",
      "document_1948 29145 gnps_motif_4.m2m 0.0878825238231 0.786598284581 Fragment and loss of [proline-H2O] - ind\n",
      "document_1955 29209 gnps_motif_64.m2m 0.1193126149 0.305916282169 phthalate substructure\n",
      "document_1968 29549 gnps_motif_2.m2m 0.785707132159 0.360545528885 Benzenesulfonylamide related fragments a\n",
      "document_2016 32426 gnps_motif_52.m2m 0.00376615477563 0.935997564258 Fragment indicative for aromatic compoun\n",
      "document_2017 32434 gnps_motif_43.m2m 0.0199080180104 0.954054048344 Water loss - indicative of a free hydrox\n",
      "document_2023 32605 gnps_motif_18.m2m 0.513434001413 0.365558988341 Acetyl loss\n",
      "document_2029 32871 gnps_motif_3.m2m 0.165234185856 0.900303455851 nitrogen containing substructure [C5H12N\n",
      "document_2031 32877 gnps_motif_59.m2m 0.210925017945 0.917139006909 Fragments indicative for [phenylalanine-\n",
      "document_2049 33159 gnps_motif_49.m2m 0.10152786114 0.954891116488 Loss possibly indicative of carboxylic a\n",
      "document_2095 36592 gnps_motif_3.m2m 0.0173658540548 0.899694620866 nitrogen containing substructure [C5H12N\n",
      "document_2111 36707 gnps_motif_47.m2m 0.103022421583 0.712509880917 Fragments indicative for histidine (C6H1\n",
      "document_2119 36732 gnps_motif_3.m2m 0.0094698401386 0.899136636648 nitrogen containing substructure [C5H12N\n",
      "document_2122 36766 gnps_motif_3.m2m 0.00378284011207 0.897269955209 nitrogen containing substructure [C5H12N\n",
      "document_2124 36776 gnps_motif_3.m2m 0.00581217356823 0.898345968067 nitrogen containing substructure [C5H12N\n",
      "document_2144 37403 gnps_motif_3.m2m 0.00240792074074 0.895511071519 nitrogen containing substructure [C5H12N\n",
      "document_2146 37428 gnps_motif_3.m2m 0.213664176611 0.900323845516 nitrogen containing substructure [C5H12N\n",
      "document_2147 37435 gnps_motif_3.m2m 0.00646414437768 0.898547739389 nitrogen containing substructure [C5H12N\n",
      "document_2157 37607 gnps_motif_57.m2m 0.131349814023 0.869759931859 Fragment ions indicative for alkylamine \n",
      "document_2167 37698 gnps_motif_3.m2m 0.0977401021718 0.900247041275 nitrogen containing substructure [C5H12N\n",
      "document_2182 38137 gnps_motif_3.m2m 0.00427191584778 0.897620475665 nitrogen containing substructure [C5H12N\n",
      "document_2184 38140 gnps_motif_3.m2m 0.00486946385626 0.950527587016 nitrogen containing substructure [C5H12N\n",
      "document_2186 38148 gnps_motif_48.m2m 0.000878913006668 0.941833016654 Fragment ion indicative for conjugation \n",
      "document_2187 38167 gnps_motif_3.m2m 0.00802023602866 0.89889887686 nitrogen containing substructure [C5H12N\n",
      "document_2188 38168 gnps_motif_3.m2m 0.00843671250388 0.8989711759 nitrogen containing substructure [C5H12N\n",
      "document_2191 38171 gnps_motif_59.m2m 0.126820860002 0.917097918993 Fragments indicative for [phenylalanine-\n",
      "document_2192 38175 gnps_motif_35.m2m 3.05035821201e-05 0.552880967005 Fragment ions indicative for pyroglutami\n",
      "document_2200 38350 gnps_motif_3.m2m 0.00944187394965 0.899118715083 nitrogen containing substructure [C5H12N\n",
      "document_2201 38354 gnps_motif_43.m2m 0.152597293276 0.955066372277 Water loss - indicative of a free hydrox\n",
      "document_2202 38356 gnps_motif_170.m2m 0.00029726831407 0.540362349265 methoxy-methylaminophenyl substructure\n",
      "document_2209 38381 gnps_motif_15.m2m 0.000118381023628 0.853890982186 Fragments indicative for y-aminobutyric \n",
      "document_2210 38382 gnps_motif_3.m2m 0.00478322133282 0.950454794165 nitrogen containing substructure [C5H12N\n",
      "document_2212 38413 gnps_motif_3.m2m 0.00572910893075 0.898318717816 nitrogen containing substructure [C5H12N\n",
      "document_2228 38561 gnps_motif_3.m2m 0.00453724086163 0.897804695962 nitrogen containing substructure [C5H12N\n",
      "document_2231 38572 gnps_motif_3.m2m 0.0612609959229 0.900175317032 nitrogen containing substructure [C5H12N\n",
      "document_2234 38585 gnps_motif_49.m2m 0.0133575731544 0.954157370128 Loss possibly indicative of carboxylic a\n",
      "document_2255 40440 gnps_motif_43.m2m 0.111185092474 0.954757384482 Water loss - indicative of a free hydrox\n",
      "document_2289 41963 gnps_motif_59.m2m 0.105007825958 0.917089711402 Fragments indicative for [phenylalanine-\n",
      "document_2289 41963 gnps_motif_3.m2m 0.094119629658 0.900261886905 nitrogen containing substructure [C5H12N\n",
      "document_2296 42043 gnps_motif_57.m2m 0.781006480569 0.869827203806 Fragment ions indicative for alkylamine \n",
      "document_2296 42043 gnps_motif_3.m2m 0.0330984320525 0.900070670054 nitrogen containing substructure [C5H12N\n"
     ]
    }
   ],
   "source": [
    "for doc in doc_list:\n",
    "#     print doc,spectral_metadata[doc]['scans']\n",
    "    # Compute the proportion of this docs intensity that is represented in the motifs\n",
    "    total_in = 0.0\n",
    "    total = 0.0\n",
    "    doc_dict = corpus[doc]\n",
    "    for word,intensity in doc_dict.items():\n",
    "        total += intensity\n",
    "        if word in word_index:\n",
    "            total_in += intensity\n",
    "    proportion_in = (1.0*total_in)/total\n",
    "#     print '\\t',proportion_in\n",
    "    if proportion_in > 0: # Be careful: if there is no overlap between the features in the spectrum and those across the motifs, bad things might happen\n",
    "        phi_matrix = {}\n",
    "        for word in doc_dict:\n",
    "            if word in word_index:\n",
    "                phi_matrix[word] = None\n",
    "        gamma = np.ones(K)\n",
    "        for i in range(100):\n",
    "            temp_gamma = np.zeros(K) + alpha\n",
    "            for word,intensity in doc_dict.items():\n",
    "                if word in word_index:\n",
    "                    word_pos = word_index[word]\n",
    "                    if beta[:,word_pos].sum()>0:\n",
    "                        log_phi_matrix = np.log(beta[:,word_pos]) + psi(gamma)\n",
    "                        log_phi_matrix = np.exp(log_phi_matrix - log_phi_matrix.max())\n",
    "                        phi_matrix[word] = log_phi_matrix/log_phi_matrix.sum()\n",
    "                        temp_gamma += phi_matrix[word]*intensity\n",
    "            gamma_change = np.sum(np.abs(gamma - temp_gamma))\n",
    "            gamma = temp_gamma.copy()\n",
    "            if gamma_change < 1e-6:\n",
    "                break\n",
    "        temp_theta = (gamma/gamma.sum()).flatten()\n",
    "        theta[doc] = {}\n",
    "        overlap_scores[doc] = {}\n",
    "        for motif,motif_pos in motif_index.items():\n",
    "            theta[doc][motif] = temp_theta[motif_pos]\n",
    "            overlap_scores[doc][motif] = compute_overlap(phi_matrix,motif_pos,beta[motif_pos,:],word_index)\n",
    "\n",
    "        # print some things!\n",
    "        tm = zip(theta[doc].keys(),theta[doc].values())\n",
    "        tm = sorted(tm,key = lambda x: x[1],reverse = True)\n",
    "        for mo,th in tm[:3]:\n",
    "            if overlap_scores[doc][mo]>=0.3:\n",
    "                print doc,spectral_metadata[doc]['scans'],mo,th,overlap_scores[doc][mo],motif_metadata[mo]['ANNOTATION'][:40]"
   ]
  },
  {
   "cell_type": "code",
   "execution_count": 27,
   "metadata": {},
   "outputs": [
    {
     "name": "stdout",
     "output_type": "stream",
     "text": [
      "(1, 3, 7, 8, 9, 11, 12, 18, 19, 20, 22, 40, 44, 45, 46, 49, 55, 84, 88, 92, 93, 94, 96, 102, 103, 104, 105, 106, 107, 110, 113, 118, 119, 120)\n"
     ]
    }
   ],
   "source": [
    "print scan_list"
   ]
  },
  {
   "cell_type": "code",
   "execution_count": null,
   "metadata": {
    "collapsed": true
   },
   "outputs": [],
   "source": []
  }
 ],
 "metadata": {
  "kernelspec": {
   "display_name": "Python 2",
   "language": "python",
   "name": "python2"
  },
  "language_info": {
   "codemirror_mode": {
    "name": "ipython",
    "version": 2
   },
   "file_extension": ".py",
   "mimetype": "text/x-python",
   "name": "python",
   "nbconvert_exporter": "python",
   "pygments_lexer": "ipython2",
   "version": "2.7.10"
  }
 },
 "nbformat": 4,
 "nbformat_minor": 2
}
