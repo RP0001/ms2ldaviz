{
 "cells": [
  {
   "cell_type": "markdown",
   "metadata": {},
   "source": [
    "# A simple demonstration on how to use the LDA codes"
   ]
  },
  {
   "cell_type": "code",
   "execution_count": 20,
   "metadata": {
    "collapsed": false
   },
   "outputs": [
    {
     "name": "stdout",
     "output_type": "stream",
     "text": [
      "The autoreload extension is already loaded. To reload it, use:\n",
      "  %reload_ext autoreload\n"
     ]
    }
   ],
   "source": [
    "%load_ext autoreload\n",
    "%autoreload 2\n",
    "%matplotlib inline\n",
    "\n",
    "import pylab as plt\n",
    "import numpy as np\n",
    "import pandas as pd\n",
    "import seaborn as sns\n",
    "from IPython.display import display, HTML\n",
    "\n",
    "from operator import itemgetter\n",
    "import itertools\n",
    "import sys\n",
    "sys.path.append('/Users/joewandy/git/lda/code/')\n",
    "\n",
    "from lda import VariationalLDA"
   ]
  },
  {
   "cell_type": "markdown",
   "metadata": {},
   "source": [
    "## Load some test corpus"
   ]
  },
  {
   "cell_type": "markdown",
   "metadata": {},
   "source": [
    "Below we load some small text corpus for demo purposes ..."
   ]
  },
  {
   "cell_type": "code",
   "execution_count": 4,
   "metadata": {
    "collapsed": false
   },
   "outputs": [],
   "source": [
    "def parse_bag_of_words_file(docword, vocab):\n",
    "    with open(vocab, \"r\") as f:\n",
    "        kos_vocab = [word.strip() for word in f.readlines()]\n",
    "        id_to_word = {i: word for i, word in enumerate(kos_vocab)}\n",
    "\n",
    "    with open(docword, \"r\") as f:\n",
    "        raw = [map(int, _.strip().split()) for _ in f.readlines()][3:]\n",
    "\n",
    "    docs = []\n",
    "    for _, grp in itertools.groupby(raw, lambda x: x[0]):\n",
    "        doc = []\n",
    "        for _, word_id, word_cnt in grp:\n",
    "            doc += word_cnt * [id_to_word[word_id-1]]\n",
    "        docs.append(doc)\n",
    "    return docs, id_to_word\n",
    "\n",
    "all_docs, id_to_word = parse_bag_of_words_file(\"hdp/docword.kos.txt\", \"hdp/vocab.kos.txt\")\n",
    "vocab_size = len(set(word for doc in all_docs for word in doc))"
   ]
  },
  {
   "cell_type": "code",
   "execution_count": 5,
   "metadata": {
    "collapsed": false
   },
   "outputs": [
    {
     "name": "stdout",
     "output_type": "stream",
     "text": [
      "total docs = 3430\n",
      "first doc = ['action', 'action', 'added', 'administration', 'alliances', 'antiwar', 'approve', 'assault', 'attack', 'attitude', 'attitude', 'aug', 'battle', 'believes', 'broad', 'bush', 'bush', 'career', 'chairman', 'click', 'coalition', 'committee', 'committee', 'compared', 'compared', 'conclude', 'conclusion', 'conclusions', 'congressional', 'congressional', 'congressman', 'congressman', 'considered', 'constituents', 'constituents', 'countrys', 'damaging', 'damn', 'departure', 'destruction', 'district', 'district', 'doug', 'doug', 'dramatic', 'electorate', 'engaged', 'enlarge', 'fact', 'final', 'general', 'general', 'gooper', 'greater', 'hold', 'house', 'house', 'households', 'households', 'inadequate', 'incidentally', 'independents', 'intelligence', 'intelligence', 'intelligence', 'international', 'international', 'iraq', 'iraq', 'ive', 'john', 'justified', 'kerry', 'kerry', 'kerry', 'knowing', 'launch', 'lead', 'letter', 'lower', 'maintained', 'mass', 'member', 'military', 'military', 'military', 'military', 'military', 'mistake', 'nebraska', 'news', 'november', 'opportunity', 'opportunity', 'outgoing', 'pennsylvania', 'percent', 'percent', 'percent', 'percent', 'pick', 'pickup', 'preemptive', 'president', 'prove', 'reached', 'real', 'relations', 'rep', 'republican', 'republican', 'reputation', 'result', 'revealed', 'richards', 'saddam', 'seat', 'senior', 'slim', 'substantial', 'true', 'vice', 'view', 'vote', 'voters', 'voters', 'war', 'war', 'war', 'war', 'weakened', 'weapons', 'wmd', 'wrong', 'wrong', 'wrote', 'zone']\n"
     ]
    }
   ],
   "source": [
    "print 'total docs = %d' % len(all_docs)\n",
    "\n",
    "first_doc = all_docs[0]\n",
    "print 'first doc = %s' % first_doc"
   ]
  },
  {
   "cell_type": "markdown",
   "metadata": {},
   "source": [
    "We need to convert the set of documents (a corpus) into a format suitable for LDA.\n",
    "\n",
    "A corpus is a dictionary. The keys are objects (I normally use strings) that identify the documents. The values are dictionaries again, where each key is a feature ID (these need to be consistent across documents — i.e. the same feature needs to have the same key in different documents) and the values are the counts (integers)."
   ]
  },
  {
   "cell_type": "code",
   "execution_count": 7,
   "metadata": {
    "collapsed": false
   },
   "outputs": [],
   "source": [
    "corpus = {}\n",
    "for n in range(len(all_docs)):\n",
    "    \n",
    "    doc_id = 'doc_%d' % n\n",
    "    doc = all_docs[n]\n",
    "\n",
    "    counts = {}\n",
    "    for word in doc:\n",
    "        if word in counts:\n",
    "            counts[word] += 1\n",
    "        else:\n",
    "            counts[word] = 1\n",
    "    \n",
    "    corpus[doc_id] = counts"
   ]
  },
  {
   "cell_type": "code",
   "execution_count": 10,
   "metadata": {
    "collapsed": false
   },
   "outputs": [
    {
     "name": "stdout",
     "output_type": "stream",
     "text": [
      "{'operations': 1, 'campaign': 1, 'wasnt': 1, 'request': 1, 'mission': 2, 'general': 1, 'unfit': 1, 'times': 1, 'border': 2, 'debate': 1, 'boat': 1, 'group': 2, 'aug': 1, 'truth': 1, 'enlarge': 1, 'responds': 1, 'click': 1, 'spokesman': 1, 'bush': 1, 'book': 1, 'damn': 1, 'special': 2, 'ambitious': 2, 'online': 1, 'crossed': 1, 'cspan': 1, 'john': 2, 'veterans': 2, 'christmas': 1, 'secretaries': 2, 'play': 1, 'war': 2, 'kerry': 6, 'forces': 1, 'watching': 2, 'moment': 1, 'operating': 1, 'vietnam': 2, 'members': 1, 'swift': 1, 'pool': 3, 'service': 1, 'calls': 1, 'occasions': 1, 'inside': 2, 'drop': 1, 'michael': 1, 'wrong': 1, 'volleyball': 2, 'playing': 1, 'statement': 2, 'command': 1, 'place': 1, 'kerrys': 1, 'occasion': 1, 'ill': 1}\n"
     ]
    }
   ],
   "source": [
    "print corpus['doc_1']"
   ]
  },
  {
   "cell_type": "markdown",
   "metadata": {},
   "source": [
    "## Run LDA"
   ]
  },
  {
   "cell_type": "markdown",
   "metadata": {},
   "source": [
    "Now we can run LDA on the corpus. Here we set the number of topics to 10, alpha (the hyperparameter for the document-topic distribution) to 1.0, and eta (the hyperparameter for topics, i.e. pseudo word counts) to 0.1. If update_alpha is set to True, we update alpha from the data during inference."
   ]
  },
  {
   "cell_type": "code",
   "execution_count": 13,
   "metadata": {
    "collapsed": false
   },
   "outputs": [
    {
     "name": "stdout",
     "output_type": "stream",
     "text": [
      "Found 6906 unique words\n",
      "Object created with 3430 documents\n"
     ]
    }
   ],
   "source": [
    "lda = VariationalLDA(corpus=corpus, K=10, alpha=1, eta=0.1, update_alpha=True)"
   ]
  },
  {
   "cell_type": "code",
   "execution_count": 14,
   "metadata": {
    "collapsed": false,
    "scrolled": true
   },
   "outputs": [
    {
     "name": "stdout",
     "output_type": "stream",
     "text": [
      "Initialising\n",
      "Starting iterations\n",
      "Iteration 0 (change = 10.0443510667)\n",
      "Iteration 1 (change = 0.127660713973)\n",
      "Iteration 2 (change = 0.144967090951)\n",
      "Iteration 3 (change = 0.136674043735)\n",
      "Iteration 4 (change = 0.124899876201)\n",
      "Iteration 5 (change = 0.115018121512)\n",
      "Iteration 6 (change = 0.107417402584)\n",
      "Iteration 7 (change = 0.101556569565)\n",
      "Iteration 8 (change = 0.09692231146)\n",
      "Iteration 9 (change = 0.0931667601487)\n",
      "Iteration 10 (change = 0.0900839439106)\n",
      "Iteration 11 (change = 0.0875110977076)\n",
      "Iteration 12 (change = 0.0853430011253)\n",
      "Iteration 13 (change = 0.0834992145047)\n",
      "Iteration 14 (change = 0.0819648160852)\n",
      "Iteration 15 (change = 0.0806802551121)\n",
      "Iteration 16 (change = 0.0796132715837)\n",
      "Iteration 17 (change = 0.0787581699883)\n",
      "Iteration 18 (change = 0.0781067877871)\n",
      "Iteration 19 (change = 0.0776588978571)\n",
      "Iteration 20 (change = 0.0774096824883)\n",
      "Iteration 21 (change = 0.077375625563)\n",
      "Iteration 22 (change = 0.0775859064118)\n",
      "Iteration 23 (change = 0.0780940588162)\n",
      "Iteration 24 (change = 0.0788873575062)\n",
      "Iteration 25 (change = 0.080009715742)\n",
      "Iteration 26 (change = 0.081476031212)\n",
      "Iteration 27 (change = 0.0833367899139)\n",
      "Iteration 28 (change = 0.0856621692795)\n",
      "Iteration 29 (change = 0.0885752722768)\n",
      "Iteration 30 (change = 0.0921618954037)\n",
      "Iteration 31 (change = 0.096549696443)\n",
      "Iteration 32 (change = 0.101901035956)\n",
      "Iteration 33 (change = 0.108474471162)\n",
      "Iteration 34 (change = 0.116593248461)\n",
      "Iteration 35 (change = 0.126647500515)\n",
      "Iteration 36 (change = 0.139091545684)\n",
      "Iteration 37 (change = 0.154509942193)\n",
      "Iteration 38 (change = 0.173581219358)\n",
      "Iteration 39 (change = 0.196912949901)\n",
      "Iteration 40 (change = 0.224680189379)\n",
      "Iteration 41 (change = 0.256242840317)\n",
      "Iteration 42 (change = 0.290253830687)\n",
      "Iteration 43 (change = 0.326591612994)\n",
      "Iteration 44 (change = 0.370765172859)\n",
      "Iteration 45 (change = 0.432558844015)\n",
      "Iteration 46 (change = 0.52007901221)\n",
      "Iteration 47 (change = 0.62906868871)\n",
      "Iteration 48 (change = 0.7299141378)\n",
      "Iteration 49 (change = 0.799140791644)\n",
      "Iteration 50 (change = 0.828626550152)\n",
      "Iteration 51 (change = 0.81982312802)\n",
      "Iteration 52 (change = 0.782576790574)\n",
      "Iteration 53 (change = 0.727511545334)\n",
      "Iteration 54 (change = 0.664437333567)\n",
      "Iteration 55 (change = 0.600065299231)\n",
      "Iteration 56 (change = 0.5416248288)\n",
      "Iteration 57 (change = 0.48772672996)\n",
      "Iteration 58 (change = 0.437663748157)\n",
      "Iteration 59 (change = 0.392255494591)\n",
      "Iteration 60 (change = 0.35190392189)\n",
      "Iteration 61 (change = 0.316380477671)\n",
      "Iteration 62 (change = 0.285298746737)\n",
      "Iteration 63 (change = 0.258483981201)\n",
      "Iteration 64 (change = 0.23539730822)\n",
      "Iteration 65 (change = 0.215841165916)\n",
      "Iteration 66 (change = 0.199151176123)\n",
      "Iteration 67 (change = 0.184734847309)\n",
      "Iteration 68 (change = 0.171809467044)\n",
      "Iteration 69 (change = 0.160121902393)\n",
      "Iteration 70 (change = 0.149904133308)\n",
      "Iteration 71 (change = 0.140926634047)\n",
      "Iteration 72 (change = 0.133061852164)\n",
      "Iteration 73 (change = 0.126121150805)\n",
      "Iteration 74 (change = 0.120075295686)\n",
      "Iteration 75 (change = 0.114707650522)\n",
      "Iteration 76 (change = 0.109838806713)\n",
      "Iteration 77 (change = 0.105358579874)\n",
      "Iteration 78 (change = 0.101165118183)\n",
      "Iteration 79 (change = 0.0971583234379)\n",
      "Iteration 80 (change = 0.0933923061968)\n",
      "Iteration 81 (change = 0.0898626641561)\n",
      "Iteration 82 (change = 0.0865214934273)\n",
      "Iteration 83 (change = 0.0833659397076)\n",
      "Iteration 84 (change = 0.0804568332149)\n",
      "Iteration 85 (change = 0.0777262906867)\n",
      "Iteration 86 (change = 0.0750996839329)\n",
      "Iteration 87 (change = 0.0725405174572)\n",
      "Iteration 88 (change = 0.0700639362277)\n",
      "Iteration 89 (change = 0.0677207153282)\n",
      "Iteration 90 (change = 0.0655630275307)\n",
      "Iteration 91 (change = 0.06356512195)\n",
      "Iteration 92 (change = 0.0616552389124)\n",
      "Iteration 93 (change = 0.0597628573082)\n",
      "Iteration 94 (change = 0.0578782766616)\n",
      "Iteration 95 (change = 0.0560190146328)\n",
      "Iteration 96 (change = 0.0542371464571)\n",
      "Iteration 97 (change = 0.0526321408398)\n",
      "Iteration 98 (change = 0.0511779274724)\n",
      "Iteration 99 (change = 0.049917774118)\n"
     ]
    }
   ],
   "source": [
    "lda.run_vb(n_its=100, initialise=True)"
   ]
  },
  {
   "cell_type": "markdown",
   "metadata": {},
   "source": [
    "Look at the resulting topics"
   ]
  },
  {
   "cell_type": "code",
   "execution_count": 26,
   "metadata": {
    "collapsed": false
   },
   "outputs": [
    {
     "name": "stdout",
     "output_type": "stream",
     "text": [
      "Topic 0\n",
      " - campaign 0.0141899924775\n",
      " - party 0.00993347951454\n",
      " - people 0.0081665226726\n",
      " - democratic 0.00757208231043\n",
      " - money 0.00728027009252\n",
      " - media 0.0070606786256\n",
      " - million 0.00702070992699\n",
      " - time 0.00689339214193\n",
      " - political 0.00565475604784\n",
      " - candidates 0.00483042530822\n",
      "\n",
      "Topic 1\n",
      " - media 0.00921477406766\n",
      " - republican 0.00908980253863\n",
      " - campaign 0.00871748708523\n",
      " - nader 0.00817413774442\n",
      " - party 0.00796156750609\n",
      " - general 0.00786535687276\n",
      " - news 0.00784097335873\n",
      " - republicans 0.00751286743511\n",
      " - ballot 0.00711968189158\n",
      " - election 0.00622302489692\n",
      "\n",
      "Topic 2\n",
      " - bush 0.0603931377622\n",
      " - kerry 0.0491488824776\n",
      " - poll 0.016196439607\n",
      " - general 0.0153852198664\n",
      " - percent 0.0117269736725\n",
      " - voters 0.0113829153162\n",
      " - president 0.0113410475929\n",
      " - bushs 0.00941891776388\n",
      " - polls 0.00902183891196\n",
      " - kerrys 0.00815442097599\n",
      "\n",
      "Topic 3\n",
      " - people 0.00705243269259\n",
      " - years 0.00552496108838\n",
      " - war 0.00521619154586\n",
      " - american 0.00514834128773\n",
      " - bush 0.00468636073549\n",
      " - america 0.00468477957662\n",
      " - policy 0.00444729978801\n",
      " - time 0.00379001706851\n",
      " - country 0.00372468916313\n",
      " - americans 0.00366913996342\n",
      "\n",
      "Topic 4\n",
      " - dean 0.0483353520884\n",
      " - kerry 0.0311797875215\n",
      " - edwards 0.0292673072209\n",
      " - primary 0.023909797783\n",
      " - clark 0.0220987941386\n",
      " - democratic 0.0208799494811\n",
      " - poll 0.0163591949318\n",
      " - iowa 0.0152361881176\n",
      " - gephardt 0.0142831422943\n",
      " - lieberman 0.0123625194971\n",
      "\n",
      "Topic 5\n",
      " - iraq 0.0277418164187\n",
      " - war 0.019432920663\n",
      " - bush 0.0154420278135\n",
      " - administration 0.00900722678398\n",
      " - military 0.00808509412665\n",
      " - iraqi 0.00783929221916\n",
      " - american 0.00591375721367\n",
      " - troops 0.00559600254757\n",
      " - president 0.00541471285848\n",
      " - saddam 0.00487952271559\n",
      "\n",
      "Topic 6\n",
      " - november 0.060702331394\n",
      " - poll 0.0130399198662\n",
      " - house 0.0125356726158\n",
      " - electoral 0.0120589314687\n",
      " - account 0.0119402834213\n",
      " - republicans 0.0119359325036\n",
      " - senate 0.0118987814213\n",
      " - governor 0.0118606562301\n",
      " - polls 0.0115649410116\n",
      " - vote 0.00976512979591\n",
      "\n",
      "Topic 7\n",
      " - bush 0.0182679923567\n",
      " - tax 0.0116294664426\n",
      " - jobs 0.00863545291378\n",
      " - administration 0.00757214641593\n",
      " - billion 0.00753411881401\n",
      " - economy 0.00673069730589\n",
      " - year 0.00644011511599\n",
      " - million 0.00568123729926\n",
      " - percent 0.00554989499387\n",
      " - budget 0.00531636476353\n",
      "\n",
      "Topic 8\n",
      " - bush 0.0134701848457\n",
      " - house 0.0100748978224\n",
      " - president 0.00857690982042\n",
      " - republicans 0.00819782810489\n",
      " - administration 0.00724805839233\n",
      " - cheney 0.00688523877678\n",
      " - law 0.00622114251826\n",
      " - republican 0.005819004397\n",
      " - committee 0.00581807148452\n",
      " - white 0.00548228231817\n",
      "\n",
      "Topic 9\n",
      " - senate 0.0195993530041\n",
      " - race 0.015016265192\n",
      " - house 0.0144381070355\n",
      " - republican 0.0137792046289\n",
      " - elections 0.0133918428456\n",
      " - state 0.0109759157065\n",
      " - democrats 0.0106684484341\n",
      " - democratic 0.00959277783407\n",
      " - district 0.00882763059909\n",
      " - gop 0.0082003023212\n",
      "\n"
     ]
    }
   ],
   "source": [
    "for k in range(lda.K):\n",
    "    \n",
    "    # td is a dictionary, the key is a word, the value is the probability\n",
    "    td = lda.get_topic_as_dict(k) \n",
    "    \n",
    "    # convert td into a list of (word, prob)\n",
    "    items = td.items()\n",
    "    \n",
    "    # sort items by the probabilities\n",
    "    # itemgetter(1) refers to the 2nd field of each element, used for sorting\n",
    "    sorted_items = sorted(items, key=itemgetter(1), reverse=True)\n",
    "    \n",
    "    # print the top-10 words\n",
    "    # alternatively we can also set a threshold t and only print words at probabilities > t\n",
    "    print 'Topic %d' % k\n",
    "    for word, prob in sorted_items[0:10]:\n",
    "        print ' -', word, prob\n",
    "    print"
   ]
  },
  {
   "cell_type": "markdown",
   "metadata": {},
   "source": [
    "Show the topic probabilities for a document"
   ]
  },
  {
   "cell_type": "code",
   "execution_count": 32,
   "metadata": {
    "collapsed": false
   },
   "outputs": [
    {
     "name": "stdout",
     "output_type": "stream",
     "text": [
      "(3430, 10)\n",
      "Document: doc_875\n",
      "Topic 0 : 0.582166113393\n",
      "Topic 1 : 0.112190933781\n",
      "Topic 2 : 0.303511344846\n"
     ]
    }
   ],
   "source": [
    "eth = lda.get_expect_theta()\n",
    "print eth.shape\n",
    "for doc in lda.corpus:\n",
    "\n",
    "    print \"Document: \" + str(doc)\n",
    "    doc_pos = lda.doc_index[doc] # This is its row in eth\n",
    "    for k in range(lda.K):\n",
    "        if eth[doc_pos,k] > 0.01:\n",
    "            print \"Topic {} : {}\".format(k,eth[doc_pos,k])\n",
    "            \n",
    "    # Break the loop so as not to get all output\n",
    "    break"
   ]
  },
  {
   "cell_type": "code",
   "execution_count": null,
   "metadata": {
    "collapsed": true
   },
   "outputs": [],
   "source": []
  }
 ],
 "metadata": {
  "kernelspec": {
   "display_name": "Python 2",
   "language": "python",
   "name": "python2"
  },
  "language_info": {
   "codemirror_mode": {
    "name": "ipython",
    "version": 2
   },
   "file_extension": ".py",
   "mimetype": "text/x-python",
   "name": "python",
   "nbconvert_exporter": "python",
   "pygments_lexer": "ipython2",
   "version": "2.7.11"
  }
 },
 "nbformat": 4,
 "nbformat_minor": 0
}
