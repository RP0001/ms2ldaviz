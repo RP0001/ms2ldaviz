{
 "cells": [
  {
   "cell_type": "markdown",
   "metadata": {},
   "source": [
    "# Test querying classifyer\n",
    "\n",
    "Example from justin: http://classyfire.wishartlab.com/entities/HNDVDQJCIGZPNO-YFKPBYRVSA-N (histidine)\n",
    "\n",
    "Fetch the result from above query in json format."
   ]
  },
  {
   "cell_type": "code",
   "execution_count": 24,
   "metadata": {
    "collapsed": true
   },
   "outputs": [],
   "source": [
    "import urllib2\n",
    "import json\n",
    "import jsonpickle\n",
    "\n",
    "def get_json(url):\n",
    "    response = urllib2.urlopen(url)\n",
    "    data = json.load(response)   \n",
    "    return data"
   ]
  },
  {
   "cell_type": "markdown",
   "metadata": {},
   "source": [
    "Let's see what info we get back from classifyer"
   ]
  },
  {
   "cell_type": "code",
   "execution_count": 3,
   "metadata": {
    "collapsed": false
   },
   "outputs": [
    {
     "name": "stdout",
     "output_type": "stream",
     "text": [
      "kingdom\n",
      "smiles\n",
      "inchikey\n",
      "classification_version\n",
      "description\n",
      "predicted_lipidmaps_terms\n",
      "molecular_framework\n",
      "alternative_parents\n",
      "subclass\n",
      "intermediate_nodes\n",
      "superclass\n",
      "substituents\n",
      "external_descriptors\n",
      "direct_parent\n",
      "class\n",
      "predicted_chebi_terms\n"
     ]
    }
   ],
   "source": [
    "url = 'http://classyfire.wishartlab.com/entities/HNDVDQJCIGZPNO-YFKPBYRVSA-N.json'\n",
    "data = get_json(url)\n",
    "for key in data:\n",
    "    print key"
   ]
  },
  {
   "cell_type": "markdown",
   "metadata": {},
   "source": [
    "We need the kingdom, superclass, class, subclass, intermediate_nodes and direct parent to contruct the taxonomy path of this document (InChiKey). \n",
    "\n",
    "Wrap this nicely as a function. We pass in the inchi key and get back the taxonomy."
   ]
  },
  {
   "cell_type": "code",
   "execution_count": 59,
   "metadata": {
    "collapsed": false
   },
   "outputs": [
    {
     "name": "stdout",
     "output_type": "stream",
     "text": [
      "Chemical entities\n",
      "Organic compounds\n",
      "Organic acids and derivatives\n",
      "Carboxylic acids and derivatives\n",
      "Amino acids, peptides, and analogues\n",
      "Amino acids and derivatives\n",
      "Alpha amino acids and derivatives\n",
      "Histidine and derivatives\n"
     ]
    }
   ],
   "source": [
    "def get_taxa_path(inchikey):\n",
    "\n",
    "    url = 'http://classyfire.wishartlab.com/entities/%s.json' % inchikey\n",
    "    response = urllib2.urlopen(url)\n",
    "    data = json.load(response)       \n",
    "    \n",
    "    # store the taxonomy path for this inchikey here\n",
    "    taxa_path = []\n",
    "\n",
    "    # add the top-4 taxa\n",
    "    keys = ['kingdom', 'superclass', 'class', 'subclass']\n",
    "    for key in keys:\n",
    "        if data[key] is not None:\n",
    "            taxa_path.append(data[key]['name'])\n",
    "\n",
    "    # add all the intermediate taxa >level 4 but above the direct parent\n",
    "    for entry in data['intermediate_nodes']:\n",
    "        taxa_path.append(entry['name'])\n",
    "\n",
    "    # add the direct parent\n",
    "    taxa_path.append(data['direct_parent']['name'])\n",
    "\n",
    "    return taxa_path\n",
    "\n",
    "inchikey = 'HNDVDQJCIGZPNO-YFKPBYRVSA-N'\n",
    "tp = get_taxa_path(inchikey)\n",
    "print '\\n'.join(tp)"
   ]
  },
  {
   "cell_type": "markdown",
   "metadata": {},
   "source": [
    "Now try with some Mass2Motif from MassBank. First get all the docs above the default doc-topic threshold (0.05). Retrieve the metadata (inchikey) and pass it to Classifyer."
   ]
  },
  {
   "cell_type": "code",
   "execution_count": 64,
   "metadata": {
    "collapsed": false
   },
   "outputs": [],
   "source": [
    "def print_m2m_taxonomy(m2m_id):\n",
    "    \n",
    "    server = 'www.ms2lda.org'\n",
    "    url = 'http://%s/basicviz/get_parents_metadata/%d' % (server, m2m_id)\n",
    "    data = get_json(url)\n",
    "\n",
    "    for metadata_str in data:\n",
    "        doc = jsonpickle.decode(metadata_str)\n",
    "        inchikey = doc['InChIKey']\n",
    "        print doc['annotation'], inchikey\n",
    "        for taxon in get_taxa_path(inchikey):\n",
    "            print '-', taxon\n",
    "        print"
   ]
  },
  {
   "cell_type": "markdown",
   "metadata": {},
   "source": [
    "### 1. Get the Taxonomy of Documents in the Histidine Mass2Motif (MassBank)"
   ]
  },
  {
   "cell_type": "code",
   "execution_count": 65,
   "metadata": {
    "collapsed": false
   },
   "outputs": [
    {
     "name": "stdout",
     "output_type": "stream",
     "text": [
      "washington_0873 KRBMQYPTDYSENE-UHFFFAOYSA-N\n",
      "- Chemical entities\n",
      "- Organic compounds\n",
      "- Organic acids and derivatives\n",
      "- Carboxylic acids and derivatives\n",
      "- Amino acids, peptides, and analogues\n",
      "- Peptides\n",
      "- Dipeptides\n",
      "\n",
      "washington_0886 KRBMQYPTDYSENE-UHFFFAOYSA-N\n",
      "- Chemical entities\n",
      "- Organic compounds\n",
      "- Organic acids and derivatives\n",
      "- Carboxylic acids and derivatives\n",
      "- Amino acids, peptides, and analogues\n",
      "- Peptides\n",
      "- Dipeptides\n",
      "\n",
      "washington_0859 KRBMQYPTDYSENE-UHFFFAOYSA-N\n",
      "- Chemical entities\n",
      "- Organic compounds\n",
      "- Organic acids and derivatives\n",
      "- Carboxylic acids and derivatives\n",
      "- Amino acids, peptides, and analogues\n",
      "- Peptides\n",
      "- Dipeptides\n",
      "\n",
      "riken_0373 DOUMFZQKYFQNTF-UHFFFAOYSA-N\n",
      "- Chemical entities\n",
      "- Organic compounds\n",
      "- Phenylpropanoids and polyketides\n",
      "- Cinnamic acids and derivatives\n",
      "- Hydroxycinnamic acids and derivatives\n",
      "- Coumaric acids and derivatives\n",
      "\n",
      "riken_0684 CQOVPNPJLQNMDC-UHFFFAOYSA-N\n",
      "- Chemical entities\n",
      "- Organic compounds\n",
      "- Organic acids and derivatives\n",
      "- Peptidomimetics\n",
      "- Hybrid peptides\n",
      "\n",
      "riken_0619 HNDVDQJCIGZPNO-UHFFFAOYSA-N\n",
      "- Chemical entities\n",
      "- Organic compounds\n",
      "- Organic acids and derivatives\n",
      "- Carboxylic acids and derivatives\n",
      "- Amino acids, peptides, and analogues\n",
      "- Amino acids and derivatives\n",
      "- Alpha amino acids and derivatives\n",
      "- Histidine and derivatives\n",
      "\n",
      "washington_0860 AYMLQYFMYHISQO-UHFFFAOYSA-N\n",
      "- Organic compounds\n",
      "- Organic acids and derivatives\n",
      "- Carboxylic acids and derivatives\n",
      "- Amino acids, peptides, and analogues\n",
      "- Amino acids and derivatives\n",
      "- Alpha amino acids and derivatives\n",
      "- Histidine and derivatives\n",
      "\n"
     ]
    }
   ],
   "source": [
    "print_m2m_taxonomy(1083)"
   ]
  },
  {
   "cell_type": "markdown",
   "metadata": {},
   "source": [
    "### 2. Get the Taxonomy of Documents in the Adenine Mass2Motif (MassBank)"
   ]
  },
  {
   "cell_type": "code",
   "execution_count": 68,
   "metadata": {
    "collapsed": false,
    "scrolled": false
   },
   "outputs": [
    {
     "name": "stdout",
     "output_type": "stream",
     "text": [
      "washington_0559 UZKQTCBAMSWPJD-UHFFFAOYSA-N\n",
      "- Chemical entities\n",
      "- Organic compounds\n",
      "- Organoheterocyclic compounds\n",
      "- Imidazopyrimidines\n",
      "- Purines and purine derivatives\n",
      "- 6-aminopurines\n",
      "- 6-alkylaminopurines\n",
      "\n",
      "washington_0601 GOSWTRUMMSCNCW-UHFFFAOYSA-N\n",
      "- Organic compounds\n",
      "- Nucleosides, nucleotides, and analogues\n",
      "- Purine nucleosides\n",
      "- Purine nucleosides\n",
      "\n",
      "metabolights_0044 UZKQTCBAMSWPJD-UHFFFAOYSA-N\n",
      "- Chemical entities\n",
      "- Organic compounds\n",
      "- Organoheterocyclic compounds\n",
      "- Imidazopyrimidines\n",
      "- Purines and purine derivatives\n",
      "- 6-aminopurines\n",
      "- 6-alkylaminopurines\n",
      "\n",
      "metabolights_0006 LNQVTSROQXJCDD-UHFFFAOYSA-N\n",
      "- Chemical entities\n",
      "- Organic compounds\n",
      "- Nucleosides, nucleotides, and analogues\n",
      "- Ribonucleoside 3'-phosphates\n",
      "- Ribonucleoside 3'-phosphates\n",
      "\n",
      "ufz_0051 GFFGJBXGBJISGV-UHFFFAOYSA-N\n",
      "- Chemical entities\n",
      "- Organic compounds\n",
      "- Organoheterocyclic compounds\n",
      "- Imidazopyrimidines\n",
      "- Purines and purine derivatives\n",
      "- 6-aminopurines\n",
      "\n",
      "ufz_0109 GFFGJBXGBJISGV-UHFFFAOYSA-N\n",
      "- Chemical entities\n",
      "- Organic compounds\n",
      "- Organoheterocyclic compounds\n",
      "- Imidazopyrimidines\n",
      "- Purines and purine derivatives\n",
      "- 6-aminopurines\n",
      "\n",
      "riken_0621 UZKQTCBAMSWPJD-UHFFFAOYSA-N\n",
      "- Chemical entities\n",
      "- Organic compounds\n",
      "- Organoheterocyclic compounds\n",
      "- Imidazopyrimidines\n",
      "- Purines and purine derivatives\n",
      "- 6-aminopurines\n",
      "- 6-alkylaminopurines\n",
      "\n",
      "washington_0551 UZKQTCBAMSWPJD-UHFFFAOYSA-N\n",
      "- Chemical entities\n",
      "- Organic compounds\n",
      "- Organoheterocyclic compounds\n",
      "- Imidazopyrimidines\n",
      "- Purines and purine derivatives\n",
      "- 6-aminopurines\n",
      "- 6-alkylaminopurines\n",
      "\n",
      "mpi_0089 UZKQTCBAMSWPJD-UHFFFAOYSA-N\n",
      "- Chemical entities\n",
      "- Organic compounds\n",
      "- Organoheterocyclic compounds\n",
      "- Imidazopyrimidines\n",
      "- Purines and purine derivatives\n",
      "- 6-aminopurines\n",
      "- 6-alkylaminopurines\n",
      "\n",
      "mpi_0047 UZKQTCBAMSWPJD-UHFFFAOYSA-N\n",
      "- Chemical entities\n",
      "- Organic compounds\n",
      "- Organoheterocyclic compounds\n",
      "- Imidazopyrimidines\n",
      "- Purines and purine derivatives\n",
      "- 6-aminopurines\n",
      "- 6-alkylaminopurines\n",
      "\n",
      "ipb_0126 OIRDTQYFTABQOQ-UHFFFAOYSA-N\n",
      "- Chemical entities\n",
      "- Organic compounds\n",
      "- Nucleosides, nucleotides, and analogues\n",
      "- Purine nucleosides\n",
      "- Purine nucleosides\n",
      "\n",
      "eawag_0608 OIRDTQYFTABQOQ-UHFFFAOYSA-N\n",
      "- Chemical entities\n",
      "- Organic compounds\n",
      "- Nucleosides, nucleotides, and analogues\n",
      "- Purine nucleosides\n",
      "- Purine nucleosides\n",
      "\n",
      "metabolights_0014 WUUGFSXJNOTRMR-UHFFFAOYSA-N\n",
      "- Chemical entities\n",
      "- Organic compounds\n",
      "- Nucleosides, nucleotides, and analogues\n",
      "- 5'-deoxyribonucleosides\n",
      "- 5'-deoxy-5'-thionucleosides\n",
      "\n",
      "metabolights_0016 GOSWTRUMMSCNCW-UHFFFAOYSA-N\n",
      "- Organic compounds\n",
      "- Nucleosides, nucleotides, and analogues\n",
      "- Purine nucleosides\n",
      "- Purine nucleosides\n",
      "\n",
      "eawag_0206 MGOHCFMYLBAPRN-UHFFFAOYSA-N\n",
      "- Chemical entities\n",
      "- Organic compounds\n",
      "- Organoheterocyclic compounds\n",
      "- Azoles\n",
      "- Pyrazoles\n",
      "- Phenylpyrazoles\n",
      "\n",
      "washington_0888 WVXRAFOPTSTNLL-UHFFFAOYSA-N\n",
      "- Chemical entities\n",
      "- Organic compounds\n",
      "- Nucleosides, nucleotides, and analogues\n",
      "- Purine nucleosides\n",
      "- Purine 2',3'-dideoxyribonucleosides\n",
      "\n",
      "washington_0592 GOSWTRUMMSCNCW-UHFFFAOYSA-N\n",
      "- Organic compounds\n",
      "- Nucleosides, nucleotides, and analogues\n",
      "- Purine nucleosides\n",
      "- Purine nucleosides\n",
      "\n",
      "washington_0732 MRWXACSTFXYYMV-UHFFFAOYSA-N\n",
      "- Chemical entities\n",
      "- Organic compounds\n",
      "- Nucleosides, nucleotides, and analogues\n",
      "- Purine nucleosides\n",
      "- Purine nucleosides\n",
      "\n",
      "washington_0846 AVNJCDRLZOVEDM-UHFFFAOYSA-N\n",
      "- Organic compounds\n",
      "- Nucleosides, nucleotides, and analogues\n",
      "- Purine nucleosides\n",
      "- Purine nucleosides\n",
      "\n"
     ]
    }
   ],
   "source": [
    "print_m2m_taxonomy(1367)"
   ]
  },
  {
   "cell_type": "markdown",
   "metadata": {},
   "source": [
    "### 3. Get the Taxonomy of Documents in the Ferulic Acid Mass2Motif (MassBank)"
   ]
  },
  {
   "cell_type": "code",
   "execution_count": 69,
   "metadata": {
    "collapsed": false
   },
   "outputs": [
    {
     "name": "stdout",
     "output_type": "stream",
     "text": [
      "washington_0806 IRUHWRSITUYICV-UHFFFAOYSA-N\n",
      "- Chemical entities\n",
      "- Organic compounds\n",
      "- Phenylpropanoids and polyketides\n",
      "- Coumarins and derivatives\n",
      "- Hydroxycoumarins\n",
      "\n",
      "washington_0627 ARQXEQLMMNGFDU-UHFFFAOYSA-N\n",
      "- Chemical entities\n",
      "- Organic compounds\n",
      "- Phenylpropanoids and polyketides\n",
      "- Coumarins and derivatives\n",
      "- Coumarin glycosides\n",
      "\n",
      "washington_0222 ZKMLQDNHMSFULN-UHFFFAOYSA-N\n",
      "- Chemical entities\n",
      "- Organic compounds\n",
      "- Phenylpropanoids and polyketides\n",
      "- Flavonoids\n",
      "- Flavones\n",
      "\n",
      "ipb_0145 ARQXEQLMMNGFDU-UHFFFAOYSA-N\n",
      "- Chemical entities\n",
      "- Organic compounds\n",
      "- Phenylpropanoids and polyketides\n",
      "- Coumarins and derivatives\n",
      "- Coumarin glycosides\n",
      "\n",
      "riken_0389 HSHNITRMYYLLCV-UHFFFAOYSA-N\n",
      "- Chemical entities\n",
      "- Organic compounds\n",
      "- Phenylpropanoids and polyketides\n",
      "- Coumarins and derivatives\n",
      "- Hydroxycoumarins\n",
      "- 7-hydroxycoumarins\n",
      "\n",
      "riken_0404 HSHNITRMYYLLCV-UHFFFAOYSA-N\n",
      "- Chemical entities\n",
      "- Organic compounds\n",
      "- Phenylpropanoids and polyketides\n",
      "- Coumarins and derivatives\n",
      "- Hydroxycoumarins\n",
      "- 7-hydroxycoumarins\n",
      "\n",
      "ufz_0294 HSHNITRMYYLLCV-UHFFFAOYSA-N\n",
      "- Chemical entities\n",
      "- Organic compounds\n",
      "- Phenylpropanoids and polyketides\n",
      "- Coumarins and derivatives\n",
      "- Hydroxycoumarins\n",
      "- 7-hydroxycoumarins\n",
      "\n",
      "washington_1029 MXXWOMGUGJBKIW-UHFFFAOYSA-N\n",
      "- Chemical entities\n",
      "- Organic compounds\n",
      "- Alkaloids and derivatives\n",
      "- Alkaloids and derivatives\n",
      "\n",
      "eawag_0029 CXWYCAYNZXSHTF-UHFFFAOYSA-N\n",
      "- Chemical entities\n",
      "- Organic compounds\n",
      "- Organoheterocyclic compounds\n",
      "- Benzofurans\n",
      "- Benzofurans\n",
      "\n",
      "ufz_0303 YWWHKOHZGJFMIE-UHFFFAOYSA-N\n",
      "- Chemical entities\n",
      "- Organic compounds\n",
      "- Benzenoids\n",
      "- Benzene and substituted derivatives\n",
      "- Benzoic acids and derivatives\n",
      "- Benzoic acid esters\n",
      "\n",
      "washington_0408 ZCCUUQDIBDJBTK-UHFFFAOYSA-N\n",
      "- Chemical entities\n",
      "- Organic compounds\n",
      "- Phenylpropanoids and polyketides\n",
      "- Coumarins and derivatives\n",
      "- Furanocoumarins\n",
      "- Linear furanocoumarins\n",
      "- Psoralens\n",
      "\n",
      "eawag_0763 FLKPEMZONWLCSK-UHFFFAOYSA-N\n",
      "- Chemical entities\n",
      "- Organic compounds\n",
      "- Benzenoids\n",
      "- Benzene and substituted derivatives\n",
      "- Benzoic acids and derivatives\n",
      "- Benzoic acid esters\n",
      "\n",
      "fiocruz_0024 AIONOLUJZLIMTK-UHFFFAOYSA-N\n",
      "- Chemical entities\n",
      "- Organic compounds\n",
      "- Phenylpropanoids and polyketides\n",
      "- Flavonoids\n",
      "- O-methylated flavonoids\n",
      "- 4'-O-methylated flavonoids\n",
      "\n"
     ]
    }
   ],
   "source": [
    "print_m2m_taxonomy(1430)"
   ]
  },
  {
   "cell_type": "code",
   "execution_count": null,
   "metadata": {
    "collapsed": true
   },
   "outputs": [],
   "source": []
  }
 ],
 "metadata": {
  "anaconda-cloud": {},
  "kernelspec": {
   "display_name": "Python [default]",
   "language": "python",
   "name": "python2"
  },
  "language_info": {
   "codemirror_mode": {
    "name": "ipython",
    "version": 2
   },
   "file_extension": ".py",
   "mimetype": "text/x-python",
   "name": "python",
   "nbconvert_exporter": "python",
   "pygments_lexer": "ipython2",
   "version": "2.7.12"
  }
 },
 "nbformat": 4,
 "nbformat_minor": 1
}
