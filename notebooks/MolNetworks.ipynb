{
 "cells": [
  {
   "cell_type": "code",
   "execution_count": 15,
   "metadata": {},
   "outputs": [],
   "source": [
    "import sys\n",
    "sys.path.append('/Users/simon/git/lda/code/')"
   ]
  },
  {
   "cell_type": "code",
   "execution_count": 3,
   "metadata": {
    "collapsed": true
   },
   "outputs": [],
   "source": [
    "from ms2lda_feature_extraction import LoadMGF"
   ]
  },
  {
   "cell_type": "code",
   "execution_count": 4,
   "metadata": {
    "collapsed": true
   },
   "outputs": [],
   "source": [
    "mgf_file = '/Users/simon/Dropbox/MolecularNetworking_GCF-MF_Crusemann_Duncan/Crusemann_only_Clutered_Data/METABOLOMICS-SNETS-c36f90ba-download_clustered_spectra-main.mgf'"
   ]
  },
  {
   "cell_type": "code",
   "execution_count": 5,
   "metadata": {
    "collapsed": true
   },
   "outputs": [],
   "source": [
    "min_ms2_intensity = 25"
   ]
  },
  {
   "cell_type": "code",
   "execution_count": 6,
   "metadata": {},
   "outputs": [
    {
     "name": "stdout",
     "output_type": "stream",
     "text": [
      "Filtering MS2 on intensity\n",
      "85977 MS2 remaining\n"
     ]
    }
   ],
   "source": [
    "l = LoadMGF(min_ms2_intensity = 25)\n",
    "ms1,ms2,metadata = l.load_spectra([mgf_file])"
   ]
  },
  {
   "cell_type": "code",
   "execution_count": 9,
   "metadata": {},
   "outputs": [
    {
     "name": "stdout",
     "output_type": "stream",
     "text": [
      "The autoreload extension is already loaded. To reload it, use:\n",
      "  %reload_ext autoreload\n"
     ]
    }
   ],
   "source": [
    "%load_ext autoreload\n",
    "%autoreload 2"
   ]
  },
  {
   "cell_type": "code",
   "execution_count": 53,
   "metadata": {
    "collapsed": true
   },
   "outputs": [],
   "source": [
    "mols_as_dicts = {}\n",
    "for m in ms1:\n",
    "    mols_as_dicts[m] = []"
   ]
  },
  {
   "cell_type": "code",
   "execution_count": 54,
   "metadata": {
    "collapsed": true
   },
   "outputs": [],
   "source": [
    "for f in ms2:\n",
    "    m = f[3]\n",
    "    mols_as_dicts[m].append((f[0],f[2]))"
   ]
  },
  {
   "cell_type": "code",
   "execution_count": 55,
   "metadata": {
    "collapsed": true
   },
   "outputs": [],
   "source": [
    "for m in mols_as_dicts:\n",
    "    mols_as_dicts[m] = sorted(mols_as_dicts[m],key = lambda x: x[0])"
   ]
  },
  {
   "cell_type": "code",
   "execution_count": 56,
   "metadata": {
    "collapsed": true
   },
   "outputs": [],
   "source": [
    "for m in mols_as_dicts:\n",
    "    max_val = max([x[1] for x in mols_as_dicts[m]])\n",
    "    new_spec = []\n",
    "    for mz,i in mols_as_dicts[m]:\n",
    "        new_spec.append((mz,100.0*i/max_val))\n",
    "    mols_as_dicts[m] = new_spec"
   ]
  },
  {
   "cell_type": "code",
   "execution_count": 64,
   "metadata": {},
   "outputs": [
    {
     "name": "stdout",
     "output_type": "stream",
     "text": [
      "[(70.065002, 17.959884501514452),\n",
      " (71.083, 8.380019491923354),\n",
      " (88.047997, 11.474700005993064),\n",
      " (89.058998, 100.0),\n",
      " (116.959999, 16.04658413366725),\n",
      " (145.016998, 14.517389551453157),\n",
      " (147.979996, 13.275738792744098),\n",
      " (153.929993, 20.01196928033968),\n",
      " (160.988007, 55.55357463194191),\n",
      " (189.042999, 82.73532376727607),\n",
      " (204.007996, 9.252846027312762),\n",
      " (205.016006, 33.874898566351526)]\n",
      "[(70.065002, 17.959884501514452),\n",
      " (71.083, 8.380019491923354),\n",
      " (88.047997, 11.474700005993064),\n",
      " (89.058998, 100.0),\n",
      " (116.959999, 16.04658413366725),\n",
      " (145.016998, 14.517389551453157),\n",
      " (147.979996, 13.275738792744098),\n",
      " (153.929993, 20.01196928033968),\n",
      " (160.988007, 55.55357463194191),\n",
      " (189.042999, 82.73532376727607),\n",
      " (204.007996, 9.252846027312762),\n",
      " (205.016006, 33.874898566351526)]\n",
      "1.0\n"
     ]
    }
   ],
   "source": [
    "from mol_networks import modified_cosine\n",
    "c = modified_cosine(mols_as_dicts[ms1[0]],mols_as_dicts[ms1[0]],tol = 0.3)\n",
    "print c"
   ]
  },
  {
   "cell_type": "code",
   "execution_count": 34,
   "metadata": {},
   "outputs": [
    {
     "data": {
      "text/plain": [
       "32499"
      ]
     },
     "execution_count": 34,
     "metadata": {},
     "output_type": "execute_result"
    }
   ],
   "source": [
    "471*69"
   ]
  },
  {
   "cell_type": "code",
   "execution_count": null,
   "metadata": {
    "collapsed": true
   },
   "outputs": [],
   "source": []
  }
 ],
 "metadata": {
  "kernelspec": {
   "display_name": "Python 2",
   "language": "python",
   "name": "python2"
  },
  "language_info": {
   "codemirror_mode": {
    "name": "ipython",
    "version": 2
   },
   "file_extension": ".py",
   "mimetype": "text/x-python",
   "name": "python",
   "nbconvert_exporter": "python",
   "pygments_lexer": "ipython2",
   "version": "2.7.10"
  }
 },
 "nbformat": 4,
 "nbformat_minor": 2
}
