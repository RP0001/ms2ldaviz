{
 "cells": [
  {
   "cell_type": "code",
   "execution_count": 1,
   "metadata": {},
   "outputs": [],
   "source": [
    "import sys\n",
    "sys.path.append('/home/simon/git/lda/code/')"
   ]
  },
  {
   "cell_type": "code",
   "execution_count": 2,
   "metadata": {},
   "outputs": [],
   "source": [
    "from ms2lda_feature_extraction import LoadMGF"
   ]
  },
  {
   "cell_type": "code",
   "execution_count": 3,
   "metadata": {},
   "outputs": [],
   "source": [
    "mgf_file = '/home/simon/Dropbox/MolecularNetworking_GCF-MF_Crusemann_Duncan/Crusemann_only_Clutered_Data/METABOLOMICS-SNETS-c36f90ba-download_clustered_spectra-main.mgf'"
   ]
  },
  {
   "cell_type": "code",
   "execution_count": 4,
   "metadata": {},
   "outputs": [],
   "source": [
    "min_ms2_intensity = 25"
   ]
  },
  {
   "cell_type": "code",
   "execution_count": 5,
   "metadata": {},
   "outputs": [
    {
     "name": "stdout",
     "output_type": "stream",
     "text": [
      "Filtering MS2 on intensity\n",
      "85977 MS2 remaining\n"
     ]
    }
   ],
   "source": [
    "l = LoadMGF(min_ms2_intensity = 25)\n",
    "ms1,ms2,metadata = l.load_spectra([mgf_file])"
   ]
  },
  {
   "cell_type": "code",
   "execution_count": 6,
   "metadata": {},
   "outputs": [],
   "source": [
    "%load_ext autoreload\n",
    "%autoreload 2"
   ]
  },
  {
   "cell_type": "code",
   "execution_count": 56,
   "metadata": {},
   "outputs": [],
   "source": [
    "mols_as_dicts = {}\n",
    "for m in ms1:\n",
    "    mols_as_dicts[m.name] = []"
   ]
  },
  {
   "cell_type": "code",
   "execution_count": 57,
   "metadata": {},
   "outputs": [],
   "source": [
    "for f in ms2:\n",
    "    m = f[3]\n",
    "    mols_as_dicts[m.name].append((f[0],f[2]))"
   ]
  },
  {
   "cell_type": "code",
   "execution_count": 58,
   "metadata": {},
   "outputs": [],
   "source": [
    "for m in mols_as_dicts:\n",
    "    mols_as_dicts[m] = sorted(mols_as_dicts[m],key = lambda x: x[0])"
   ]
  },
  {
   "cell_type": "code",
   "execution_count": 59,
   "metadata": {},
   "outputs": [],
   "source": [
    "for m in mols_as_dicts:\n",
    "    max_val = max([x[1] for x in mols_as_dicts[m]])\n",
    "    new_spec = []\n",
    "    for mz,i in mols_as_dicts[m]:\n",
    "        new_spec.append((mz,100.0*i/max_val))\n",
    "    mols_as_dicts[m] = new_spec"
   ]
  },
  {
   "cell_type": "code",
   "execution_count": 60,
   "metadata": {},
   "outputs": [],
   "source": [
    "parentmass = {}\n",
    "for m in ms1:\n",
    "    parentmass[m.name] = metadata[m.name].get('parentmass')"
   ]
  },
  {
   "cell_type": "markdown",
   "metadata": {},
   "source": [
    "Compute all the scores"
   ]
  },
  {
   "cell_type": "code",
   "execution_count": 61,
   "metadata": {},
   "outputs": [],
   "source": [
    "scores = []\n",
    "n_mols = len(ms1)\n",
    "import numpy as np\n"
   ]
  },
  {
   "cell_type": "code",
   "execution_count": null,
   "metadata": {},
   "outputs": [
    {
     "name": "stdout",
     "output_type": "stream",
     "text": [
      "100 5930\n",
      "200 5930\n",
      "300 5930\n",
      "400 5930\n"
     ]
    }
   ],
   "source": [
    "from spectrum_alignment import score_alignment\n",
    "tol = 0.02\n",
    "n_done = 0\n",
    "max_align = 0\n",
    "max_score = 0\n",
    "for i,m1 in enumerate(ms1[:-1]):\n",
    "    for j,m2 in enumerate(ms1[i+1:]):\n",
    "        score,alignment = score_alignment(mols_as_dicts[m1.name],mols_as_dicts[m2.name],parentmass[m1.name],parentmass[m2.name],tol)\n",
    "#         scoremat[i,j] = score\n",
    "#         n_matches[i,j] = len(alignment)\n",
    "        if len(alignment) > 0:\n",
    "            scores.append((m1.name,m2.name,score,len(alignment)))\n",
    "            if len(alignment) > max_align:\n",
    "                max_align = len(alignment)\n",
    "#                 print max_align\n",
    "            if score > max_score:\n",
    "                max_score = score\n",
    "#                 print max_score\n",
    "    n_done += 1\n",
    "    if n_done % 100 == 0:\n",
    "        print n_done,n_mols\n",
    "#         scores.append((m1,m2,score))\n",
    "    \n"
   ]
  },
  {
   "cell_type": "code",
   "execution_count": 64,
   "metadata": {},
   "outputs": [
    {
     "name": "stdout",
     "output_type": "stream",
     "text": [
      "('document_1', 'document_2', 0.0998928382327748, 1)\n"
     ]
    }
   ],
   "source": [
    "from mol_networks import create_edge_dict,Network\n",
    "min_frag_overlap = 6\n",
    "min_score = 0.5\n",
    "mnax_component_size = 100\n",
    "edge_dict = create_edge_dict(scores,min_frag_overlap = min_frag_overlap,min_score = min_score)\n",
    "network = Network(edge_dict)\n",
    "man_network = network.copy()\n",
    "man_network.top_k_filter(k=10)\n",
    "components = man_network.convert_to_components(max_component_size=max_component_size,min_score = min_score)"
   ]
  },
  {
   "cell_type": "code",
   "execution_count": 74,
   "metadata": {},
   "outputs": [
    {
     "name": "stdout",
     "output_type": "stream",
     "text": [
      "There are 23 components\n",
      "\n",
      "\n",
      "\n",
      "Network has 7 nodes\n",
      "document_252 (degree = 2)\t(document_251,0.659064319634) (document_211,0.685267732658)\n",
      "document_251 (degree = 6)\t(document_252,0.659064319634) (document_254,0.888682078758) (document_211,0.938789185647) (document_7,0.587784175877) (document_413,0.777971564404) (document_20,0.55787402163)\n",
      "document_254 (degree = 1)\t(document_251,0.888682078758)\n",
      "document_211 (degree = 2)\t(document_252,0.685267732658) (document_251,0.938789185647)\n",
      "document_7 (degree = 2)\t(document_251,0.587784175877) (document_20,0.864137009229)\n",
      "document_413 (degree = 1)\t(document_251,0.777971564404)\n",
      "document_20 (degree = 2)\t(document_251,0.55787402163) (document_7,0.864137009229)\n",
      "\n",
      "\n",
      "Network has 39 nodes\n",
      "document_257 (degree = 2)\t(document_262,0.819038374997) (document_261,0.842642128675)\n",
      "document_256 (degree = 3)\t(document_264,0.812746405727) (document_272,0.716736830346) (document_261,0.903914418288)\n",
      "document_397 (degree = 2)\t(document_292,0.650436116549) (document_404,0.664850954997)\n",
      "document_39 (degree = 2)\t(document_36,0.656324061454) (document_261,0.55708366312)\n",
      "document_30 (degree = 5)\t(document_43,0.630366871695) (document_28,0.912641082037) (document_33,0.696726130768) (document_80,0.62314708352) (document_404,0.627351806638)\n",
      "document_31 (degree = 1)\t(document_28,0.70103309959)\n",
      "document_33 (degree = 10)\t(document_389,0.542235957574) (document_43,0.628728443838) (document_130,0.521362159706) (document_28,0.563108769623) (document_292,0.579527622604) (document_30,0.696726130768) (document_401,0.591584651194) (document_418,0.641046832082) (document_36,0.65101862046) (document_261,0.607443842908)\n",
      "document_36 (degree = 3)\t(document_39,0.656324061454) (document_33,0.65101862046) (document_261,0.605837689862)\n",
      "document_37 (degree = 1)\t(document_390,0.558891404976)\n",
      "document_389 (degree = 4)\t(document_33,0.542235957574) (document_281,0.794054948313) (document_391,0.504986179049) (document_364,0.588941667306)\n",
      "document_127 (degree = 7)\t(document_129,0.582126371714) (document_80,0.539258065315) (document_130,0.642414840394) (document_390,0.640242852402) (document_292,0.52010730394) (document_26,0.530353222326) (document_404,0.562705315521)\n",
      "document_130 (degree = 7)\t(document_129,0.559698082573) (document_127,0.642414840394) (document_98,0.540654344897) (document_28,0.531742108931) (document_292,0.565581547916) (document_33,0.521362159706) (document_26,0.561654190739)\n",
      "document_410 (degree = 2)\t(document_390,0.647183256672) (document_418,0.552410886565)\n",
      "document_264 (degree = 2)\t(document_256,0.812746405727) (document_261,0.860256771768)\n",
      "document_262 (degree = 2)\t(document_257,0.819038374997) (document_261,0.831977967512)\n",
      "document_418 (degree = 8)\t(document_261,0.561713034128) (document_461,0.693289410928) (document_390,0.568561439898) (document_292,0.572063025821) (document_33,0.641046832082) (document_26,0.517875503979) (document_404,0.576736368984) (document_410,0.552410886565)\n",
      "document_261 (degree = 8)\t(document_257,0.842642128675) (document_256,0.903914418288) (document_39,0.55708366312) (document_264,0.860256771768) (document_33,0.607443842908) (document_262,0.831977967512) (document_418,0.561713034128) (document_36,0.605837689862)\n",
      "document_281 (degree = 2)\t(document_389,0.794054948313) (document_396,0.620416743984)\n",
      "document_307 (degree = 1)\t(document_292,0.594663122262)\n",
      "document_80 (degree = 2)\t(document_30,0.62314708352) (document_127,0.539258065315)\n",
      "document_364 (degree = 1)\t(document_389,0.588941667306)\n",
      "document_43 (degree = 2)\t(document_30,0.630366871695) (document_33,0.628728443838)\n",
      "document_356 (degree = 1)\t(document_396,0.698745416473)\n",
      "document_28 (degree = 7)\t(document_130,0.531742108931) (document_30,0.912641082037) (document_31,0.70103309959) (document_400,0.578439438175) (document_33,0.563108769623) (document_26,0.614725245182) (document_404,0.660190464948)\n",
      "document_129 (degree = 2)\t(document_127,0.582126371714) (document_130,0.559698082573)\n",
      "document_26 (degree = 9)\t(document_127,0.530353222326) (document_25,0.501951366793) (document_130,0.561654190739) (document_390,0.565102659792) (document_28,0.614725245182) (document_292,0.579201760379) (document_401,0.593225907599) (document_418,0.517875503979) (document_404,0.625617158847)\n",
      "document_25 (degree = 1)\t(document_26,0.501951366793)\n",
      "document_401 (degree = 3)\t(document_33,0.591584651194) (document_26,0.593225907599) (document_292,0.737993355919)\n",
      "document_98 (degree = 1)\t(document_130,0.540654344897)\n",
      "document_279 (degree = 1)\t(document_390,0.582685270428)\n",
      "document_461 (degree = 1)\t(document_418,0.693289410928)\n",
      "document_390 (degree = 6)\t(document_127,0.640242852402) (document_26,0.565102659792) (document_279,0.582685270428) (document_410,0.647183256672) (document_418,0.568561439898) (document_37,0.558891404976)\n",
      "document_391 (degree = 1)\t(document_389,0.504986179049)\n",
      "document_396 (degree = 2)\t(document_356,0.698745416473) (document_281,0.620416743984)\n",
      "document_292 (degree = 10)\t(document_307,0.594663122262) (document_33,0.579527622604) (document_127,0.52010730394) (document_26,0.579201760379) (document_130,0.565581547916) (document_397,0.650436116549) (document_402,0.729729487223) (document_401,0.737993355919) (document_418,0.572063025821) (document_404,0.847773463127)\n",
      "document_402 (degree = 1)\t(document_292,0.729729487223)\n",
      "document_400 (degree = 1)\t(document_28,0.578439438175)\n",
      "document_272 (degree = 1)\t(document_256,0.716736830346)\n",
      "document_404 (degree = 7)\t(document_127,0.562705315521) (document_26,0.625617158847) (document_28,0.660190464948) (document_397,0.664850954997) (document_30,0.627351806638) (document_418,0.576736368984) (document_292,0.847773463127)\n",
      "\n",
      "\n",
      "Network has 66 nodes\n",
      "document_370 (degree = 2)\t(document_366,0.684775665439) (document_329,0.717447404737)\n",
      "document_372 (degree = 2)\t(document_373,0.729895607683) (document_290,0.707248428308)\n",
      "document_373 (degree = 7)\t(document_372,0.729895607683) (document_367,0.707071731212) (document_300,0.705448799743) (document_334,0.595283774992) (document_359,0.771936366469) (document_358,0.737593428608) (document_290,0.711766012623)\n",
      "document_377 (degree = 6)\t(document_290,0.92556967211) (document_300,0.857226558914) (document_378,0.852233697976) (document_368,0.83082607261) (document_358,0.834560829744) (document_359,0.8079507604)\n",
      "document_334 (degree = 5)\t(document_378,0.891620608688) (document_373,0.595283774992) (document_300,0.871099979685) (document_358,0.741805669344) (document_290,0.814012327493)\n",
      "document_379 (degree = 5)\t(document_378,0.887836415365) (document_290,0.793374854651) (document_300,0.850421698763) (document_358,0.746247409631) (document_359,0.747346244578)\n",
      "document_52 (degree = 2)\t(document_13,0.647191044592) (document_19,0.509519749301)\n",
      "document_50 (degree = 3)\t(document_158,0.613668601067) (document_13,0.775330770239) (document_161,0.540625587112)\n",
      "document_13 (degree = 6)\t(document_158,0.773654516477) (document_161,0.606647928757) (document_52,0.647191044592) (document_50,0.775330770239) (document_70,0.653375504307) (document_427,0.634783112469)\n",
      "document_70 (degree = 1)\t(document_13,0.653375504307)\n",
      "document_383 (degree = 1)\t(document_382,0.898693902622)\n",
      "document_478 (degree = 1)\t(document_473,0.802552213376)\n",
      "document_495 (degree = 8)\t(document_483,0.72063257488) (document_445,0.748064516671) (document_441,0.802741151924) (document_499,0.856168445111) (document_429,0.813993181686) (document_468,0.686098748343) (document_432,0.947846491788) (document_431,0.568763556914)\n",
      "document_19 (degree = 4)\t(document_52,0.509519749301) (document_104,0.67078292511) (document_78,0.703083231097) (document_93,0.641593630643)\n",
      "document_78 (degree = 1)\t(document_19,0.703083231097)\n",
      "document_493 (degree = 2)\t(document_447,0.519417097574) (document_481,0.534219713398)\n",
      "document_300 (degree = 10)\t(document_373,0.705448799743) (document_367,0.727004799305) (document_377,0.857226558914) (document_334,0.871099979685) (document_379,0.850421698763) (document_368,0.73845621562) (document_378,0.910060101645) (document_358,0.939108428571) (document_290,0.926440658925) (document_359,0.821341409042)\n",
      "document_161 (degree = 3)\t(document_13,0.606647928757) (document_366,0.552818317332) (document_50,0.540625587112)\n",
      "document_458 (degree = 1)\t(document_457,0.591474291075)\n",
      "document_491 (degree = 4)\t(document_460,0.550643746603) (document_447,0.689330037827) (document_479,0.609833520386) (document_439,0.706920462863)\n",
      "document_381 (degree = 2)\t(document_378,0.860283532693) (document_382,0.922191960015)\n",
      "document_457 (degree = 6)\t(document_458,0.591474291075) (document_434,0.614657499851) (document_426,0.662695705868) (document_427,0.679596683274) (document_431,0.628625413024) (document_430,0.835721920912)\n",
      "document_382 (degree = 4)\t(document_378,0.841036868714) (document_381,0.922191960015) (document_62,0.783189692916) (document_383,0.898693902622)\n",
      "document_473 (degree = 3)\t(document_468,0.668120658609) (document_479,0.637841464772) (document_478,0.802552213376)\n",
      "document_378 (degree = 10)\t(document_367,0.736445821215) (document_300,0.910060101645) (document_377,0.852233697976) (document_334,0.891620608688) (document_379,0.887836415365) (document_359,0.855315608326) (document_381,0.860283532693) (document_382,0.841036868714) (document_358,0.835692113552) (document_290,0.902990188784)\n",
      "document_104 (degree = 1)\t(document_19,0.67078292511)\n",
      "document_476 (degree = 2)\t(document_479,0.611952851543) (document_439,0.659962115051)\n",
      "document_439 (degree = 10)\t(document_482,0.653012529496) (document_481,0.775688366545) (document_447,0.750128377906) (document_444,0.642706018204) (document_443,0.746614161194) (document_441,0.768446534368) (document_476,0.659962115051) (document_468,0.647387820261) (document_479,0.693741220861) (document_491,0.706920462863)\n",
      "document_436 (degree = 2)\t(document_426,0.730775766652) (document_154,0.872271485907)\n",
      "document_435 (degree = 1)\t(document_482,0.602512498328)\n",
      "document_434 (degree = 5)\t(document_426,0.607116327289) (document_427,0.708034481586) (document_431,0.669076457269) (document_457,0.614657499851) (document_430,0.654744930265)\n",
      "document_433 (degree = 5)\t(document_158,0.823393018993) (document_426,0.98450796307) (document_427,0.878297036888) (document_154,0.861064794738) (document_430,0.539012602207)\n",
      "document_432 (degree = 7)\t(document_483,0.670399985802) (document_445,0.749006488844) (document_441,0.730697280236) (document_468,0.595254883657) (document_429,0.826727731775) (document_495,0.947846491788) (document_431,0.538001978399)\n",
      "document_431 (degree = 8)\t(document_483,0.62424234151) (document_488,0.539375129201) (document_457,0.628625413024) (document_429,0.641842223773) (document_495,0.568763556914) (document_434,0.669076457269) (document_432,0.538001978399) (document_430,0.744732770588)\n",
      "document_430 (degree = 7)\t(document_427,0.587025211203) (document_488,0.506130342898) (document_457,0.835721920912) (document_426,0.528380893001) (document_434,0.654744930265) (document_433,0.539012602207) (document_431,0.744732770588)\n",
      "document_482 (degree = 8)\t(document_483,0.70702200612) (document_481,0.623446363339) (document_449,0.620151765419) (document_447,0.540353819803) (document_429,0.577668313541) (document_439,0.653012529496) (document_435,0.602512498328) (document_479,0.651028923593)\n",
      "document_368 (degree = 3)\t(document_290,0.807980253769) (document_300,0.73845621562) (document_377,0.83082607261)\n",
      "document_367 (degree = 5)\t(document_378,0.736445821215) (document_373,0.707071731212) (document_300,0.727004799305) (document_358,0.775106878605) (document_359,0.832788652219)\n",
      "document_366 (degree = 4)\t(document_161,0.552818317332) (document_370,0.684775665439) (document_329,0.816767938645) (document_358,0.739859285574)\n",
      "document_329 (degree = 3)\t(document_370,0.717447404737) (document_369,0.68731094062) (document_366,0.816767938645)\n",
      "document_499 (degree = 6)\t(document_483,0.661078885942) (document_488,0.537240123184) (document_441,0.690202989905) (document_468,0.585323688989) (document_429,0.753954701184) (document_495,0.856168445111)\n",
      "document_369 (degree = 1)\t(document_329,0.68731094062)\n",
      "document_359 (degree = 8)\t(document_373,0.771936366469) (document_367,0.832788652219) (document_300,0.821341409042) (document_377,0.8079507604) (document_378,0.855315608326) (document_379,0.747346244578) (document_358,0.852966591069) (document_290,0.806434759414)\n",
      "document_183 (degree = 1)\t(document_154,0.742726728326)\n",
      "document_62 (degree = 1)\t(document_382,0.783189692916)\n",
      "document_479 (degree = 8)\t(document_482,0.651028923593) (document_473,0.637841464772) (document_449,0.628096080338) (document_443,0.690886410285) (document_460,0.574996524582) (document_476,0.611952851543) (document_439,0.693741220861) (document_491,0.609833520386)\n",
      "document_158 (degree = 4)\t(document_13,0.773654516477) (document_426,0.844462920723) (document_433,0.823393018993) (document_50,0.613668601067)\n",
      "document_483 (degree = 9)\t(document_482,0.70702200612) (document_488,0.767246637545) (document_441,0.707260634575) (document_499,0.661078885942) (document_429,0.853279186361) (document_495,0.72063257488) (document_427,0.738701323693) (document_432,0.670399985802) (document_431,0.62424234151)\n",
      "document_481 (degree = 5)\t(document_482,0.623446363339) (document_447,0.685900901686) (document_439,0.775688366545) (document_493,0.534219713398) (document_441,0.69758638796)\n",
      "document_448 (degree = 1)\t(document_449,0.574875112656)\n",
      "document_449 (degree = 7)\t(document_482,0.620151765419) (document_448,0.574875112656) (document_443,0.625659182354) (document_441,0.673362808183) (document_460,0.524098551843) (document_468,0.688381700928) (document_479,0.628096080338)\n",
      "document_447 (degree = 7)\t(document_482,0.540353819803) (document_481,0.685900901686) (document_441,0.704473675065) (document_439,0.750128377906) (document_468,0.595642850676) (document_491,0.689330037827) (document_493,0.519417097574)\n",
      "document_488 (degree = 6)\t(document_483,0.767246637545) (document_499,0.537240123184) (document_429,0.770147334757) (document_427,0.638548114972) (document_431,0.539375129201) (document_430,0.506130342898)\n",
      "document_445 (degree = 3)\t(document_495,0.748064516671) (document_429,0.630347219798) (document_432,0.749006488844)\n",
      "document_154 (degree = 5)\t(document_183,0.742726728326) (document_426,0.868285296797) (document_427,0.766527275803) (document_433,0.861064794738) (document_436,0.872271485907)\n",
      "document_443 (degree = 4)\t(document_479,0.690886410285) (document_441,0.80198212391) (document_439,0.746614161194) (document_449,0.625659182354)\n",
      "document_441 (degree = 10)\t(document_483,0.707260634575) (document_481,0.69758638796) (document_449,0.673362808183) (document_447,0.704473675065) (document_443,0.80198212391) (document_468,0.791610425162) (document_499,0.690202989905) (document_439,0.768446534368) (document_495,0.802741151924) (document_432,0.730697280236)\n",
      "document_460 (degree = 3)\t(document_479,0.574996524582) (document_491,0.550643746603) (document_449,0.524098551843)\n",
      "document_429 (degree = 9)\t(document_482,0.577668313541) (document_483,0.853279186361) (document_488,0.770147334757) (document_445,0.630347219798) (document_499,0.753954701184) (document_495,0.813993181686) (document_427,0.640799903722) (document_432,0.826727731775) (document_431,0.641842223773)\n",
      "document_358 (degree = 10)\t(document_373,0.737593428608) (document_367,0.775106878605) (document_300,0.939108428571) (document_377,0.834560829744) (document_334,0.741805669344) (document_379,0.746247409631) (document_359,0.852966591069) (document_378,0.835692113552) (document_290,0.888053467158) (document_366,0.739859285574)\n",
      "document_290 (degree = 10)\t(document_372,0.707248428308) (document_373,0.711766012623) (document_300,0.926440658925) (document_377,0.92556967211) (document_334,0.814012327493) (document_379,0.793374854651) (document_368,0.807980253769) (document_378,0.902990188784) (document_358,0.888053467158) (document_359,0.806434759414)\n",
      "document_468 (degree = 8)\t(document_449,0.688381700928) (document_447,0.595642850676) (document_441,0.791610425162) (document_473,0.668120658609) (document_499,0.585323688989) (document_439,0.647387820261) (document_495,0.686098748343) (document_432,0.595254883657)\n",
      "document_93 (degree = 1)\t(document_19,0.641593630643)\n",
      "document_426 (degree = 8)\t(document_158,0.844462920723) (document_427,0.865491971361) (document_154,0.868285296797) (document_457,0.662695705868) (document_436,0.730775766652) (document_434,0.607116327289) (document_433,0.98450796307) (document_430,0.528380893001)\n",
      "document_427 (degree = 10)\t(document_483,0.738701323693) (document_488,0.638548114972) (document_154,0.766527275803) (document_457,0.679596683274) (document_13,0.634783112469) (document_429,0.640799903722) (document_426,0.865491971361) (document_434,0.708034481586) (document_433,0.878297036888) (document_430,0.587025211203)\n",
      "document_444 (degree = 1)\t(document_439,0.642706018204)\n",
      "\n",
      "\n",
      "Network has 4 nodes\n",
      "document_149 (degree = 2)\t(document_145,0.631174203019) (document_144,0.571912072528)\n",
      "document_146 (degree = 1)\t(document_144,0.605511295302)\n",
      "document_145 (degree = 1)\t(document_149,0.631174203019)\n",
      "document_144 (degree = 2)\t(document_149,0.571912072528) (document_146,0.605511295302)\n",
      "\n",
      "\n",
      "Network has 1 nodes\n",
      "document_492 (degree = 0)\t\n",
      "\n",
      "\n",
      "Network has 2 nodes\n",
      "document_3 (degree = 1)\t(document_100,0.649296299183)\n",
      "document_100 (degree = 1)\t(document_3,0.649296299183)\n",
      "\n",
      "\n",
      "Network has 2 nodes\n",
      "document_5 (degree = 1)\t(document_6,0.939859026043)\n",
      "document_6 (degree = 1)\t(document_5,0.939859026043)\n",
      "\n",
      "\n",
      "Network has 2 nodes\n",
      "document_159 (degree = 1)\t(document_234,0.726616753622)\n",
      "document_234 (degree = 1)\t(document_159,0.726616753622)\n",
      "\n",
      "\n",
      "Network has 2 nodes\n",
      "document_464 (degree = 1)\t(document_466,0.918819532387)\n",
      "document_466 (degree = 1)\t(document_464,0.918819532387)\n",
      "\n",
      "\n",
      "Network has 2 nodes\n",
      "document_215 (degree = 1)\t(document_34,0.865206876404)\n",
      "document_34 (degree = 1)\t(document_215,0.865206876404)\n",
      "\n",
      "\n",
      "Network has 5 nodes\n",
      "document_168 (degree = 2)\t(document_347,0.569072590994) (document_180,0.65149369348)\n",
      "document_201 (degree = 1)\t(document_180,0.667934438351)\n",
      "document_388 (degree = 1)\t(document_347,0.660925421515)\n",
      "document_347 (degree = 2)\t(document_168,0.569072590994) (document_388,0.660925421515)\n",
      "document_180 (degree = 2)\t(document_168,0.65149369348) (document_201,0.667934438351)\n",
      "\n",
      "\n",
      "Network has 4 nodes\n",
      "document_385 (degree = 2)\t(document_354,0.606496622288) (document_346,0.640610785984)\n",
      "document_354 (degree = 3)\t(document_385,0.606496622288) (document_355,0.752229423851) (document_346,0.890232120482)\n",
      "document_355 (degree = 2)\t(document_354,0.752229423851) (document_346,0.738667706968)\n",
      "document_346 (degree = 3)\t(document_385,0.640610785984) (document_354,0.890232120482) (document_355,0.738667706968)\n",
      "\n",
      "\n",
      "Network has 2 nodes\n",
      "document_204 (degree = 1)\t(document_206,0.613514526239)\n",
      "document_206 (degree = 1)\t(document_204,0.613514526239)\n",
      "\n",
      "\n",
      "Network has 3 nodes\n",
      "document_177 (degree = 2)\t(document_178,0.776074660038) (document_179,0.785060517389)\n",
      "document_178 (degree = 1)\t(document_177,0.776074660038)\n",
      "document_179 (degree = 1)\t(document_177,0.785060517389)\n",
      "\n",
      "\n",
      "Network has 2 nodes\n",
      "document_217 (degree = 1)\t(document_239,0.679062744273)\n",
      "document_239 (degree = 1)\t(document_217,0.679062744273)\n",
      "\n",
      "\n",
      "Network has 2 nodes\n",
      "document_213 (degree = 1)\t(document_182,0.75541447565)\n",
      "document_182 (degree = 1)\t(document_213,0.75541447565)\n",
      "\n",
      "\n",
      "Network has 2 nodes\n",
      "document_165 (degree = 1)\t(document_164,0.707269461692)\n",
      "document_164 (degree = 1)\t(document_165,0.707269461692)\n",
      "\n",
      "\n",
      "Network has 1 nodes\n",
      "document_454 (degree = 0)\t\n",
      "\n",
      "\n",
      "Network has 2 nodes\n",
      "document_284 (degree = 1)\t(document_285,0.663710063823)\n",
      "document_285 (degree = 1)\t(document_284,0.663710063823)\n",
      "\n",
      "\n",
      "Network has 3 nodes\n",
      "document_286 (degree = 2)\t(document_287,0.611092587161) (document_289,0.59229470655)\n",
      "document_287 (degree = 1)\t(document_286,0.611092587161)\n",
      "document_289 (degree = 1)\t(document_286,0.59229470655)\n",
      "\n",
      "\n",
      "Network has 2 nodes\n",
      "document_297 (degree = 1)\t(document_282,0.608410600478)\n",
      "document_282 (degree = 1)\t(document_297,0.608410600478)\n",
      "\n",
      "\n",
      "Network has 2 nodes\n",
      "document_92 (degree = 1)\t(document_110,0.946692455511)\n",
      "document_110 (degree = 1)\t(document_92,0.946692455511)\n",
      "\n",
      "\n",
      "Network has 1 nodes\n",
      "document_76 (degree = 0)\t\n",
      "\n"
     ]
    }
   ],
   "source": [
    "print \"There are {} components\".format(len(components))\n",
    "print\n",
    "print\n",
    "for component in components:\n",
    "    print\n",
    "    print component"
   ]
  },
  {
   "cell_type": "code",
   "execution_count": 75,
   "metadata": {},
   "outputs": [],
   "source": [
    "import csv\n",
    "with open('crusemann_edges.csv','w') as f:\n",
    "    writer = csv.writer(f)\n",
    "    network.write_network(writer,heads = True)"
   ]
  },
  {
   "cell_type": "code",
   "execution_count": 76,
   "metadata": {},
   "outputs": [],
   "source": [
    "with open('crusemann_components.csv','w') as f:\n",
    "    writer = csv.writer(f)\n",
    "    for i,component in enumerate(components):\n",
    "        if i==0:\n",
    "            heads = True\n",
    "        else:\n",
    "            heads = False\n",
    "        component.write_network(writer,heads = heads)"
   ]
  },
  {
   "cell_type": "code",
   "execution_count": null,
   "metadata": {},
   "outputs": [],
   "source": []
  }
 ],
 "metadata": {
  "kernelspec": {
   "display_name": "Python 2",
   "language": "python",
   "name": "python2"
  },
  "language_info": {
   "codemirror_mode": {
    "name": "ipython",
    "version": 2
   },
   "file_extension": ".py",
   "mimetype": "text/x-python",
   "name": "python",
   "nbconvert_exporter": "python",
   "pygments_lexer": "ipython2",
   "version": "2.7.14"
  }
 },
 "nbformat": 4,
 "nbformat_minor": 2
}
