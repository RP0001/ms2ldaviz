{
 "cells": [
  {
   "cell_type": "markdown",
   "metadata": {},
   "source": [
    "Initial attempt at running MS2LDA for Emma's data\n",
    "==\n",
    "\n",
    "Using a nominal feature extractor -- features within +-0.3Da of N, where N is an integer are considered as being part of the feature 'loss_N' or 'fragment_N'"
   ]
  },
  {
   "cell_type": "code",
   "execution_count": 18,
   "metadata": {
    "collapsed": false
   },
   "outputs": [
    {
     "name": "stdout",
     "output_type": "stream",
     "text": [
      "The autoreload extension is already loaded. To reload it, use:\n",
      "  %reload_ext autoreload\n"
     ]
    }
   ],
   "source": [
    "import sys\n",
    "sys.path.append('/Users/simon/git/lda/code/')\n",
    "%load_ext autoreload\n",
    "%autoreload 2"
   ]
  },
  {
   "cell_type": "markdown",
   "metadata": {},
   "source": [
    "Do the feature extraction, use the Emma Loader and a Nominal feature extraction"
   ]
  },
  {
   "cell_type": "code",
   "execution_count": 19,
   "metadata": {
    "collapsed": false
   },
   "outputs": [
    {
     "name": "stdout",
     "output_type": "stream",
     "text": [
      "Loader for Emma data format\n",
      "Nominal feature extractor, bin_width = 0.3\n",
      "Loading spectra\n",
      "Creating corpus\n"
     ]
    }
   ],
   "source": [
    "from ms2lda_feature_extraction import MS2LDAFeatureExtractor,LoadEmma,MakeNominalFeatures\n",
    "min_intensity = 1.0\n",
    "input_set = ['/Users/simon/Dropbox/BioResearch/Meta_clustering/MS2LDA/Emma_Test_Data/PosMode_mzMLfiles/100309_pos_micropoll_28_a.mzML']\n",
    "loader = LoadEmma()\n",
    "corpus_maker = MakeNominalFeatures(min_intensity = min_intensity)\n",
    "fe = MS2LDAFeatureExtractor(input_set,loader,corpus_maker)"
   ]
  },
  {
   "cell_type": "markdown",
   "metadata": {},
   "source": [
    "Create the LDA object and run 100 iterations"
   ]
  },
  {
   "cell_type": "code",
   "execution_count": 14,
   "metadata": {
    "collapsed": false
   },
   "outputs": [
    {
     "name": "stdout",
     "output_type": "stream",
     "text": [
      "Found 1005 unique words\n",
      "Object created with 1458 documents\n",
      "Normalising intensities\n"
     ]
    }
   ],
   "source": [
    "from lda import VariationalLDA\n",
    "vlda = VariationalLDA(corpus = fe.corpus[fe.corpus.keys()[0]],K = 200,normalise = 1000)"
   ]
  },
  {
   "cell_type": "code",
   "execution_count": 15,
   "metadata": {
    "collapsed": false
   },
   "outputs": [
    {
     "name": "stdout",
     "output_type": "stream",
     "text": [
      "Initialising\n",
      "Starting iterations\n",
      "Iteration 0 (change = 251.06079549) (2.73689 seconds, I think I'll finish in 4.56148333333 minutes)\n",
      "Iteration 1 (change = 7.5361101772) (2.675896 seconds, I think I'll finish in 4.4152284 minutes)\n",
      "Iteration 2 (change = 10.2348345319) (2.701214 seconds, I think I'll finish in 4.41198286667 minutes)\n",
      "Iteration 3 (change = 13.3826065046) (2.669945 seconds, I think I'll finish in 4.31641108333 minutes)\n",
      "Iteration 4 (change = 18.8028982114) (2.678876 seconds, I think I'll finish in 4.2862016 minutes)\n",
      "Iteration 5 (change = 28.0543484386) (2.663664 seconds, I think I'll finish in 4.217468 minutes)\n",
      "Iteration 6 (change = 40.1071812313) (2.657103 seconds, I think I'll finish in 4.1627947 minutes)\n",
      "Iteration 7 (change = 48.7962677667) (2.696929 seconds, I think I'll finish in 4.18023995 minutes)\n",
      "Iteration 8 (change = 48.9572121376) (2.932921 seconds, I think I'll finish in 4.49714553333 minutes)\n",
      "Iteration 9 (change = 43.7125219814) (3.109543 seconds, I think I'll finish in 4.71614021667 minutes)\n",
      "Iteration 10 (change = 37.5231472494) (3.023941 seconds, I think I'll finish in 4.5359115 minutes)\n",
      "Iteration 11 (change = 31.9151903762) (3.009558 seconds, I think I'll finish in 4.4641777 minutes)\n",
      "Iteration 12 (change = 27.3951553324) (3.027835 seconds, I think I'll finish in 4.44082466667 minutes)\n",
      "Iteration 13 (change = 23.939372799) (3.148968 seconds, I think I'll finish in 4.5660036 minutes)\n",
      "Iteration 14 (change = 21.0209744728) (2.937599 seconds, I think I'll finish in 4.21055856667 minutes)\n",
      "Iteration 15 (change = 18.3998461688) (2.964729 seconds, I think I'll finish in 4.20003275 minutes)\n",
      "Iteration 16 (change = 16.1654367614) (2.981053 seconds, I think I'll finish in 4.1734742 minutes)\n",
      "Iteration 17 (change = 14.2240374697) (3.032331 seconds, I think I'll finish in 4.19472455 minutes)\n",
      "Iteration 18 (change = 12.6033949746) (2.968946 seconds, I think I'll finish in 4.05755953333 minutes)\n",
      "Iteration 19 (change = 11.2521019495) (2.953135 seconds, I think I'll finish in 3.98673225 minutes)\n",
      "Iteration 20 (change = 10.0695155517) (3.009061 seconds, I think I'll finish in 4.01208133333 minutes)\n",
      "Iteration 21 (change = 9.01679707019) (3.033728 seconds, I think I'll finish in 3.99440853333 minutes)\n",
      "Iteration 22 (change = 8.11988655478) (3.025852 seconds, I think I'll finish in 3.9336076 minutes)\n",
      "Iteration 23 (change = 7.40671843246) (2.951327 seconds, I think I'll finish in 3.78753631667 minutes)\n",
      "Iteration 24 (change = 6.81468975961) (2.939065 seconds, I think I'll finish in 3.72281566667 minutes)\n",
      "Iteration 25 (change = 6.28389610779) (2.982234 seconds, I think I'll finish in 3.7277925 minutes)\n",
      "Iteration 26 (change = 5.80129269092) (2.965005 seconds, I think I'll finish in 3.6568395 minutes)\n",
      "Iteration 27 (change = 5.36457665076) (3.31901 seconds, I think I'll finish in 4.03812883333 minutes)\n",
      "Iteration 28 (change = 4.95001168449) (3.798324 seconds, I think I'll finish in 4.5579888 minutes)\n",
      "Iteration 29 (change = 4.55604873831) (3.110456 seconds, I think I'll finish in 3.68070626667 minutes)\n",
      "Iteration 30 (change = 4.21691975228) (3.034538 seconds, I think I'll finish in 3.54029433333 minutes)\n",
      "Iteration 31 (change = 3.93894415168) (3.290112 seconds, I think I'll finish in 3.7836288 minutes)\n",
      "Iteration 32 (change = 3.68146117625) (3.372103 seconds, I think I'll finish in 3.82171673333 minutes)\n",
      "Iteration 33 (change = 3.42587876893) (3.11786 seconds, I think I'll finish in 3.48161033333 minutes)\n",
      "Iteration 34 (change = 3.20918668495) (3.032432 seconds, I think I'll finish in 3.3356752 minutes)\n",
      "Iteration 35 (change = 3.02387984893) (2.953449 seconds, I think I'll finish in 3.19956975 minutes)\n",
      "Iteration 36 (change = 2.86548498633) (2.986798 seconds, I think I'll finish in 3.18591786667 minutes)\n",
      "Iteration 37 (change = 2.72183290087) (3.277317 seconds, I think I'll finish in 3.44118285 minutes)\n",
      "Iteration 38 (change = 2.58154702379) (3.711848 seconds, I think I'll finish in 3.83557626667 minutes)\n",
      "Iteration 39 (change = 2.43504287093) (3.287634 seconds, I think I'll finish in 3.3424279 minutes)\n",
      "Iteration 40 (change = 2.2960747104) (2.95231 seconds, I think I'll finish in 2.95231 minutes)\n",
      "Iteration 41 (change = 2.18723549287) (3.028901 seconds, I think I'll finish in 2.97841931667 minutes)\n",
      "Iteration 42 (change = 2.09889573305) (3.034768 seconds, I think I'll finish in 2.93360906667 minutes)\n",
      "Iteration 43 (change = 2.01342399956) (3.027151 seconds, I think I'll finish in 2.87579345 minutes)\n",
      "Iteration 44 (change = 1.91978217392) (3.06426 seconds, I think I'll finish in 2.859976 minutes)\n",
      "Iteration 45 (change = 1.83097549693) (3.073207 seconds, I think I'll finish in 2.81710641667 minutes)\n",
      "Iteration 46 (change = 1.7631912209) (3.076964 seconds, I think I'll finish in 2.7692676 minutes)\n",
      "Iteration 47 (change = 1.71935536617) (3.037354 seconds, I think I'll finish in 2.68299603333 minutes)\n",
      "Iteration 48 (change = 1.67040651977) (3.035258 seconds, I think I'll finish in 2.63055693333 minutes)\n",
      "Iteration 49 (change = 1.59876492335) (3.045087 seconds, I think I'll finish in 2.58832395 minutes)\n",
      "Iteration 50 (change = 1.54022934798) (2.992184 seconds, I think I'll finish in 2.49348666667 minutes)\n",
      "Iteration 51 (change = 1.49991665564) (3.052755 seconds, I think I'll finish in 2.49308325 minutes)\n",
      "Iteration 52 (change = 1.45038444717) (3.082959 seconds, I think I'll finish in 2.4663672 minutes)\n",
      "Iteration 53 (change = 1.39449228961) (3.07585 seconds, I think I'll finish in 2.40941583333 minutes)\n",
      "Iteration 54 (change = 1.34513965992) (3.168996 seconds, I think I'll finish in 2.4295636 minutes)\n",
      "Iteration 55 (change = 1.28995274977) (3.159689 seconds, I think I'll finish in 2.36976675 minutes)\n",
      "Iteration 56 (change = 1.24693579258) (3.064948 seconds, I think I'll finish in 2.24762853333 minutes)\n",
      "Iteration 57 (change = 1.2202627204) (3.454147 seconds, I think I'll finish in 2.47547201667 minutes)\n",
      "Iteration 58 (change = 1.19485563397) (3.692695 seconds, I think I'll finish in 2.5848865 minutes)\n",
      "Iteration 59 (change = 1.16529190242) (3.709427 seconds, I think I'll finish in 2.53477511667 minutes)\n",
      "Iteration 60 (change = 1.13441365551) (3.249456 seconds, I think I'll finish in 2.166304 minutes)\n",
      "Iteration 61 (change = 1.11670863349) (3.085662 seconds, I think I'll finish in 2.0056803 minutes)\n",
      "Iteration 62 (change = 1.09102859984) (3.470565 seconds, I think I'll finish in 2.1980245 minutes)\n",
      "Iteration 63 (change = 1.02447506327) (3.00818 seconds, I think I'll finish in 1.85504433333 minutes)\n",
      "Iteration 64 (change = 0.965997919603) (3.053036 seconds, I think I'll finish in 1.8318216 minutes)\n",
      "Iteration 65 (change = 0.932839371029) (3.05232 seconds, I think I'll finish in 1.78052 minutes)\n",
      "Iteration 66 (change = 0.909991388457) (3.010527 seconds, I think I'll finish in 1.7059653 minutes)\n",
      "Iteration 67 (change = 0.882679771339) (3.047541 seconds, I think I'll finish in 1.67614755 minutes)\n",
      "Iteration 68 (change = 0.856552553633) (2.985523 seconds, I think I'll finish in 1.59227893333 minutes)\n",
      "Iteration 69 (change = 0.833807375913) (3.317841 seconds, I think I'll finish in 1.71421785 minutes)\n",
      "Iteration 70 (change = 0.813133079186) (3.622525 seconds, I think I'll finish in 1.8112625 minutes)\n",
      "Iteration 71 (change = 0.793329781001) (3.93856 seconds, I think I'll finish in 1.90363733333 minutes)\n",
      "Iteration 72 (change = 0.769701448653) (3.013891 seconds, I think I'll finish in 1.40648246667 minutes)\n",
      "Iteration 73 (change = 0.740165164842) (3.045549 seconds, I think I'll finish in 1.37049705 minutes)\n",
      "Iteration 74 (change = 0.715566230542) (3.579091 seconds, I think I'll finish in 1.55093943333 minutes)\n",
      "Iteration 75 (change = 0.702972383814) (3.484689 seconds, I think I'll finish in 1.45195375 minutes)\n",
      "Iteration 76 (change = 0.687588745716) (3.946817 seconds, I think I'll finish in 1.5787268 minutes)\n",
      "Iteration 77 (change = 0.665533193913) (3.562813 seconds, I think I'll finish in 1.36574498333 minutes)\n",
      "Iteration 78 (change = 0.654521945933) (3.830255 seconds, I think I'll finish in 1.40442683333 minutes)\n",
      "Iteration 79 (change = 0.644746190916) (3.224827 seconds, I think I'll finish in 1.12868945 minutes)\n",
      "Iteration 80 (change = 0.628147238592) (3.176575 seconds, I think I'll finish in 1.05885833333 minutes)\n",
      "Iteration 81 (change = 0.619455123837) (3.514248 seconds, I think I'll finish in 1.1128452 minutes)\n",
      "Iteration 82 (change = 0.623271323615) (3.250734 seconds, I think I'll finish in 0.9752202 minutes)\n",
      "Iteration 83 (change = 0.631595198461) (3.104369 seconds, I think I'll finish in 0.879571216667 minutes)\n",
      "Iteration 84 (change = 0.629402827771) (3.166168 seconds, I think I'll finish in 0.844311466667 minutes)\n",
      "Iteration 85 (change = 0.611392789061) (3.126474 seconds, I think I'll finish in 0.7816185 minutes)\n",
      "Iteration 86 (change = 0.59706364237) (3.133665 seconds, I think I'll finish in 0.7311885 minutes)\n",
      "Iteration 87 (change = 0.591759180821) (3.077033 seconds, I think I'll finish in 0.666690483333 minutes)\n",
      "Iteration 88 (change = 0.5864037711) (3.098347 seconds, I think I'll finish in 0.6196694 minutes)\n",
      "Iteration 89 (change = 0.576562421625) (3.013953 seconds, I think I'll finish in 0.55255805 minutes)\n",
      "Iteration 90 (change = 0.566524066286) (3.006111 seconds, I think I'll finish in 0.5010185 minutes)\n",
      "Iteration 91 (change = 0.56005797222) (3.070418 seconds, I think I'll finish in 0.4605627 minutes)\n",
      "Iteration 92 (change = 0.553286333084) (3.07881 seconds, I think I'll finish in 0.410508 minutes)\n",
      "Iteration 93 (change = 0.538228864214) (3.136001 seconds, I think I'll finish in 0.365866783333 minutes)\n",
      "Iteration 94 (change = 0.518634958139) (3.081214 seconds, I think I'll finish in 0.3081214 minutes)\n",
      "Iteration 95 (change = 0.509437984641) (3.070876 seconds, I think I'll finish in 0.255906333333 minutes)\n",
      "Iteration 96 (change = 0.501684782288) (3.024115 seconds, I think I'll finish in 0.201607666667 minutes)\n",
      "Iteration 97 (change = 0.493823941562) (3.053132 seconds, I think I'll finish in 0.1526566 minutes)\n",
      "Iteration 98 (change = 0.484838176295) (3.000736 seconds, I think I'll finish in 0.100024533333 minutes)\n",
      "Iteration 99 (change = 0.474197952647) (2.988044 seconds, I think I'll finish in 0.0498007333333 minutes)\n"
     ]
    }
   ],
   "source": [
    "vlda.run_vb(n_its = 100,initialise = True)"
   ]
  },
  {
   "cell_type": "code",
   "execution_count": 17,
   "metadata": {
    "collapsed": false
   },
   "outputs": [],
   "source": []
  },
  {
   "cell_type": "code",
   "execution_count": null,
   "metadata": {
    "collapsed": true
   },
   "outputs": [],
   "source": []
  }
 ],
 "metadata": {
  "kernelspec": {
   "display_name": "Python 2",
   "language": "python",
   "name": "python2"
  },
  "language_info": {
   "codemirror_mode": {
    "name": "ipython",
    "version": 2
   },
   "file_extension": ".py",
   "mimetype": "text/x-python",
   "name": "python",
   "nbconvert_exporter": "python",
   "pygments_lexer": "ipython2",
   "version": "2.7.10"
  }
 },
 "nbformat": 4,
 "nbformat_minor": 1
}
